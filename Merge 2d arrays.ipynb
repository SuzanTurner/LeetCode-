{
 "cells": [
  {
   "cell_type": "code",
   "execution_count": 2,
   "id": "e407f61a-236e-4a1a-931c-89061272597d",
   "metadata": {},
   "outputs": [],
   "source": [
    "from typing import List"
   ]
  },
  {
   "cell_type": "code",
   "execution_count": 36,
   "id": "bb98d5fa-a1cd-4f49-a310-3c4d598fc5cd",
   "metadata": {},
   "outputs": [
    {
     "name": "stdout",
     "output_type": "stream",
     "text": [
      "id matched, id is 0\n",
      "[[1, 6], [1, 2], [2, 3], [4, 5]]\n"
     ]
    }
   ],
   "source": [
    "class Solution:\n",
    "    def mergeArrays(self, nums1: List[List[int]], nums2: List[List[int]]) -> List[List[int]]:\n",
    "        a = 0\n",
    "        s = []\n",
    "        c = 0\n",
    "        for i in range(len(nums1)):\n",
    "            c = 0\n",
    "            for j in range(len(nums2)):\n",
    "                if nums1[i][0] == nums2[j][0]:\n",
    "                    print(\"id matched, id is\", i)\n",
    "                    a = nums1[i][1] + nums2[j][1]\n",
    "                    s.append([nums1[i][0], a])\n",
    "                else:\n",
    "                    s.append(nums1[i]) \n",
    "                    c += 1\n",
    "                    if c > 0:\n",
    "                        break\n",
    "        return s\n",
    "\n",
    "sol = Solution()\n",
    "nums1 = [[1,2],[2,3],[4,5]]\n",
    "nums2 = [[1,4],[3,2],[4,1]]\n",
    "result = sol.mergeArrays(nums1, nums2)\n",
    "print(result)\n"
   ]
  },
  {
   "cell_type": "code",
   "execution_count": 32,
   "id": "66110c53-ed37-4ded-9ecd-358170edf82f",
   "metadata": {},
   "outputs": [
    {
     "name": "stdout",
     "output_type": "stream",
     "text": [
      "None\n"
     ]
    }
   ],
   "source": [
    "class Solution:\n",
    "    def mergeArrays(self, nums1: List[List[int]], nums2: List[List[int]]) -> List[List[int]]:\n",
    "        a = 0\n",
    "        s = []\n",
    "        for i in range(len(nums1)):\n",
    "            if nums1[i] in nums2[i]:\n",
    "                print(\"Present\")\n",
    "\n",
    "sol = Solution()\n",
    "nums1 = [[1,2],[2,3],[4,5]]\n",
    "nums2 = [[1,4],[3,2],[4,1]]\n",
    "result = sol.mergeArrays(nums1, nums2)\n",
    "print(result)\n"
   ]
  },
  {
   "cell_type": "code",
   "execution_count": null,
   "id": "5561aef2-75c9-4547-9522-7794d16dae44",
   "metadata": {},
   "outputs": [],
   "source": []
  }
 ],
 "metadata": {
  "kernelspec": {
   "display_name": "Python 3 (ipykernel)",
   "language": "python",
   "name": "python3"
  },
  "language_info": {
   "codemirror_mode": {
    "name": "ipython",
    "version": 3
   },
   "file_extension": ".py",
   "mimetype": "text/x-python",
   "name": "python",
   "nbconvert_exporter": "python",
   "pygments_lexer": "ipython3",
   "version": "3.12.6"
  }
 },
 "nbformat": 4,
 "nbformat_minor": 5
}
