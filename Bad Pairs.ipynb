{
 "cells": [
  {
   "cell_type": "code",
   "execution_count": 1,
   "id": "3598c244-b7b8-4573-ac2e-4accf962b191",
   "metadata": {},
   "outputs": [],
   "source": [
    "from typing import List"
   ]
  },
  {
   "cell_type": "code",
   "execution_count": 17,
   "id": "fc993534-e7f2-40bc-bdac-4211a1910b24",
   "metadata": {},
   "outputs": [
    {
     "name": "stdout",
     "output_type": "stream",
     "text": [
      "pair is 0 1\n",
      "pair is 0 2\n",
      "pair is 0 3\n",
      "pair is 1 2\n",
      "pair is 1 3\n",
      "pair is 2 3\n",
      "5\n"
     ]
    }
   ],
   "source": [
    "class Solution:\n",
    "    def countBadPairs(self, nums: List[int]) -> int:\n",
    "        bad_pair = 0\n",
    "        if len(nums) > 10**5:\n",
    "            return 0\n",
    "        for i in range(0, len(nums)):\n",
    "            #print(\"i is\", i)\n",
    "            #print(\"num[i] is\", nums[i], \"num[i-1] is\", nums[i-1])\n",
    "            for j in range(i+1, len(nums)):\n",
    "                print(\"pair is\", i, j)\n",
    "                if i < j and j - i != nums[j] - nums[i]:\n",
    "                    bad_pair += 1\n",
    "        return bad_pair\n",
    "        \n",
    "\n",
    "\n",
    "sol = Solution()\n",
    "nums = [4,1,3,3]\n",
    "result = sol.countBadPairs(nums)\n",
    "print(result)"
   ]
  },
  {
   "cell_type": "code",
   "execution_count": null,
   "id": "35360812-0566-4adf-b681-1985fda9ab0a",
   "metadata": {},
   "outputs": [],
   "source": []
  }
 ],
 "metadata": {
  "kernelspec": {
   "display_name": "Python 3 (ipykernel)",
   "language": "python",
   "name": "python3"
  },
  "language_info": {
   "codemirror_mode": {
    "name": "ipython",
    "version": 3
   },
   "file_extension": ".py",
   "mimetype": "text/x-python",
   "name": "python",
   "nbconvert_exporter": "python",
   "pygments_lexer": "ipython3",
   "version": "3.12.6"
  }
 },
 "nbformat": 4,
 "nbformat_minor": 5
}
