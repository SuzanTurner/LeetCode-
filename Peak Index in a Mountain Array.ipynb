{
 "cells": [
  {
   "cell_type": "code",
   "execution_count": 1,
   "id": "bf6aad7c-69e9-4d4d-a10d-c425cecc3c8d",
   "metadata": {},
   "outputs": [],
   "source": [
    "from typing import List\n",
    "class Solution:\n",
    "    def peakIndexInMountainArray(self, arr: List[int]) -> int:\n",
    "        m = 0\n",
    "        arr = [0] + arr + [0]\n",
    "        for i in range(1, len(arr)-1):\n",
    "            if arr[i-1] < arr[i] > arr[i+1]:\n",
    "                m += 1\n",
    "        return m"
   ]
  },
  {
   "cell_type": "code",
   "execution_count": null,
   "id": "76227c2e-180e-4aeb-abed-8a9f9375dae6",
   "metadata": {},
   "outputs": [],
   "source": []
  }
 ],
 "metadata": {
  "kernelspec": {
   "display_name": "Python 3 (ipykernel)",
   "language": "python",
   "name": "python3"
  },
  "language_info": {
   "codemirror_mode": {
    "name": "ipython",
    "version": 3
   },
   "file_extension": ".py",
   "mimetype": "text/x-python",
   "name": "python",
   "nbconvert_exporter": "python",
   "pygments_lexer": "ipython3",
   "version": "3.12.6"
  }
 },
 "nbformat": 4,
 "nbformat_minor": 5
}
