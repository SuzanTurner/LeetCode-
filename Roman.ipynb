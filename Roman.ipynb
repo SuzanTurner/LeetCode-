{
 "cells": [
  {
   "cell_type": "code",
   "execution_count": 1,
   "id": "f97b2269-a27e-4626-9213-9699472200a7",
   "metadata": {},
   "outputs": [],
   "source": [
    "import roman"
   ]
  },
  {
   "cell_type": "code",
   "execution_count": 3,
   "id": "b6cc515c-f635-402f-a0f8-cf4fb5a1278a",
   "metadata": {},
   "outputs": [
    {
     "name": "stdout",
     "output_type": "stream",
     "text": [
      "3000\n"
     ]
    }
   ],
   "source": [
    "class Solution:\n",
    "    def romanToInt(self, s: str) -> int:\n",
    "        return roman.fromRoman(s)\n",
    "\n",
    "\n",
    "sol = Solution()\n",
    "s = \"LVIII\"\n",
    "result = sol.romanToInt(s)\n",
    "print(result)\n",
    "\n",
    "I             1\n",
    "V             5\n",
    "X             10\n",
    "L             50\n",
    "C             100\n",
    "D             500\n",
    "M             1000"
   ]
  },
  {
   "cell_type": "code",
   "execution_count": 4,
   "id": "f8a71846-8cf8-4ddd-a873-35fb02486c38",
   "metadata": {},
   "outputs": [
    {
     "name": "stdout",
     "output_type": "stream",
     "text": [
      "63\n"
     ]
    }
   ],
   "source": [
    "class Solution:\n",
    "    def romanToInt(self, s: str) -> int:\n",
    "        t = 0\n",
    "        for i in s:\n",
    "            if i == 'M':\n",
    "                t += 1000\n",
    "            if i == 'I':\n",
    "                t += 1\n",
    "            if i == 'V':\n",
    "                t += 5\n",
    "            if i == 'X':\n",
    "                t += 10\n",
    "            if i == 'V':\n",
    "                t += 5\n",
    "            if i == 'L':\n",
    "                t += 50\n",
    "            if i == 'C':\n",
    "                t += 100\n",
    "            if i == 'D':\n",
    "                t += 500\n",
    "        return t\n",
    "            \n",
    "\n",
    "sol = Solution()\n",
    "s = \"LVIII\"\n",
    "result = sol.romanToInt(s)\n",
    "print(result)\n",
    "            \n"
   ]
  },
  {
   "cell_type": "code",
   "execution_count": 7,
   "id": "f8292c15-6bcd-43bd-9867-03e06f972b1c",
   "metadata": {},
   "outputs": [
    {
     "ename": "UnboundLocalError",
     "evalue": "cannot access local variable 'num' where it is not associated with a value",
     "output_type": "error",
     "traceback": [
      "\u001b[1;31m---------------------------------------------------------------------------\u001b[0m",
      "\u001b[1;31mUnboundLocalError\u001b[0m                         Traceback (most recent call last)",
      "Cell \u001b[1;32mIn[7], line 15\u001b[0m\n\u001b[0;32m     13\u001b[0m sol \u001b[38;5;241m=\u001b[39m Solution()\n\u001b[0;32m     14\u001b[0m num \u001b[38;5;241m=\u001b[39m \u001b[38;5;124m\"\u001b[39m\u001b[38;5;124mLVIII\u001b[39m\u001b[38;5;124m\"\u001b[39m\n\u001b[1;32m---> 15\u001b[0m result \u001b[38;5;241m=\u001b[39m \u001b[43msol\u001b[49m\u001b[38;5;241;43m.\u001b[39;49m\u001b[43mromanToInt\u001b[49m\u001b[43m(\u001b[49m\u001b[43ms\u001b[49m\u001b[43m)\u001b[49m\n\u001b[0;32m     16\u001b[0m \u001b[38;5;28mprint\u001b[39m(result)\n",
      "Cell \u001b[1;32mIn[7], line 8\u001b[0m, in \u001b[0;36mSolution.romanToInt\u001b[1;34m(self, s)\u001b[0m\n\u001b[0;32m      5\u001b[0m syms \u001b[38;5;241m=\u001b[39m [\u001b[38;5;124m\"\u001b[39m\u001b[38;5;124mM\u001b[39m\u001b[38;5;124m\"\u001b[39m, \u001b[38;5;124m\"\u001b[39m\u001b[38;5;124mCM\u001b[39m\u001b[38;5;124m\"\u001b[39m, \u001b[38;5;124m\"\u001b[39m\u001b[38;5;124mD\u001b[39m\u001b[38;5;124m\"\u001b[39m, \u001b[38;5;124m\"\u001b[39m\u001b[38;5;124mCD\u001b[39m\u001b[38;5;124m\"\u001b[39m, \u001b[38;5;124m\"\u001b[39m\u001b[38;5;124mC\u001b[39m\u001b[38;5;124m\"\u001b[39m, \u001b[38;5;124m\"\u001b[39m\u001b[38;5;124mXC\u001b[39m\u001b[38;5;124m\"\u001b[39m, \u001b[38;5;124m\"\u001b[39m\u001b[38;5;124mL\u001b[39m\u001b[38;5;124m\"\u001b[39m, \u001b[38;5;124m\"\u001b[39m\u001b[38;5;124mXL\u001b[39m\u001b[38;5;124m\"\u001b[39m, \u001b[38;5;124m\"\u001b[39m\u001b[38;5;124mX\u001b[39m\u001b[38;5;124m\"\u001b[39m, \u001b[38;5;124m\"\u001b[39m\u001b[38;5;124mIX\u001b[39m\u001b[38;5;124m\"\u001b[39m, \u001b[38;5;124m\"\u001b[39m\u001b[38;5;124mV\u001b[39m\u001b[38;5;124m\"\u001b[39m, \u001b[38;5;124m\"\u001b[39m\u001b[38;5;124mIV\u001b[39m\u001b[38;5;124m\"\u001b[39m, \u001b[38;5;124m\"\u001b[39m\u001b[38;5;124mI\u001b[39m\u001b[38;5;124m\"\u001b[39m]\n\u001b[0;32m      7\u001b[0m \u001b[38;5;28;01mfor\u001b[39;00m i \u001b[38;5;129;01min\u001b[39;00m \u001b[38;5;28mrange\u001b[39m(\u001b[38;5;28mlen\u001b[39m(val)):\n\u001b[1;32m----> 8\u001b[0m     \u001b[38;5;28;01mwhile\u001b[39;00m \u001b[43mnum\u001b[49m \u001b[38;5;241m>\u001b[39m\u001b[38;5;241m=\u001b[39m val[i]:\n\u001b[0;32m      9\u001b[0m         num \u001b[38;5;241m-\u001b[39m\u001b[38;5;241m=\u001b[39m val[i]\n\u001b[0;32m     10\u001b[0m         roman_str \u001b[38;5;241m+\u001b[39m\u001b[38;5;241m=\u001b[39m syms[i]\n",
      "\u001b[1;31mUnboundLocalError\u001b[0m: cannot access local variable 'num' where it is not associated with a value"
     ]
    }
   ],
   "source": [
    "class Solution:\n",
    "    def romanToInt(self, s: str) -> int:\n",
    "        roman_map = {'I': 1, 'V': 5, 'X': 10, 'L': 50, 'C': 100, 'D': 500, 'M': 1000}\n",
    "        total = 0\n",
    "        prev_value = 0\n",
    "\n",
    "        for char in reversed(s): \n",
    "            curr_value = roman_map[char]\n",
    "            if curr_value < prev_value:\n",
    "                total -= curr_value\n",
    "            else:\n",
    "                total += curr_value\n",
    "            prev_value = curr_value\n",
    "\n",
    "        return total\n",
    "        \n",
    "sol = Solution()\n",
    "num = \"LVIII\"\n",
    "result = sol.romanToInt(num) \n",
    "print(result) \n"
   ]
  },
  {
   "cell_type": "code",
   "execution_count": null,
   "id": "756d99d4-2948-4b04-b728-091a66063a73",
   "metadata": {},
   "outputs": [],
   "source": []
  }
 ],
 "metadata": {
  "kernelspec": {
   "display_name": "Python 3 (ipykernel)",
   "language": "python",
   "name": "python3"
  },
  "language_info": {
   "codemirror_mode": {
    "name": "ipython",
    "version": 3
   },
   "file_extension": ".py",
   "mimetype": "text/x-python",
   "name": "python",
   "nbconvert_exporter": "python",
   "pygments_lexer": "ipython3",
   "version": "3.12.6"
  }
 },
 "nbformat": 4,
 "nbformat_minor": 5
}
