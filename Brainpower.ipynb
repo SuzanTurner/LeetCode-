{
 "cells": [
  {
   "cell_type": "code",
   "execution_count": 2,
   "id": "7688f063-13d8-46e0-89fb-e91bb3601d2a",
   "metadata": {},
   "outputs": [],
   "source": [
    "from typing import List"
   ]
  },
  {
   "cell_type": "code",
   "execution_count": 22,
   "id": "6c0c5659-42cd-40a6-9dcf-2cada0313c3c",
   "metadata": {},
   "outputs": [
    {
     "name": "stdout",
     "output_type": "stream",
     "text": [
      "5\n"
     ]
    }
   ],
   "source": [
    "from typing import List\n",
    "\n",
    "class Solution:\n",
    "    def mostPoints(self, questions: List[List[int]]) -> int:\n",
    "        n = len(questions)\n",
    "        dp = [0] * (n + 1)  # DP array to store max points at each index\n",
    "\n",
    "        # Iterate backwards from the last question\n",
    "        for i in range(n - 1, -1, -1):\n",
    "            points, brainpower = questions[i]\n",
    "            next_index = i + brainpower + 1\n",
    "\n",
    "            # If the next question is out of bounds, take only current points\n",
    "            solve = points + (dp[next_index] if next_index < n else 0)\n",
    "            skip = dp[i + 1]  # If we skip this question\n",
    "            \n",
    "            dp[i] = max(solve, skip)  # Store the max of both choices\n",
    "        \n",
    "        return dp[0]  # Max points starting from index 0\n",
    "\n",
    "# Example usage\n",
    "sol = Solution()\n",
    "questions = [[3,2], [4,3], [4,4], [2,5]]\n",
    "result = sol.mostPoints(questions)\n",
    "print(result)  # Output: Maximum points that can be earned\n"
   ]
  },
  {
   "cell_type": "code",
   "execution_count": 24,
   "id": "ebda022d-b310-4457-91f1-46a8dd518655",
   "metadata": {},
   "outputs": [
    {
     "name": "stdout",
     "output_type": "stream",
     "text": [
      "3\n",
      "2 5\n",
      "2\n",
      "4 4\n",
      "1\n",
      "4 3\n",
      "0\n",
      "3 2\n",
      "None\n"
     ]
    }
   ],
   "source": [
    "class Solution:\n",
    "    def mostPoints(self, questions: List[List[int]]) -> int:\n",
    "        n = len(questions)\n",
    "        dp = [0] * (n+1)\n",
    "        for i in range(n-1, -1, -1):\n",
    "            #print(i)\n",
    "            points, brainpower = questions[i]\n",
    "            #print(points, brainpower)\n",
    "            next_index = i + brainpower + 1\n",
    "\n",
    "\n",
    "sol = Solution()\n",
    "questions = [[3,2], [4,3], [4,4], [2,5]]\n",
    "result = sol.mostPoints(questions)\n",
    "print(result)  "
   ]
  },
  {
   "cell_type": "code",
   "execution_count": null,
   "id": "2dddf7a8-a09c-45b0-95fc-790b30e56489",
   "metadata": {},
   "outputs": [],
   "source": []
  }
 ],
 "metadata": {
  "kernelspec": {
   "display_name": "Python 3 (ipykernel)",
   "language": "python",
   "name": "python3"
  },
  "language_info": {
   "codemirror_mode": {
    "name": "ipython",
    "version": 3
   },
   "file_extension": ".py",
   "mimetype": "text/x-python",
   "name": "python",
   "nbconvert_exporter": "python",
   "pygments_lexer": "ipython3",
   "version": "3.12.6"
  }
 },
 "nbformat": 4,
 "nbformat_minor": 5
}
