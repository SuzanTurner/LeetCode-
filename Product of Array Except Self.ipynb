{
 "cells": [
  {
   "cell_type": "code",
   "execution_count": 1,
   "id": "357d7dd7-7ee3-497b-84fc-8191d1942ad8",
   "metadata": {},
   "outputs": [],
   "source": [
    "from typing import List"
   ]
  },
  {
   "cell_type": "code",
   "execution_count": 2,
   "id": "93943726-4395-4fc7-ac1f-3eca132bac13",
   "metadata": {},
   "outputs": [
    {
     "name": "stdout",
     "output_type": "stream",
     "text": [
      "[24, 12, 8, 6]\n"
     ]
    }
   ],
   "source": [
    "class Solution:\n",
    "    def productExceptSelf(self, nums: List[int]) -> List[int]:\n",
    "        prod = 1\n",
    "        product = []\n",
    "        for i in range(len(nums)):\n",
    "            prod = 1\n",
    "            for j in range(len(nums)):\n",
    "                if i != j:\n",
    "                    prod *= nums[j]\n",
    "            product.append(prod)\n",
    "        return product\n",
    "                    \n",
    "\n",
    "sol = Solution()\n",
    "nums = [1,2,3,4]\n",
    "result = sol.productExceptSelf(nums)\n",
    "print(result)"
   ]
  },
  {
   "cell_type": "code",
   "execution_count": 3,
   "id": "159da749-bb4e-4575-80d3-d6a2106ec5c1",
   "metadata": {},
   "outputs": [
    {
     "name": "stdout",
     "output_type": "stream",
     "text": [
      "9\n",
      "[0, 0, 9, 0, 0]\n"
     ]
    }
   ],
   "source": [
    "class Solution:\n",
    "    def productExceptSelf(self, nums: List[int]) -> List[int]:\n",
    "        product = 1\n",
    "        zeros = 0\n",
    "        for num in nums:\n",
    "            if num == 0:\n",
    "                zeros += 1\n",
    "            else:\n",
    "                product *= num\n",
    "            \n",
    "        print(product)\n",
    "        if zeros > 1:\n",
    "            return [0] * len(nums) \n",
    "        p = []\n",
    "        for num in nums:\n",
    "            if zeros == 1:\n",
    "                if num == 0:\n",
    "                    p.append(product)  \n",
    "                else:\n",
    "                    p.append(0)\n",
    "            else:\n",
    "                p.append(product // num)\n",
    "        return p\n",
    "        \n",
    "sol = Solution()\n",
    "nums = [-1,1,0,-3,3]\n",
    "result = sol.productExceptSelf(nums)\n",
    "print(result)"
   ]
  },
  {
   "cell_type": "code",
   "execution_count": null,
   "id": "d5d2bfcb-d19e-4264-a2d5-8e865062276e",
   "metadata": {},
   "outputs": [],
   "source": []
  }
 ],
 "metadata": {
  "kernelspec": {
   "display_name": "Python 3 (ipykernel)",
   "language": "python",
   "name": "python3"
  },
  "language_info": {
   "codemirror_mode": {
    "name": "ipython",
    "version": 3
   },
   "file_extension": ".py",
   "mimetype": "text/x-python",
   "name": "python",
   "nbconvert_exporter": "python",
   "pygments_lexer": "ipython3",
   "version": "3.12.6"
  }
 },
 "nbformat": 4,
 "nbformat_minor": 5
}
