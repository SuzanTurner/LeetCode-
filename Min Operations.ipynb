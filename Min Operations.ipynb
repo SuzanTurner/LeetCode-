{
 "cells": [
  {
   "cell_type": "code",
   "execution_count": 8,
   "id": "7440c21a-c5d8-403f-8b5d-d21d22a50540",
   "metadata": {},
   "outputs": [
    {
     "data": {
      "text/plain": [
       "3"
      ]
     },
     "execution_count": 8,
     "metadata": {},
     "output_type": "execute_result"
    }
   ],
   "source": [
    "def minflips(n):\n",
    "    if n[-1] == 0 and n[-2] == 0:\n",
    "        return -1\n",
    "    else:\n",
    "        ops = 0\n",
    "        for i in range(len(n) - 2):\n",
    "            if n[i] == 0:\n",
    "                n[i] ^= 1\n",
    "                n[i+1] ^= 1\n",
    "                n[i+2] ^= 1\n",
    "                ops += 1\n",
    "        return ops\n",
    "\n",
    "minflips([1,1,0,1,0,0,1])"
   ]
  },
  {
   "cell_type": "code",
   "execution_count": null,
   "id": "287f552a-495b-4af1-b1f7-9a0220278d2a",
   "metadata": {},
   "outputs": [],
   "source": []
  },
  {
   "cell_type": "code",
   "execution_count": null,
   "id": "e862b995-5733-4255-9995-b3bf53c7379e",
   "metadata": {},
   "outputs": [],
   "source": []
  }
 ],
 "metadata": {
  "kernelspec": {
   "display_name": "Python 3 (ipykernel)",
   "language": "python",
   "name": "python3"
  },
  "language_info": {
   "codemirror_mode": {
    "name": "ipython",
    "version": 3
   },
   "file_extension": ".py",
   "mimetype": "text/x-python",
   "name": "python",
   "nbconvert_exporter": "python",
   "pygments_lexer": "ipython3",
   "version": "3.12.6"
  }
 },
 "nbformat": 4,
 "nbformat_minor": 5
}
