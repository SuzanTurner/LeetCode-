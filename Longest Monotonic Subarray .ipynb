{
 "cells": [
  {
   "cell_type": "code",
   "execution_count": 26,
   "id": "c26401cb-292c-46b7-8ba4-2e0b5a9a9a4a",
   "metadata": {},
   "outputs": [],
   "source": [
    "from typing import List\n",
    "from collections import Counter"
   ]
  },
  {
   "cell_type": "code",
   "execution_count": 31,
   "id": "2eb24569-3acb-46b5-a75e-a022de218a8a",
   "metadata": {},
   "outputs": [],
   "source": [
    "class Solution:\n",
    "    def longestMonotonicSubarray(self, nums: List[int]) -> int:\n",
    "        max_count = 1 \n",
    "        inc_count = 1\n",
    "        dec_count = 1\n",
    "\n",
    "        for i in range(1, len(nums)):\n",
    "            if nums[i] > nums[i-1]: \n",
    "                inc_count += 1\n",
    "                dec_count = 1\n",
    "            elif nums[i] < nums[i-1]:  \n",
    "                dec_count += 1\n",
    "                inc_count = 1\n",
    "            else:  \n",
    "                inc_count = dec_count = 1\n",
    "\n",
    "            max_count = max(max_count, inc_count, dec_count)\n",
    "\n",
    "        return max_count\n",
    "\n"
   ]
  },
  {
   "cell_type": "code",
   "execution_count": 32,
   "id": "b3b0b010-8878-413c-9ec5-8365b92eb0bf",
   "metadata": {},
   "outputs": [
    {
     "name": "stdout",
     "output_type": "stream",
     "text": [
      "4\n"
     ]
    }
   ],
   "source": [
    "nums = [1,4,7,9]\n",
    "sol = Solution()\n",
    "result = sol.longestMonotonicSubarray(nums)\n",
    "print(result)"
   ]
  },
  {
   "cell_type": "code",
   "execution_count": 16,
   "id": "5aab1ecc-dbd0-4019-a971-6e131dbfe43e",
   "metadata": {},
   "outputs": [
    {
     "name": "stdout",
     "output_type": "stream",
     "text": [
      "6\n",
      "2\n",
      "8\n",
      "4\n",
      "0\n",
      "5\n",
      "1\n",
      "8\n"
     ]
    }
   ],
   "source": [
    "n = [6,2,8,4,0,5,1,8]\n",
    "\n",
    "for i, j in enumerate(n):\n",
    "    print(n[i])\n",
    "# i = position, j = value\n",
    "\n",
    "\n",
    "    "
   ]
  },
  {
   "cell_type": "code",
   "execution_count": 23,
   "id": "ae715665-b16d-45c0-ad11-d5d86c3e54f3",
   "metadata": {},
   "outputs": [
    {
     "name": "stdout",
     "output_type": "stream",
     "text": [
      "7\n"
     ]
    }
   ],
   "source": [
    "k = 0\n",
    "arr = []\n",
    "nums = [1,5,3,7]\n",
    "while nums[k]<nums[k+1]:\n",
    "    print(i)\n",
    "    arr.append(j)\n",
    "    k = k+1\n",
    "    if k == len(nums) - 1:\n",
    "        break"
   ]
  },
  {
   "cell_type": "code",
   "execution_count": null,
   "id": "9456d863-76cd-4063-a9a0-8afc53621a29",
   "metadata": {},
   "outputs": [],
   "source": []
  }
 ],
 "metadata": {
  "kernelspec": {
   "display_name": "Python 3 (ipykernel)",
   "language": "python",
   "name": "python3"
  },
  "language_info": {
   "codemirror_mode": {
    "name": "ipython",
    "version": 3
   },
   "file_extension": ".py",
   "mimetype": "text/x-python",
   "name": "python",
   "nbconvert_exporter": "python",
   "pygments_lexer": "ipython3",
   "version": "3.12.6"
  }
 },
 "nbformat": 4,
 "nbformat_minor": 5
}
