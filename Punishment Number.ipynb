{
 "cells": [
  {
   "cell_type": "code",
   "execution_count": 41,
   "id": "5de301e6-aaaf-455b-bb51-bead8e9baf1c",
   "metadata": {},
   "outputs": [
    {
     "name": "stdout",
     "output_type": "stream",
     "text": [
      "1\n",
      "9\n",
      "10\n",
      "18\n",
      "19\n",
      "27\n",
      "28\n",
      "36\n",
      "37\n",
      "5045\n"
     ]
    }
   ],
   "source": [
    "def part_sum(n):\n",
    "    ns = str(n)\n",
    "    s = 0\n",
    "    for i in range(len(ns)):\n",
    "        p = \n",
    "    \n",
    "class Solution:\n",
    "    def punishmentNumber(self, n: int) -> int:\n",
    "        s = 0\n",
    "        for i in range (1,n+1):\n",
    "            if part_sum(i**2) == i:\n",
    "                s += i**2\n",
    "                print(i)\n",
    "        return s\n",
    "\n",
    "sol = Solution() \n",
    "n = 37\n",
    "result = sol.punishmentNumber(n)  \n",
    "print(result)"
   ]
  },
  {
   "cell_type": "code",
   "execution_count": 27,
   "id": "5029341c-a678-4ec4-a1c7-f1eb74b62c3f",
   "metadata": {},
   "outputs": [
    {
     "name": "stdout",
     "output_type": "stream",
     "text": [
      "9\n"
     ]
    }
   ],
   "source": [
    "def digital_root(n):\n",
    "    return 1 + (n - 1) % 9 if n else 0  # Works for all numbers\n",
    "\n",
    "print(digital_root(1296)) "
   ]
  },
  {
   "cell_type": "code",
   "execution_count": 43,
   "id": "3c1c7fe8-3ed3-4c9e-9dd7-9c5bb0b16d62",
   "metadata": {},
   "outputs": [
    {
     "name": "stdout",
     "output_type": "stream",
     "text": [
      "1\n",
      "2\n",
      "9\n",
      "6\n"
     ]
    }
   ],
   "source": [
    "\n",
    "def part_sum(n):\n",
    "    ns = str(n)\n",
    "    s = 0\n",
    "    for i in range(len(ns)):\n",
    "        p = ns[i] + random.randint\n",
    "        print(p)\n",
    "part_sum(1296)"
   ]
  },
  {
   "cell_type": "code",
   "execution_count": 45,
   "id": "e0ee0b4d-e66a-4020-844b-18c5c6cc51a2",
   "metadata": {},
   "outputs": [
    {
     "name": "stdout",
     "output_type": "stream",
     "text": [
      "182\n",
      "182\n"
     ]
    }
   ],
   "source": []
  },
  {
   "cell_type": "code",
   "execution_count": 46,
   "id": "b852b955-423e-4f9a-bd2d-c291b8fdc590",
   "metadata": {},
   "outputs": [
    {
     "name": "stdout",
     "output_type": "stream",
     "text": [
      "182\n"
     ]
    }
   ],
   "source": [
    "class Solution:\n",
    "    def punishmentNumber(self, n: int) -> int:\n",
    "        def can_partition(s, target, index=0, curr_sum=0):\n",
    "            return curr_sum == target if index == len(s) else any(\n",
    "                can_partition(s, target, j + 1, curr_sum + int(s[index:j + 1])) \n",
    "                for j in range(index, len(s)) if curr_sum + int(s[index:j + 1]) <= target\n",
    "            )\n",
    "        \n",
    "        return sum(i * i for i in range(1, n + 1) if can_partition(str(i * i), i))\n",
    "\n",
    "sol = Solution()\n",
    "print(sol.punishmentNumber(10))  # Example run\n"
   ]
  },
  {
   "cell_type": "code",
   "execution_count": null,
   "id": "343442ec-1338-4338-8575-3ffcada068d0",
   "metadata": {},
   "outputs": [],
   "source": []
  }
 ],
 "metadata": {
  "kernelspec": {
   "display_name": "Python 3 (ipykernel)",
   "language": "python",
   "name": "python3"
  },
  "language_info": {
   "codemirror_mode": {
    "name": "ipython",
    "version": 3
   },
   "file_extension": ".py",
   "mimetype": "text/x-python",
   "name": "python",
   "nbconvert_exporter": "python",
   "pygments_lexer": "ipython3",
   "version": "3.12.6"
  }
 },
 "nbformat": 4,
 "nbformat_minor": 5
}
