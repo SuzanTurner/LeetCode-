{
 "cells": [
  {
   "cell_type": "code",
   "execution_count": 2,
   "id": "3da1aad8-d04e-44ed-9426-16ce8a314ef4",
   "metadata": {},
   "outputs": [],
   "source": [
    "from typing import List"
   ]
  },
  {
   "cell_type": "code",
   "execution_count": 3,
   "id": "b0df2b4c-7998-496b-823f-51a5f41d8879",
   "metadata": {},
   "outputs": [],
   "source": [
    "class Solution:\n",
    "    def removeDuplicates(self, nums: List[int]) -> int:\n",
    "\n",
    "        slow = 1\n",
    "        for fast in range(2, len(nums)):\n",
    "            if nums[fast] != nums[slow-1]:\n",
    "                slow += 1\n",
    "                nums[slow] = nums[fast]\n",
    "        \n",
    "        return slow+1\n",
    "\n",
    "sol = Solution()\n"
   ]
  },
  {
   "cell_type": "code",
   "execution_count": 7,
   "id": "83f6c714-db3e-4fc7-9d39-9354a9d4e2fa",
   "metadata": {},
   "outputs": [
    {
     "name": "stdout",
     "output_type": "stream",
     "text": [
      "6\n"
     ]
    }
   ],
   "source": [
    "n = [1,1,1,2,2,2,3,3,3]\n",
    "slow = 1\n",
    "for fast in range(2,len(n)):\n",
    "    if n[fast] != n[slow - 1]:\n",
    "        slow += 1\n",
    "        n[slow] = n[fast]\n",
    "print(slow+1)"
   ]
  },
  {
   "cell_type": "code",
   "execution_count": 8,
   "id": "e37f004e-9428-4d13-a35f-7df71c767b8a",
   "metadata": {},
   "outputs": [
    {
     "name": "stdout",
     "output_type": "stream",
     "text": [
      "6\n"
     ]
    }
   ],
   "source": [
    "prev = 1\n",
    "for i in range(len(n)):\n",
    "    if n[i] != n[prev - 1]:\n",
    "        prev += 1\n",
    "        n[prev] = n[i]\n",
    "print(prev + 1)"
   ]
  },
  {
   "cell_type": "code",
   "execution_count": null,
   "id": "0cb1ab91-ac8d-4cae-b012-17f70bde748a",
   "metadata": {},
   "outputs": [],
   "source": []
  }
 ],
 "metadata": {
  "kernelspec": {
   "display_name": "Python 3 (ipykernel)",
   "language": "python",
   "name": "python3"
  },
  "language_info": {
   "codemirror_mode": {
    "name": "ipython",
    "version": 3
   },
   "file_extension": ".py",
   "mimetype": "text/x-python",
   "name": "python",
   "nbconvert_exporter": "python",
   "pygments_lexer": "ipython3",
   "version": "3.12.6"
  }
 },
 "nbformat": 4,
 "nbformat_minor": 5
}
