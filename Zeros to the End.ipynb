{
 "cells": [
  {
   "cell_type": "code",
   "execution_count": 27,
   "id": "ffca54ff-f78f-4554-aa13-016dac70f3c4",
   "metadata": {},
   "outputs": [
    {
     "name": "stdout",
     "output_type": "stream",
     "text": [
      "nums[i] 2 num[i-1] 1\n",
      "[1, 2, 2, 1, 1, 0]\n",
      "nums[i] 2 num[i-1] 2\n",
      "[1, 4, 0, 1, 1, 0]\n",
      "nums[i] 1 num[i-1] 0\n",
      "[1, 4, 0, 1, 1, 0]\n",
      "nums[i] 1 num[i-1] 1\n",
      "[1, 4, 0, 2, 0, 0]\n",
      "nums[i] 0 num[i-1] 0\n",
      "[1, 4, 0, 2, 0, 0]\n",
      "[1, 4, 2, 0, 0, 0]\n"
     ]
    }
   ],
   "source": [
    "class Solution:\n",
    "    def applyOperations(self, nums: List[int]) -> List[int]:\n",
    "        num = []\n",
    "        for i in range(1,len(nums)):\n",
    "            #print(\"nums[i]\", nums[i], \"num[i-1]\", nums[i-1])\n",
    "            if nums[i-1] == nums[i]:\n",
    "                nums[i-1] = nums[i-1] * 2\n",
    "                nums[i] = 0\n",
    "            print(nums)\n",
    "        return [num for num in nums if num != 0] + [0] * nums.count(0)\n",
    "\n",
    "\n",
    "\n",
    "sol = Solution()\n",
    "nums = [1,2,2,1,1,0]\n",
    "result = sol.applyOperations(nums)\n",
    "print(result)"
   ]
  },
  {
   "cell_type": "code",
   "execution_count": 1,
   "id": "18cbb820-39e2-442a-b4f8-068b06790d32",
   "metadata": {},
   "outputs": [],
   "source": [
    "from typing import List"
   ]
  },
  {
   "cell_type": "code",
   "execution_count": null,
   "id": "3b424b31-f32d-4429-afe8-3d7cafbdc1a9",
   "metadata": {},
   "outputs": [],
   "source": []
  }
 ],
 "metadata": {
  "kernelspec": {
   "display_name": "Python 3 (ipykernel)",
   "language": "python",
   "name": "python3"
  },
  "language_info": {
   "codemirror_mode": {
    "name": "ipython",
    "version": 3
   },
   "file_extension": ".py",
   "mimetype": "text/x-python",
   "name": "python",
   "nbconvert_exporter": "python",
   "pygments_lexer": "ipython3",
   "version": "3.12.6"
  }
 },
 "nbformat": 4,
 "nbformat_minor": 5
}
