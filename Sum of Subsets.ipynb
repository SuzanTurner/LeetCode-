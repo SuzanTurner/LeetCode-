{
 "cells": [
  {
   "cell_type": "code",
   "execution_count": 9,
   "id": "0f95017a-d43e-425f-af7a-74e98341a122",
   "metadata": {},
   "outputs": [
    {
     "name": "stdout",
     "output_type": "stream",
     "text": [
      "[1, 2, 6, 7]\n",
      "[1, 6, 9]\n",
      "[7, 9]\n",
      "[1, 2, 4, 9]\n"
     ]
    }
   ],
   "source": [
    "n = [1,2,6,7,4,9]\n",
    "s = 16\n",
    "\n",
    "subsets = []\n",
    "for i in range(2 ** len(n)):\n",
    "    subset = []\n",
    "    for j in range(len(n)):\n",
    "        if i & (1 << j):\n",
    "            subset.append(n[j])\n",
    "    subsets.append(subset)\n",
    "\n",
    "#print((subsets))\n",
    "\n",
    "for i in subsets:\n",
    "    #print(i)\n",
    "    ss = 0\n",
    "    for j in i:\n",
    "        ss += j\n",
    "    if ss == s:\n",
    "        print(i)"
   ]
  },
  {
   "cell_type": "code",
   "execution_count": null,
   "id": "768ac249-4ca9-4610-8097-f77da0f7c7b2",
   "metadata": {},
   "outputs": [],
   "source": []
  }
 ],
 "metadata": {
  "kernelspec": {
   "display_name": "Python 3 (ipykernel)",
   "language": "python",
   "name": "python3"
  },
  "language_info": {
   "codemirror_mode": {
    "name": "ipython",
    "version": 3
   },
   "file_extension": ".py",
   "mimetype": "text/x-python",
   "name": "python",
   "nbconvert_exporter": "python",
   "pygments_lexer": "ipython3",
   "version": "3.12.6"
  }
 },
 "nbformat": 4,
 "nbformat_minor": 5
}
