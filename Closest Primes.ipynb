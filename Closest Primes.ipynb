{
 "cells": [
  {
   "cell_type": "code",
   "execution_count": 1,
   "id": "c13368de-ab39-4b2f-b9f5-114a614c33ef",
   "metadata": {},
   "outputs": [],
   "source": [
    "from typing import List"
   ]
  },
  {
   "cell_type": "code",
   "execution_count": 39,
   "id": "aaf9ea0c-40f5-47f1-a2b9-52c1f60f4a0a",
   "metadata": {},
   "outputs": [
    {
     "name": "stdout",
     "output_type": "stream",
     "text": [
      "[17, 19, 23, 29, 31]\n",
      "[17, 19]\n"
     ]
    }
   ],
   "source": [
    "class Solution:\n",
    "    def closestPrimes(self, left: int, right: int) -> List[int]:\n",
    "        n1 = []\n",
    "        def check_prime(n):\n",
    "            f = 0\n",
    "            if n < 2:\n",
    "                return False\n",
    "            for i in range(2, int(n**0.5) + 1):\n",
    "                if n % i == 0:\n",
    "                    return False\n",
    "            return True\n",
    "        for i in range(left, right+1):\n",
    "            if check_prime(i):\n",
    "                n1.append(i) \n",
    "        if len(n1) == 0 or len(n1) == 1:\n",
    "            return [-1,-1]\n",
    "        print(n1)\n",
    "        min_diff = float('inf')\n",
    "        for i in range(len(n1) - 1):\n",
    "            diff = n1[i + 1] - n1[i]\n",
    "            if diff < min_diff:\n",
    "                min_diff = diff\n",
    "                closest_pair = [n1[i], n1[i + 1]]\n",
    "\n",
    "        return closest_pair\n",
    "        \n",
    "\n",
    "sol = Solution()\n",
    "left = 17\n",
    "right = 31\n",
    "result = sol.closestPrimes(left,right)\n",
    "print(result)"
   ]
  },
  {
   "cell_type": "code",
   "execution_count": 11,
   "id": "f2e9f5b7-f4f8-42ef-908b-fd69df7dd4b4",
   "metadata": {},
   "outputs": [
    {
     "data": {
      "text/plain": [
       "False"
      ]
     },
     "execution_count": 11,
     "metadata": {},
     "output_type": "execute_result"
    }
   ],
   "source": [
    "def check_prime(n):\n",
    "    f = 0\n",
    "    for i in range(1,n+1):\n",
    "        if n%i == 0:\n",
    "            f += 1\n",
    "    if f == 2:\n",
    "        return True\n",
    "    else:\n",
    "        return False\n",
    "\n",
    "check_prime(1)"
   ]
  },
  {
   "cell_type": "code",
   "execution_count": null,
   "id": "77cd08e3-12f0-4f20-85e6-b98af6c0108b",
   "metadata": {},
   "outputs": [],
   "source": []
  }
 ],
 "metadata": {
  "kernelspec": {
   "display_name": "Python 3 (ipykernel)",
   "language": "python",
   "name": "python3"
  },
  "language_info": {
   "codemirror_mode": {
    "name": "ipython",
    "version": 3
   },
   "file_extension": ".py",
   "mimetype": "text/x-python",
   "name": "python",
   "nbconvert_exporter": "python",
   "pygments_lexer": "ipython3",
   "version": "3.12.6"
  }
 },
 "nbformat": 4,
 "nbformat_minor": 5
}
