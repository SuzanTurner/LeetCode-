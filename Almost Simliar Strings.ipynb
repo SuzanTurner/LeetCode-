{
 "cells": [
  {
   "cell_type": "code",
   "execution_count": 3,
   "id": "959d6df7-655e-4784-9249-ffb4ffc72641",
   "metadata": {},
   "outputs": [],
   "source": [
    "from typing import Any"
   ]
  },
  {
   "cell_type": "code",
   "execution_count": 47,
   "id": "643928d3-d6f9-46bc-9083-d8bdd4832247",
   "metadata": {},
   "outputs": [
    {
     "name": "stdout",
     "output_type": "stream",
     "text": [
      "False\n"
     ]
    }
   ],
   "source": [
    "class Solution:\n",
    "    def areAlmostEqual(self, s1: str, s2: str) -> bool:\n",
    "        w = \"\"\n",
    "        swap = 0\n",
    "        if s1 == s2 and s1.islower() and s2.islower():\n",
    "            return True\n",
    "        else:\n",
    "            if len(s1) == len(s2):\n",
    "                for i in range(len(s1)):\n",
    "                    if s1[i] == s2[len(s2) - i - 1]:\n",
    "                        swap += 1\n",
    "                    elif s1[i] == s2[i]:\n",
    "                        continue\n",
    "                    else:\n",
    "                        return False  \n",
    "                if swap <= 2:\n",
    "                    return True\n",
    "                else:\n",
    "                    return False\n",
    "            else:\n",
    "                return False\n",
    "                    \n",
    "\n",
    "s1 = \"bank\"\n",
    "s2 = \"knab\"\n",
    "sol = Solution()\n",
    "result = sol.areAlmostEqual(s1,s2)\n",
    "print(result)\n",
    "\n",
    "\n",
    "    \n",
    "        "
   ]
  },
  {
   "cell_type": "code",
   "execution_count": 33,
   "id": "a7c69fe4-419a-4927-9ff7-c9e742b64a81",
   "metadata": {},
   "outputs": [
    {
     "name": "stdout",
     "output_type": "stream",
     "text": [
      "3\n",
      "k\n"
     ]
    }
   ],
   "source": [
    "string = \"Yadhink\"\n",
    "print(int(len(string)/2))\n",
    "\n",
    "print(string[len(string) - 1])"
   ]
  },
  {
   "cell_type": "code",
   "execution_count": 37,
   "id": "8bfa79d6-67f8-4991-92fc-fabc2b99c2a2",
   "metadata": {},
   "outputs": [
    {
     "name": "stdout",
     "output_type": "stream",
     "text": [
      "Y\n",
      "a\n",
      "d\n",
      "h\n",
      "i\n",
      "n\n",
      "k\n",
      "k\n",
      "n\n",
      "i\n",
      "h\n",
      "d\n",
      "a\n",
      "Y\n"
     ]
    }
   ],
   "source": [
    "for i in range(len(string)):\n",
    "    print(string[i])\n",
    "for i in range(len(string)):\n",
    "    print(string[len(string) - i - 1])\n",
    "               "
   ]
  },
  {
   "cell_type": "code",
   "execution_count": 41,
   "id": "a79bf351-5a90-4a27-8983-22f363ce6249",
   "metadata": {},
   "outputs": [
    {
     "name": "stdout",
     "output_type": "stream",
     "text": [
      "False\n"
     ]
    }
   ],
   "source": [
    "print(string.islower())"
   ]
  },
  {
   "cell_type": "code",
   "execution_count": 51,
   "id": "e947685d-4398-47af-b6d4-202e52211376",
   "metadata": {},
   "outputs": [
    {
     "name": "stdout",
     "output_type": "stream",
     "text": [
      "False\n"
     ]
    }
   ],
   "source": [
    "class Solution:\n",
    "    def areAlmostEqual(self, s1: str, s2: str) -> bool:\n",
    "        count = 0\n",
    "        if len(s1) == len(s2):\n",
    "            if s1.islower() and s2.islower():\n",
    "                for i in range(len(s1)):\n",
    "                    if s1[i] != s2[i]:\n",
    "                        if s1[i] in s2:\n",
    "                            pass\n",
    "                        else:\n",
    "                            return False\n",
    "                    else:\n",
    "                        \n",
    "            else:\n",
    "                return False\n",
    "        else:\n",
    "            return False\n",
    "                    \n",
    "                \n",
    "s1 = \"bank\"\n",
    "s2 = \"knab\"\n",
    "sol = Solution()\n",
    "result = sol.areAlmostEqual(s1,s2)\n",
    "print(result)"
   ]
  },
  {
   "cell_type": "code",
   "execution_count": 40,
   "id": "657a5952-c980-4c77-9823-ed5a029e8b7d",
   "metadata": {},
   "outputs": [
    {
     "name": "stdout",
     "output_type": "stream",
     "text": [
      "This is s[i] b This is s2[i] k\n",
      "This is count 1\n",
      "This is s[i] a This is s2[i] a\n",
      "This is s[i] n This is s2[i] n\n",
      "This is s[i] k This is s2[i] n\n",
      "This is count 2\n",
      "This is s[i] b This is s2[i] b\n",
      "True\n"
     ]
    }
   ],
   "source": [
    "class Solution:\n",
    "    def areAlmostEqual(self, s1: str, s2: str) -> bool:\n",
    "        count = 0\n",
    "        b = False\n",
    "        if s1 == s2 and  s2.islower() and s1.islower():\n",
    "            return True\n",
    "        elif len(s1) == len(s2) and s2.islower() and s1.islower():\n",
    "            for i in range(0,len(s1)):\n",
    "                if s1[i] in s2:\n",
    "                    print(\"This is s[i]\", s1[i], \"This is s2[i]\", s2[i] )\n",
    "                    if s1[i] != s2[i]:\n",
    "                        count +=1\n",
    "                        print(\"This is count\", count)\n",
    "                else:\n",
    "                    return False\n",
    "            if count == 2:\n",
    "                return True\n",
    "            else:\n",
    "                return False\n",
    "        else:\n",
    "            return False\n",
    "                    \n",
    "                \n",
    "s1 = \"bankb\"\n",
    "s2 = \"kannb\"\n",
    "sol = Solution()\n",
    "result = sol.areAlmostEqual(s1,s2)\n",
    "print(result)"
   ]
  },
  {
   "cell_type": "code",
   "execution_count": 19,
   "id": "e1d3c841-289d-49c1-aa8e-164f5b43a615",
   "metadata": {},
   "outputs": [
    {
     "name": "stdout",
     "output_type": "stream",
     "text": [
      "yes\n",
      "yes\n",
      "yes\n",
      "yes\n"
     ]
    }
   ],
   "source": [
    "str1 = \"Yadh\"\n",
    "str2 = \"Ydha\"\n",
    "for i in str1:\n",
    "    if i in str2:\n",
    "        print(\"yes\")"
   ]
  },
  {
   "cell_type": "code",
   "execution_count": 17,
   "id": "cf18b77e-9eb5-4c34-b416-51408574cf1a",
   "metadata": {},
   "outputs": [
    {
     "name": "stdout",
     "output_type": "stream",
     "text": [
      "This is s[i] b This is s2[i] k\n",
      "Count is 1\n",
      "This is s[i] a This is s2[i] a\n",
      "This is s[i] n This is s2[i] n\n",
      "This is s[i] k This is s2[i] n\n",
      "Count is 2\n",
      "This is s[i] b This is s2[i] b\n",
      "True\n"
     ]
    }
   ],
   "source": [
    "class Solution:\n",
    "    def areAlmostEqual(self, s1: str, s2: str) -> bool:\n",
    "        count = 0\n",
    "        w = \"\"\n",
    "        b = False\n",
    "        if s1 == s2 and  s2.islower() and s1.islower():\n",
    "            return True\n",
    "        elif len(s1) == len(s2) and s2.islower() and s1.islower():\n",
    "            for i in range(0,len(s1)):\n",
    "                print(\"This is s[i]\", s1[i], \"This is s2[i]\", s2[i] )\n",
    "                if s1[i] == s2[i]:\n",
    "                    w += s[1]\n",
    "                    continue\n",
    "                else:\n",
    "                    pass\n",
    "\n",
    "            if count == 2: \n",
    "                return True\n",
    "            else:\n",
    "                return False\n",
    "        else:\n",
    "            return False\n",
    "                \n",
    "s1 = \"bankb\"\n",
    "s2 = \"kannb\"\n",
    "sol = Solution()\n",
    "result = sol.areAlmostEqual(s1,s2)\n",
    "print(result)"
   ]
  },
  {
   "cell_type": "code",
   "execution_count": 38,
   "id": "75b7bbcf-161e-4eb0-aed8-804ee8fc1bc5",
   "metadata": {},
   "outputs": [
    {
     "name": "stdout",
     "output_type": "stream",
     "text": [
      "str1 is b str2 is k\n",
      "['k', 'a', 'n', 'k', 'b'] ['b', 'a', 'n', 'n', 'b']\n",
      "count is 1\n",
      "str1 is a str2 is a\n",
      "str1 is n str2 is n\n",
      "str1 is k str2 is n\n",
      "['k', 'a', 'n', 'n', 'b'] ['b', 'a', 'n', 'k', 'b']\n",
      "count is 2\n",
      "str1 is b str2 is b\n",
      "['k', 'a', 'n', 'n', 'b'] ['k', 'a', 'n', 'n', 'b']\n",
      "True\n"
     ]
    }
   ],
   "source": [
    "class Solution:\n",
    "    def areAlmostEqual(self, s1: str, s2: str) -> bool:\n",
    "        str1 = list(s1)\n",
    "        str2 = list(s2)\n",
    "        str3 = list(s1)\n",
    "        str4 = list(s2)\n",
    "        count = 0\n",
    "        if s1 == s2:\n",
    "            return True\n",
    "        elif len(s1) == len(s2) and s1.islower() and s2.islower():\n",
    "            for i in range (len(str1)):\n",
    "                print(\"str1 is\",str1[i], \"str2 is\", str2[i])\n",
    "                if str1[i] == str2[i]:\n",
    "                    continue\n",
    "                else:\n",
    "                    str1[i], str2[i] = str2[i], str1[i]\n",
    "                    print(str1, str2)\n",
    "                    count += 1\n",
    "                    print(\"count is\", count)\n",
    "            print(str1, str4)\n",
    "            if str1 == str4 and str2 == str3 and count == 2:\n",
    "                return True\n",
    "            else:\n",
    "                return False \n",
    "        else:\n",
    "            return False\n",
    "                    \n",
    "        \n",
    "    \n",
    "                \n",
    "s1 = \"bankb\"\n",
    "s2 = \"kannb\"\n",
    "       \n",
    "sol = Solution()\n",
    "result = sol.areAlmostEqual(s1,s2)\n",
    "print(result)"
   ]
  },
  {
   "cell_type": "code",
   "execution_count": 25,
   "id": "de8d859d-c7a7-4ec8-97d1-88703a2e36e4",
   "metadata": {},
   "outputs": [
    {
     "name": "stdout",
     "output_type": "stream",
     "text": [
      "['b', 'a', 'n', 'k'] ['k', 'a', 'n', 'b']\n"
     ]
    }
   ],
   "source": [
    "str1 = list(s1)\n",
    "str2 = list(s2)\n",
    "\n",
    "print(str1, str2)"
   ]
  },
  {
   "cell_type": "code",
   "execution_count": 27,
   "id": "97a42100-385e-42b7-8652-b08721b0ee12",
   "metadata": {},
   "outputs": [],
   "source": [
    "s3 = str(str1)\n"
   ]
  },
  {
   "cell_type": "code",
   "execution_count": null,
   "id": "1c10a3c4-60fc-4eb8-b2fe-1018ed0e7511",
   "metadata": {},
   "outputs": [],
   "source": [
    "if str(str1) == s2 and str(str2) == s1 and count == 2:"
   ]
  }
 ],
 "metadata": {
  "kernelspec": {
   "display_name": "Python 3 (ipykernel)",
   "language": "python",
   "name": "python3"
  },
  "language_info": {
   "codemirror_mode": {
    "name": "ipython",
    "version": 3
   },
   "file_extension": ".py",
   "mimetype": "text/x-python",
   "name": "python",
   "nbconvert_exporter": "python",
   "pygments_lexer": "ipython3",
   "version": "3.12.6"
  }
 },
 "nbformat": 4,
 "nbformat_minor": 5
}
