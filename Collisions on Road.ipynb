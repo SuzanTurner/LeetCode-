{
 "cells": [
  {
   "cell_type": "code",
   "execution_count": 8,
   "id": "7f7c3d0d-da9c-4c73-b034-9eb7b2793c75",
   "metadata": {},
   "outputs": [
    {
     "name": "stdout",
     "output_type": "stream",
     "text": [
      "4\n"
     ]
    }
   ],
   "source": [
    "class Solution:\n",
    "    def countCollisions(self, directions: str) -> int:\n",
    "        c = 0\n",
    "        for d in range(1,len(directions)):\n",
    "            if directions[d-1] == 'R' and directions[d] == \"L\":\n",
    "                c += 2\n",
    "            elif directions[d-1] == 'R' and directions[d] == \"S\":\n",
    "                c += 1\n",
    "            elif directions[d] == 'L' and directions[d-1] == \"S\":\n",
    "                c += 1\n",
    "                \n",
    "            else:\n",
    "                continue\n",
    "        return c\n",
    "\n",
    "sol = Solution()\n",
    "directions = \"RLRSLL\"\n",
    "result = sol.countCollisions(directions)\n",
    "print(result)"
   ]
  },
  {
   "cell_type": "code",
   "execution_count": 9,
   "id": "564809d3-80bf-4659-aa62-1b2fef165c55",
   "metadata": {},
   "outputs": [
    {
     "name": "stdout",
     "output_type": "stream",
     "text": [
      "5\n"
     ]
    }
   ],
   "source": [
    "class Solution:\n",
    "    def countCollisions(self, directions: str) -> int:\n",
    "        directions = directions.lstrip('L').rstrip('R')\n",
    "        return sum(1 for d in directions if d != 'S')\n",
    "sol = Solution()\n",
    "directions = \"RLRSLL\"\n",
    "result = sol.countCollisions(directions)\n",
    "print(result)"
   ]
  },
  {
   "cell_type": "code",
   "execution_count": 11,
   "id": "0c8e0278-dce0-4545-b577-7f5e549e7ad5",
   "metadata": {},
   "outputs": [
    {
     "name": "stdout",
     "output_type": "stream",
     "text": [
      "5\n"
     ]
    }
   ],
   "source": [
    "directions = \"RLRSLL\"\n",
    "\n",
    "directions = directions.lstrip('L').rstrip('R')\n",
    "r=  sum(1 for d in directions if d != 'S')\n",
    "print(r)"
   ]
  },
  {
   "cell_type": "code",
   "execution_count": null,
   "id": "cfeab54e-6c8f-4188-908d-f8ca2563e7d0",
   "metadata": {},
   "outputs": [],
   "source": []
  }
 ],
 "metadata": {
  "kernelspec": {
   "display_name": "Python 3 (ipykernel)",
   "language": "python",
   "name": "python3"
  },
  "language_info": {
   "codemirror_mode": {
    "name": "ipython",
    "version": 3
   },
   "file_extension": ".py",
   "mimetype": "text/x-python",
   "name": "python",
   "nbconvert_exporter": "python",
   "pygments_lexer": "ipython3",
   "version": "3.12.6"
  }
 },
 "nbformat": 4,
 "nbformat_minor": 5
}
