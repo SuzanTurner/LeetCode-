{
 "cells": [
  {
   "cell_type": "code",
   "execution_count": 1,
   "id": "f19b6540-b02f-4a40-a3f6-6103c405feea",
   "metadata": {},
   "outputs": [
    {
     "name": "stdout",
     "output_type": "stream",
     "text": [
      "[1, 3]\n"
     ]
    }
   ],
   "source": [
    "from typing import List\n",
    "class Solution:\n",
    "    def twoSum(self, numbers: List[int], target: int) -> List[int]:\n",
    "        i = 0\n",
    "        j = len(numbers) - 1\n",
    "        s = 0\n",
    "        while (i<j):\n",
    "            if target == (numbers[i] + numbers[j]):\n",
    "                return [i+1,j+1]\n",
    "            else:\n",
    "                if target > (numbers[i] + numbers[j]):\n",
    "                    i += 1\n",
    "                else:\n",
    "                    j -= 1\n",
    "\n",
    "\n",
    "sol = Solution()\n",
    "numbers = [2,7,11,15]\n",
    "target = 13\n",
    "result = sol.twoSum(numbers, target)\n",
    "print(result)"
   ]
  },
  {
   "cell_type": "code",
   "execution_count": null,
   "id": "1495443f-2743-4121-9e7f-598d36b1442c",
   "metadata": {},
   "outputs": [],
   "source": []
  }
 ],
 "metadata": {
  "kernelspec": {
   "display_name": "Python 3 (ipykernel)",
   "language": "python",
   "name": "python3"
  },
  "language_info": {
   "codemirror_mode": {
    "name": "ipython",
    "version": 3
   },
   "file_extension": ".py",
   "mimetype": "text/x-python",
   "name": "python",
   "nbconvert_exporter": "python",
   "pygments_lexer": "ipython3",
   "version": "3.12.6"
  }
 },
 "nbformat": 4,
 "nbformat_minor": 5
}
