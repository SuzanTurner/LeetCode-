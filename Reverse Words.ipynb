{
 "cells": [
  {
   "cell_type": "code",
   "execution_count": 13,
   "id": "cffd0c8b-4181-4f3d-b1e5-3279fb6040ca",
   "metadata": {},
   "outputs": [
    {
     "name": "stdout",
     "output_type": "stream",
     "text": [
      "['The', 'Baby', 'is', 'Supreme']\n",
      "['Supreme', 'is', 'Baby', 'The']\n",
      "Supreme is Baby The\n"
     ]
    }
   ],
   "source": [
    "class Solution:\n",
    "    def reverseWords(self, s: str) -> str:\n",
    "        words = []\n",
    "        s = s.strip()\n",
    "        k = 0\n",
    "        for i in range(len(s)):\n",
    "            if s[i] == ' ':\n",
    "                if s[k:i] != '':\n",
    "                    words.append(s[k:i])\n",
    "                k = i+1\n",
    "        words.append(s[k:len(s)])\n",
    "        print(words)\n",
    "        words = words[::-1]\n",
    "        print(words)\n",
    "\n",
    "        return ' '.join(words)\n",
    "        \n",
    "            \n",
    "            \n",
    "\n",
    "sol = Solution()\n",
    "s = \"The Baby is       Supreme\"\n",
    "result = sol.reverseWords(s)\n",
    "print(result)"
   ]
  },
  {
   "cell_type": "code",
   "execution_count": null,
   "id": "27df33f6-7c46-4f22-8600-e64250424ebd",
   "metadata": {},
   "outputs": [],
   "source": []
  }
 ],
 "metadata": {
  "kernelspec": {
   "display_name": "Python 3 (ipykernel)",
   "language": "python",
   "name": "python3"
  },
  "language_info": {
   "codemirror_mode": {
    "name": "ipython",
    "version": 3
   },
   "file_extension": ".py",
   "mimetype": "text/x-python",
   "name": "python",
   "nbconvert_exporter": "python",
   "pygments_lexer": "ipython3",
   "version": "3.12.6"
  }
 },
 "nbformat": 4,
 "nbformat_minor": 5
}
