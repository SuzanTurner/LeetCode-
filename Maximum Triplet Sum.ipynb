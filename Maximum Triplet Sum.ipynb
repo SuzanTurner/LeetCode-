{
 "cells": [
  {
   "cell_type": "code",
   "execution_count": 1,
   "id": "c862a78e-95f8-4461-baf6-54a3aef0e32e",
   "metadata": {},
   "outputs": [],
   "source": [
    "from typing import List"
   ]
  },
  {
   "cell_type": "code",
   "execution_count": 9,
   "id": "e379c01d-baf5-4b46-b7ac-d5b13eb4d8ff",
   "metadata": {},
   "outputs": [
    {
     "name": "stdout",
     "output_type": "stream",
     "text": [
      "77\n"
     ]
    }
   ],
   "source": [
    "class Solution:\n",
    "    def maximumTripletValue(self, nums: List[int]) -> int:\n",
    "        s = 0\n",
    "        for i in range(len(nums)):\n",
    "            for j in range(i+1, len(nums)):\n",
    "                for k in range(j+1, len(nums)):\n",
    "                    s = max(s, (nums[i] - nums[j]) * nums[k])\n",
    "        return s\n",
    "\n",
    "sol = Solution()\n",
    "nums = [12,6,1,2,7]\n",
    "result = sol.maximumTripletValue(nums)\n",
    "print(result)\n",
    "        "
   ]
  },
  {
   "cell_type": "code",
   "execution_count": 13,
   "id": "c7dc254d-d495-4535-9c87-1d9e9ad3cd60",
   "metadata": {},
   "outputs": [
    {
     "name": "stdout",
     "output_type": "stream",
     "text": [
      "2\n"
     ]
    }
   ],
   "source": [
    "class Solution:\n",
    "    def arithmeticTriplets(self, nums: List[int], diff: int) -> int:\n",
    "        s = 0\n",
    "        for i in range(len(nums)):\n",
    "            for j in range(i+1, len(nums)):\n",
    "                for k in range(j+1, len(nums)):\n",
    "                    if nums[j] - nums[i] == diff and nums[k] - nums[j] == diff:\n",
    "                        s += 1\n",
    "        return s\n",
    "\n",
    "sol = Solution()\n",
    "nums = [0,1,4,6,7,10]\n",
    "diff = 3\n",
    "result = sol.arithmeticTriplets(nums, diff)\n",
    "print(result)"
   ]
  },
  {
   "cell_type": "code",
   "execution_count": 18,
   "id": "35fb7027-5829-41d3-ad4a-a989f763ff2a",
   "metadata": {},
   "outputs": [
    {
     "name": "stdout",
     "output_type": "stream",
     "text": [
      "3\n"
     ]
    }
   ],
   "source": [
    "class Solution:\n",
    "    def unequalTriplets(self, nums: List[int]) -> int:\n",
    "        s = 0\n",
    "        for i in range(len(nums)):\n",
    "            for j in range(i+1, len(nums)):\n",
    "                for k in range(j+1, len(nums)):\n",
    "                    if nums[j] != nums[i]  and nums[k] != nums[j] and nums[i] != nums[k]:\n",
    "                        s += 1\n",
    "        return s\n",
    "\n",
    "sol = Solution()\n",
    "nums = [4,4,2,4,3]\n",
    "diff = 3\n",
    "result = sol.unequalTriplets(nums)\n",
    "print(result)"
   ]
  },
  {
   "cell_type": "code",
   "execution_count": 26,
   "id": "e913e555-7fa8-48c7-9d25-327a6c7d502e",
   "metadata": {},
   "outputs": [
    {
     "name": "stdout",
     "output_type": "stream",
     "text": [
      "-1\n"
     ]
    }
   ],
   "source": [
    "class Solution:\n",
    "    def minimumSum(self, nums: List[int]) -> int:\n",
    "        n = len(nums)\n",
    "        sums = []\n",
    "        for i in range(n):\n",
    "            for j in range(i+1, n):\n",
    "                for k in range(j+1, n):\n",
    "                    if nums[i] < nums[j] and nums[k] < nums[j]:\n",
    "                        sums.append(nums[i] + nums[j] + nums[k])\n",
    "        if sums == []:\n",
    "            return -1\n",
    "        return min(sums)\n",
    "        \n",
    "\n",
    "sol = Solution()\n",
    "nums = []\n",
    "result = sol.minimumSum(nums)\n",
    "print(result)"
   ]
  },
  {
   "cell_type": "code",
   "execution_count": 33,
   "id": "5547e54f-f191-4ef3-9083-769c9c31477a",
   "metadata": {},
   "outputs": [
    {
     "name": "stdout",
     "output_type": "stream",
     "text": [
      "4\n"
     ]
    }
   ],
   "source": [
    "class Solution:\n",
    "    def countGoodTriplets(self, arr: List[int], a: int, b: int, c: int) -> int:\n",
    "        n = len(arr)\n",
    "        s = 0\n",
    "        for i in range(n):\n",
    "            for j in range(i+1, n):\n",
    "                for k in range(j+1, n):\n",
    "                    if (abs(arr[i] - arr[j]) <= a) and (abs(arr[j] - arr[k]) <= b) and (abs(arr[i] - arr[k])<= c):\n",
    "                        s += 1\n",
    "        return s\n",
    "                    \n",
    "                    \n",
    "\n",
    "sol = Solution()\n",
    "arr = [3,0,1,1,9,7]\n",
    "a = 7\n",
    "b = 2\n",
    "c = 3\n",
    "result = sol.countGoodTriplets(arr, a, b,c)\n",
    "print(result)"
   ]
  },
  {
   "cell_type": "code",
   "execution_count": 45,
   "id": "a179b59e-dfad-43a3-8324-027fba4488f0",
   "metadata": {},
   "outputs": [
    {
     "name": "stdout",
     "output_type": "stream",
     "text": [
      "2\n"
     ]
    }
   ],
   "source": [
    "class Solution:\n",
    "    def countTriples(self, n: int) -> int:\n",
    "        s = 0\n",
    "        i = 1\n",
    "        for i in range(n+1):\n",
    "            for j in range(i+1, n+1):\n",
    "                for k in range(j+1, n+1):\n",
    "                    #print(\"i =\", i, \"j =\", j, \"k =\", k)\n",
    "                    if i**2 + j**2 == k**2:\n",
    "                        s += 2\n",
    "        return s \n",
    "                    \n",
    "\n",
    "sol = Solution()\n",
    "n = 5\n",
    "result = sol.countTriples(n)\n",
    "print(result)"
   ]
  },
  {
   "cell_type": "code",
   "execution_count": 48,
   "id": "c5ba29e8-1278-4623-b138-01fd2836f32c",
   "metadata": {},
   "outputs": [
    {
     "name": "stdout",
     "output_type": "stream",
     "text": [
      "1\n"
     ]
    }
   ],
   "source": [
    "class Solution:\n",
    "    def countQuadruplets(self, nums: List[int]) -> int:\n",
    "        n = len(nums)\n",
    "        s = 0\n",
    "        for i in range(n):\n",
    "            for j in range(i+1, n):\n",
    "                for k in range(j+1, n):\n",
    "                    for l in range(k+1, n):\n",
    "                        if nums[i] + nums[j] + nums[k] == nums[l]:\n",
    "                            s += 1\n",
    "        return s\n",
    "                    \n",
    "                \n",
    "\n",
    "sol = Solution()\n",
    "nums = [1,2,3,6]\n",
    "result = sol.countQuadruplets(nums)\n",
    "print(result)"
   ]
  },
  {
   "cell_type": "code",
   "execution_count": null,
   "id": "2cbfda39-08d2-4938-9e86-bec4df195726",
   "metadata": {},
   "outputs": [],
   "source": []
  }
 ],
 "metadata": {
  "kernelspec": {
   "display_name": "Python 3 (ipykernel)",
   "language": "python",
   "name": "python3"
  },
  "language_info": {
   "codemirror_mode": {
    "name": "ipython",
    "version": 3
   },
   "file_extension": ".py",
   "mimetype": "text/x-python",
   "name": "python",
   "nbconvert_exporter": "python",
   "pygments_lexer": "ipython3",
   "version": "3.12.6"
  }
 },
 "nbformat": 4,
 "nbformat_minor": 5
}
