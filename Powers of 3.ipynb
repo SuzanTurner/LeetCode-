{
 "cells": [
  {
   "cell_type": "code",
   "execution_count": 30,
   "id": "850f2e69-2403-400c-acae-a312191b4980",
   "metadata": {},
   "outputs": [
    {
     "name": "stdout",
     "output_type": "stream",
     "text": [
      "False\n"
     ]
    }
   ],
   "source": [
    "class Solution:\n",
    "    def isPowerOfThree(self, n: int) -> bool:\n",
    "        if n <= 0:\n",
    "            return False\n",
    "        while n % 3 == 0:  \n",
    "            n //= 3\n",
    "        return n == 1\n",
    "        \n",
    "sol = Solution()\n",
    "n = -1\n",
    "result = sol.isPowerOfThree(n)\n",
    "print(result)"
   ]
  },
  {
   "cell_type": "code",
   "execution_count": 4,
   "id": "584e89b4-2f87-408c-9810-442ae3a81754",
   "metadata": {},
   "outputs": [],
   "source": [
    "import math"
   ]
  },
  {
   "cell_type": "code",
   "execution_count": 10,
   "id": "fb06daba-9a55-4591-947d-1963e0177b64",
   "metadata": {},
   "outputs": [
    {
     "name": "stdout",
     "output_type": "stream",
     "text": [
      "243\n"
     ]
    }
   ],
   "source": [
    "print(3 ** 5)"
   ]
  },
  {
   "cell_type": "code",
   "execution_count": 23,
   "id": "5454ce87-a506-40fc-8e4f-ead5776fede0",
   "metadata": {},
   "outputs": [
    {
     "name": "stdout",
     "output_type": "stream",
     "text": [
      "1: True\n",
      "3: True\n",
      "9: True\n",
      "27: True\n",
      "81: True\n",
      "10: False\n",
      "15: False\n",
      "30: False\n",
      "243: False\n",
      "0: False\n",
      "-3: False\n"
     ]
    }
   ],
   "source": [
    "import math\n",
    "\n",
    "class Solution:\n",
    "    def isPowerOfThree(self, n: int) -> bool:\n",
    "        if n <= 0:\n",
    "            return False  # Negative numbers and 0 are not powers of 3\n",
    "        log_val = math.log(n, 3)\n",
    "        return log_val.is_integer()  # Check if log value is an integer\n",
    "\n",
    "# Test cases\n",
    "sol = Solution()\n",
    "test_cases = [1, 3, 9, 27, 81, 10, 15, 30, 243, 0, -3]\n",
    "for num in test_cases:\n",
    "    print(f\"{num}: {sol.isPowerOfThree(num)}\")\n"
   ]
  },
  {
   "cell_type": "code",
   "execution_count": null,
   "id": "b58216bc-d3ae-48dd-bf95-dfe71a0565f5",
   "metadata": {},
   "outputs": [],
   "source": []
  }
 ],
 "metadata": {
  "kernelspec": {
   "display_name": "Python 3 (ipykernel)",
   "language": "python",
   "name": "python3"
  },
  "language_info": {
   "codemirror_mode": {
    "name": "ipython",
    "version": 3
   },
   "file_extension": ".py",
   "mimetype": "text/x-python",
   "name": "python",
   "nbconvert_exporter": "python",
   "pygments_lexer": "ipython3",
   "version": "3.12.6"
  }
 },
 "nbformat": 4,
 "nbformat_minor": 5
}
