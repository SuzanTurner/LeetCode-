{
 "cells": [
  {
   "cell_type": "code",
   "execution_count": 34,
   "id": "9390b899-32fb-403f-8784-af75a17f9c0f",
   "metadata": {},
   "outputs": [
    {
     "name": "stdout",
     "output_type": "stream",
     "text": [
      "9 57\n",
      ", 44\n",
      "8 56\n",
      "98\n",
      "89\n",
      "False\n"
     ]
    }
   ],
   "source": [
    "class Solution:\n",
    "    def isPalindrome(self, s: str) -> bool:\n",
    "        s = s.strip()\n",
    "        s = s.lower()\n",
    "        w = \"\"\n",
    "        for i in s:\n",
    "            print(i, ord(i))\n",
    "            if i == \" \":\n",
    "                continue\n",
    "                print(w)\n",
    "            elif (ord(i) >= 33 and ord(i) <= 47) or (ord(i) >= 58 and ord(i) <= 64) or (ord(i) >= 91 and ord(i) <= 96) or (ord(i) >= 123 and ord(i) <= 126):\n",
    "                continue\n",
    "            w += i\n",
    "\n",
    "        print(w)\n",
    "        print(w[::-1])\n",
    "        if w == w[::-1]:\n",
    "            return True\n",
    "        else:\n",
    "            return False\n",
    "\n",
    "sol = Solution()\n",
    "s = \"9,8\"\n",
    "result = sol.isPalindrome(s)\n",
    "print(result)"
   ]
  },
  {
   "cell_type": "code",
   "execution_count": null,
   "id": "09550660-8f7f-49ab-875d-50adc3d2e9ee",
   "metadata": {},
   "outputs": [],
   "source": []
  },
  {
   "cell_type": "code",
   "execution_count": null,
   "id": "94c6f0b4-ecfc-4980-87bc-80b5ca5ddecf",
   "metadata": {},
   "outputs": [],
   "source": []
  }
 ],
 "metadata": {
  "kernelspec": {
   "display_name": "Python 3 (ipykernel)",
   "language": "python",
   "name": "python3"
  },
  "language_info": {
   "codemirror_mode": {
    "name": "ipython",
    "version": 3
   },
   "file_extension": ".py",
   "mimetype": "text/x-python",
   "name": "python",
   "nbconvert_exporter": "python",
   "pygments_lexer": "ipython3",
   "version": "3.12.6"
  }
 },
 "nbformat": 4,
 "nbformat_minor": 5
}
