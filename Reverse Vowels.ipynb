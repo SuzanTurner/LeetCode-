{
 "cells": [
  {
   "cell_type": "code",
   "execution_count": 27,
   "id": "b6ff82d4-60ec-48fa-9e16-7255db49e483",
   "metadata": {},
   "outputs": [
    {
     "name": "stdout",
     "output_type": "stream",
     "text": [
      "['I', 'e', 'e', 'A']\n",
      "AceCreIm\n"
     ]
    }
   ],
   "source": [
    "class Solution:\n",
    "    def reverseVowels(self, s: str) -> str:\n",
    "        s = list(s)\n",
    "        vowels = ['A', 'E', 'I', 'O', 'U', 'a', 'e', 'i', 'o', 'u']\n",
    "        v = []\n",
    "        for i in s:\n",
    "            if i in vowels:\n",
    "                v.append(i)\n",
    "        print(v)\n",
    "        j = 1\n",
    "        for i in range(len(s)):\n",
    "            #print(s[i])  \n",
    "            #print(v[len(v) - j])\n",
    "            if s[i] in vowels:\n",
    "                s[i] = v[len(v) - j]\n",
    "                j += 1\n",
    "        return ''.join(s)\n",
    "                \n",
    "\n",
    "sol = Solution()\n",
    "s = \"IceCreAm\"\n",
    "result = sol.reverseVowels(s)\n",
    "print(result)"
   ]
  },
  {
   "cell_type": "code",
   "execution_count": 19,
   "id": "675ae4cc-e5af-43be-99f9-04b0829d4ad4",
   "metadata": {},
   "outputs": [
    {
     "name": "stdout",
     "output_type": "stream",
     "text": [
      "['Y', 'a', 'd', 'h']\n"
     ]
    }
   ],
   "source": [
    "n = \"Yadh\"\n",
    "print(list(n))"
   ]
  },
  {
   "cell_type": "code",
   "execution_count": null,
   "id": "04a0a332-a7af-48b4-bcfa-ab4535c3cba9",
   "metadata": {},
   "outputs": [],
   "source": [
    "class Solution:\n",
    "    def reverseVowels(self, s: str) -> str:\n",
    "        s = list(s)  # convert to list so we can modify characters\n",
    "        vowels = ['A', 'E', 'I', 'O', 'U', 'a', 'e', 'i', 'o', 'u']\n",
    "        v = []\n",
    "        for i in s:\n",
    "            if i in vowels:\n",
    "                v.append(i)\n",
    "        \n",
    "        j = 1\n",
    "        for i in range(len(s)):\n",
    "            if s[i] in vowels:  # 🔥 this is the key fix\n",
    "                s[i] = v[len(v) - j]\n",
    "                j += 1\n",
    "                \n",
    "        return ''.join(s)  # convert list back to string\n"
   ]
  }
 ],
 "metadata": {
  "kernelspec": {
   "display_name": "Python 3 (ipykernel)",
   "language": "python",
   "name": "python3"
  },
  "language_info": {
   "codemirror_mode": {
    "name": "ipython",
    "version": 3
   },
   "file_extension": ".py",
   "mimetype": "text/x-python",
   "name": "python",
   "nbconvert_exporter": "python",
   "pygments_lexer": "ipython3",
   "version": "3.12.6"
  }
 },
 "nbformat": 4,
 "nbformat_minor": 5
}
