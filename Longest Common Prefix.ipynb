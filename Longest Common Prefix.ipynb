{
 "cells": [
  {
   "cell_type": "code",
   "execution_count": 2,
   "id": "b70022f8-e827-4918-a737-b7718dbacb72",
   "metadata": {},
   "outputs": [],
   "source": [
    "from typing import List"
   ]
  },
  {
   "cell_type": "code",
   "execution_count": 28,
   "id": "59b88720-0a73-4ae2-8264-4e669f8ee2d4",
   "metadata": {},
   "outputs": [
    {
     "name": "stdout",
     "output_type": "stream",
     "text": [
      "flower flight flower flower\n",
      "\n"
     ]
    }
   ],
   "source": [
    "class Solution:\n",
    "    def longestCommonPrefix(strs):\n",
    "        if not strs:\n",
    "            return \"\"\n",
    "\n",
    "        prefix = strs[0]  # Start with the first string as the prefix\n",
    "    \n",
    "        for s in strs[1:]:  # Compare with all other strings\n",
    "            while not s.startswith(prefix):  # Trim the prefix if it doesn't match\n",
    "                prefix = prefix[:-1]  \n",
    "                if not prefix:\n",
    "                    return \"\"\n",
    "    \n",
    "        return prefix\n",
    "                \n",
    "\n",
    "strs = [\"flight\", \"flower\"]\n",
    "sol = Solution()\n",
    "result = sol.longestCommonPrefix(strs)\n",
    "print(result)"
   ]
  },
  {
   "cell_type": "code",
   "execution_count": 22,
   "id": "57f373a5-2862-4ab8-98dc-71addd63115b",
   "metadata": {},
   "outputs": [
    {
     "name": "stdout",
     "output_type": "stream",
     "text": [
      "Yadhnik\n"
     ]
    }
   ],
   "source": [
    "st = \"Yadhnika\"\n",
    "print(st[:len(st) -1])"
   ]
  },
  {
   "cell_type": "code",
   "execution_count": 30,
   "id": "e1252ece-b100-467d-8566-33d91f49c42f",
   "metadata": {},
   "outputs": [
    {
     "name": "stdout",
     "output_type": "stream",
     "text": [
      "flower\n"
     ]
    }
   ],
   "source": [
    "print(strs[1])"
   ]
  },
  {
   "cell_type": "code",
   "execution_count": 32,
   "id": "d6773306-8d94-4c75-9c1c-ce375ad32136",
   "metadata": {},
   "outputs": [
    {
     "ename": "TypeError",
     "evalue": "can only concatenate str (not \"int\") to str",
     "output_type": "error",
     "traceback": [
      "\u001b[1;31m---------------------------------------------------------------------------\u001b[0m",
      "\u001b[1;31mTypeError\u001b[0m                                 Traceback (most recent call last)",
      "Cell \u001b[1;32mIn[32], line 2\u001b[0m\n\u001b[0;32m      1\u001b[0m \u001b[38;5;28;01mfor\u001b[39;00m i \u001b[38;5;129;01min\u001b[39;00m strs:\n\u001b[1;32m----> 2\u001b[0m     \u001b[38;5;28mprint\u001b[39m(\u001b[43mi\u001b[49m\u001b[38;5;241;43m+\u001b[39;49m\u001b[38;5;241;43m1\u001b[39;49m)\n",
      "\u001b[1;31mTypeError\u001b[0m: can only concatenate str (not \"int\") to str"
     ]
    }
   ],
   "source": []
  },
  {
   "cell_type": "code",
   "execution_count": 33,
   "id": "1c9919e9-7146-4209-95ed-5d8d122a7c20",
   "metadata": {},
   "outputs": [],
   "source": [
    "def longestCommonPrefix(strs):\n",
    "    if not strs:\n",
    "        return \"\"\n",
    "\n",
    "    prefix = strs[0]  # Start with the first string as the prefix\n",
    "\n",
    "    for s in strs[1:]:  # Compare with all other strings\n",
    "        while not s.startswith(prefix):  # Trim the prefix if it doesn't match\n",
    "            prefix = prefix[:-1]  \n",
    "            if not prefix:\n",
    "                return \"\"\n",
    "\n",
    "    return prefix\n"
   ]
  },
  {
   "cell_type": "code",
   "execution_count": null,
   "id": "cc85bb66-657f-4f38-b6d2-efe3ad54b4c5",
   "metadata": {},
   "outputs": [],
   "source": []
  }
 ],
 "metadata": {
  "kernelspec": {
   "display_name": "Python 3 (ipykernel)",
   "language": "python",
   "name": "python3"
  },
  "language_info": {
   "codemirror_mode": {
    "name": "ipython",
    "version": 3
   },
   "file_extension": ".py",
   "mimetype": "text/x-python",
   "name": "python",
   "nbconvert_exporter": "python",
   "pygments_lexer": "ipython3",
   "version": "3.12.6"
  }
 },
 "nbformat": 4,
 "nbformat_minor": 5
}
