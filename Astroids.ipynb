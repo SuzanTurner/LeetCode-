{
 "cells": [
  {
   "cell_type": "code",
   "execution_count": 1,
   "id": "55670529-dc2f-46b7-801f-bbb1a8b1b4e5",
   "metadata": {},
   "outputs": [],
   "source": [
    "from typing import List"
   ]
  },
  {
   "cell_type": "code",
   "execution_count": 14,
   "id": "dfb6dd72-c0d7-4081-82fe-40e1b88d0afe",
   "metadata": {},
   "outputs": [
    {
     "name": "stdout",
     "output_type": "stream",
     "text": [
      "5\n",
      "10\n",
      "-5\n",
      "[5, 10]\n"
     ]
    }
   ],
   "source": [
    "class Solution:\n",
    "    def asteroidCollision(self, asteroids: List[int]) -> List[int]:\n",
    "        a = asteroids\n",
    "        for i in range(len(a)):\n",
    "            print(a[i])\n",
    "            if a[i] < 0:\n",
    "                a[i-1] = max(abs(a[i]), abs(a[i-1]))\n",
    "                a.pop(i)\n",
    "                \n",
    "        return a\n",
    "\n",
    "\n",
    "sol = Solution()\n",
    "asteroids = [5,10,-5]\n",
    "result = sol.asteroidCollision(asteroids)\n",
    "print(result)\n",
    "        "
   ]
  },
  {
   "cell_type": "code",
   "execution_count": 18,
   "id": "d3f4243e-4a32-4165-89ff-4b5ea42a37c8",
   "metadata": {},
   "outputs": [],
   "source": [
    "from typing import List\n",
    "\n",
    "class Solution:\n",
    "    def asteroidCollision(self, asteroids: List[int]) -> List[int]:\n",
    "        stack = []\n",
    "        \n",
    "        for ast in asteroids:\n",
    "            while stack and ast < 0 and stack[-1] > 0:\n",
    "\n",
    "                if stack[-1] < -ast:\n",
    "                    stack.pop()  # current asteroid destroys the one on stack\n",
    "                    continue\n",
    "                elif stack[-1] == -ast:\n",
    "                    stack.pop()  # both destroyed\n",
    "                break\n",
    "            else:\n",
    "                stack.append(ast)\n",
    "        \n",
    "        return stack\n"
   ]
  },
  {
   "cell_type": "code",
   "execution_count": 20,
   "id": "aa1b9442-7bfc-4df2-bd81-dc2a3229c79f",
   "metadata": {},
   "outputs": [
    {
     "name": "stdout",
     "output_type": "stream",
     "text": [
      "[5, 10, 6]\n"
     ]
    }
   ],
   "source": [
    "a = [5,10,-5,6]\n",
    "\n",
    "stack = []\n",
    "for ast in a:\n",
    "    while stack and ast < 0 and stack[-1] > 0:\n",
    "        if stack[-1] < -ast:\n",
    "            stack.pop()\n",
    "            continue\n",
    "        elif stack[-1] == -ast:\n",
    "            stack.pop()\n",
    "        break\n",
    "    else:\n",
    "        stack.append(ast)\n",
    "print(stack)"
   ]
  },
  {
   "cell_type": "code",
   "execution_count": null,
   "id": "b0752969-80dc-4a19-85da-483b509351c9",
   "metadata": {},
   "outputs": [],
   "source": []
  }
 ],
 "metadata": {
  "kernelspec": {
   "display_name": "Python 3 (ipykernel)",
   "language": "python",
   "name": "python3"
  },
  "language_info": {
   "codemirror_mode": {
    "name": "ipython",
    "version": 3
   },
   "file_extension": ".py",
   "mimetype": "text/x-python",
   "name": "python",
   "nbconvert_exporter": "python",
   "pygments_lexer": "ipython3",
   "version": "3.12.6"
  }
 },
 "nbformat": 4,
 "nbformat_minor": 5
}
