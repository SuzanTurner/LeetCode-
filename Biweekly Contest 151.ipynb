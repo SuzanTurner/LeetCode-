{
 "cells": [
  {
   "cell_type": "code",
   "execution_count": 1,
   "id": "b323f427-a5ee-4d04-88d6-c9027b2b62de",
   "metadata": {},
   "outputs": [],
   "source": [
    "from typing import List"
   ]
  },
  {
   "cell_type": "code",
   "execution_count": 6,
   "id": "7e06c852-1057-4a97-85c8-25b4356315fc",
   "metadata": {},
   "outputs": [
    {
     "name": "stdout",
     "output_type": "stream",
     "text": [
      "[0, 0, 1, 1, 1, 1, 1]\n"
     ]
    }
   ],
   "source": [
    "class Solution:\n",
    "    def transformArray(self, nums: List[int]) -> List[int]:\n",
    "        for i in range(len(nums)):\n",
    "            if nums[i] % 2 == 0:\n",
    "                nums[i] = 0\n",
    "            else:\n",
    "                nums[i] = 1\n",
    "        \n",
    "        return sorted(nums)\n",
    "\n",
    "sol = Solution()\n",
    "nums = [1,5,3,7,9, 2, 2]\n",
    "result = sol.transformArray(nums)\n",
    "print(result)"
   ]
  },
  {
   "cell_type": "code",
   "execution_count": 25,
   "id": "055520e3-2dc9-4e94-aa7e-bdcc681dcb00",
   "metadata": {},
   "outputs": [
    {
     "name": "stdout",
     "output_type": "stream",
     "text": [
      "20\n",
      "[1, 7, 8, 18]\n",
      "[1, 7, 18]\n",
      "38\n"
     ]
    }
   ],
   "source": [
    "class Solution:\n",
    "    def minCost(self, nums: List[int]) -> int:\n",
    "        n = 0\n",
    "        while nums != []:\n",
    "            n += max(nums[:3])\n",
    "            print(n)\n",
    "            nums.remove( max(nums[:3]))\n",
    "            print(nums)\n",
    "            nums.remove( max(nums[:3]))\n",
    "            print(nums)\n",
    "            if len(nums) == 3:\n",
    "                return n + max(nums)\n",
    "        return n\n",
    "\n",
    "sol = Solution()\n",
    "nums = [1,20,7,8,18]\n",
    "result = sol.minCost(nums)\n",
    "print(result)"
   ]
  },
  {
   "cell_type": "code",
   "execution_count": 15,
   "id": "dd3f4474-ca20-4e39-90c8-293849f35177",
   "metadata": {},
   "outputs": [
    {
     "name": "stdout",
     "output_type": "stream",
     "text": [
      "[2, 1, 3]\n"
     ]
    }
   ],
   "source": [
    "print(nums[:3])"
   ]
  },
  {
   "cell_type": "code",
   "execution_count": 19,
   "id": "e9ae2ac6-daa1-41d3-bd55-46522fb7d6c9",
   "metadata": {},
   "outputs": [
    {
     "name": "stdout",
     "output_type": "stream",
     "text": [
      "[1]\n"
     ]
    }
   ],
   "source": [
    "nums.remove( max(nums[:3]))\n",
    "print(nums)\n",
    "nums.remove( max(nums[:3]))\n"
   ]
  },
  {
   "cell_type": "code",
   "execution_count": null,
   "id": "62905c8b-3691-41ae-9f17-b9c4e9167757",
   "metadata": {},
   "outputs": [],
   "source": []
  }
 ],
 "metadata": {
  "kernelspec": {
   "display_name": "Python 3 (ipykernel)",
   "language": "python",
   "name": "python3"
  },
  "language_info": {
   "codemirror_mode": {
    "name": "ipython",
    "version": 3
   },
   "file_extension": ".py",
   "mimetype": "text/x-python",
   "name": "python",
   "nbconvert_exporter": "python",
   "pygments_lexer": "ipython3",
   "version": "3.12.6"
  }
 },
 "nbformat": 4,
 "nbformat_minor": 5
}
