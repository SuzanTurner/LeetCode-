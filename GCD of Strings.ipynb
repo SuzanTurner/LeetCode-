{
 "cells": [
  {
   "cell_type": "code",
   "execution_count": 1,
   "id": "ffa1b32b-518e-45c8-a615-e869b9bc35c9",
   "metadata": {},
   "outputs": [
    {
     "name": "stdout",
     "output_type": "stream",
     "text": [
      "411\n"
     ]
    }
   ],
   "source": [
    "n = 46\n",
    "\n",
    "d = 0\n",
    "s = \"\"\n",
    "l = len(str(n))\n",
    "while n > 0:\n",
    "    d = int(n % 6)\n",
    "    s += str(d)\n",
    "    n = n // 6\n",
    "\n",
    "print(s)"
   ]
  },
  {
   "cell_type": "code",
   "execution_count": 8,
   "id": "c0d5dd55-82b9-4489-a81d-005ba8ceee62",
   "metadata": {},
   "outputs": [
    {
     "name": "stdout",
     "output_type": "stream",
     "text": [
      "\n"
     ]
    }
   ],
   "source": [
    "class Solution:\n",
    "    def gcdOfStrings(self, str1: str, str2: str) -> str:\n",
    "        minlen = min(len(str1), len(str2))\n",
    "        s = \"\"\n",
    "        for i in range(minlen):\n",
    "            if str1[i] == str2[i]:\n",
    "                s += str1[i]\n",
    "            else:\n",
    "                break\n",
    "        return s\n",
    "\n",
    "sol = Solution()\n",
    "str1 = \"leet\"\n",
    "str2 = \"code\"\n",
    "result = sol.gcdOfStrings(str1, str2)\n",
    "print(result)"
   ]
  },
  {
   "cell_type": "code",
   "execution_count": 12,
   "id": "bc82771e-4b65-4486-8ef1-fa24089fd8f7",
   "metadata": {},
   "outputs": [
    {
     "name": "stdout",
     "output_type": "stream",
     "text": [
      "AB\n"
     ]
    }
   ],
   "source": [
    "import math\n",
    "class Solution:\n",
    "    def gcdOfStrings(self, str1: str, str2: str) -> str:\n",
    "        if str1 + str2 != str2 + str1:\n",
    "            return \"\"\n",
    "\n",
    "        gcd_len = math.gcd(len(str1), len(str2))\n",
    "        return str1[:gcd_len]\n",
    "\n",
    "sol = Solution()\n",
    "str1 = \"ABABAB\"\n",
    "str2 = \"ABAB\"\n",
    "result = sol.gcdOfStrings(str1, str2)\n",
    "print(result)"
   ]
  },
  {
   "cell_type": "code",
   "execution_count": 13,
   "id": "32f31ca4-f1ce-46ae-a201-2a2cd7f403d7",
   "metadata": {},
   "outputs": [
    {
     "name": "stdout",
     "output_type": "stream",
     "text": [
      "AB\n"
     ]
    }
   ],
   "source": [
    "import math\n",
    "class Solution:\n",
    "    def gcdOfStrings(self, str1: str, str2: str) -> str:\n",
    "        if str1 + str2 != str1 + str2:\n",
    "            return \"\"\n",
    "        gcd_len = math.gcd(len(str1), len(str2))\n",
    "        return str1[:gcd_len]       \n",
    "\n",
    "sol = Solution()\n",
    "str1 = \"ABABAB\"\n",
    "str2 = \"ABAB\"\n",
    "result = sol.gcdOfStrings(str1, str2)\n",
    "print(result)"
   ]
  },
  {
   "cell_type": "code",
   "execution_count": 15,
   "id": "e68833b9-3a15-4827-825b-a7b1a116ae44",
   "metadata": {},
   "outputs": [
    {
     "name": "stdout",
     "output_type": "stream",
     "text": [
      "411\n"
     ]
    }
   ],
   "source": [
    "n = 46\n",
    "d = 0\n",
    "s = \"\"\n",
    "while n > 0:\n",
    "    d = n % 6\n",
    "    s += str(d)\n",
    "    n = n // 6\n",
    "print(s)"
   ]
  },
  {
   "cell_type": "code",
   "execution_count": null,
   "id": "a79e2063-765a-4430-936c-70a49d6ca9c0",
   "metadata": {},
   "outputs": [],
   "source": []
  }
 ],
 "metadata": {
  "kernelspec": {
   "display_name": "Python 3 (ipykernel)",
   "language": "python",
   "name": "python3"
  },
  "language_info": {
   "codemirror_mode": {
    "name": "ipython",
    "version": 3
   },
   "file_extension": ".py",
   "mimetype": "text/x-python",
   "name": "python",
   "nbconvert_exporter": "python",
   "pygments_lexer": "ipython3",
   "version": "3.12.6"
  }
 },
 "nbformat": 4,
 "nbformat_minor": 5
}
