{
 "cells": [
  {
   "cell_type": "code",
   "execution_count": 7,
   "id": "58028012-9b23-4230-a611-69d9aa799777",
   "metadata": {},
   "outputs": [
    {
     "name": "stdout",
     "output_type": "stream",
     "text": [
      "0\n"
     ]
    }
   ],
   "source": [
    "class Solution:\n",
    "    def numberOfCuts(self, n: int) -> int:\n",
    "        return 0 if n == 1 else n if n % 2 == 1 else n//2\n",
    "\n",
    "\n",
    "sol = Solution()\n",
    "n = 1\n",
    "result = sol.numberOfCuts(n)\n",
    "print(result)"
   ]
  },
  {
   "cell_type": "code",
   "execution_count": null,
   "id": "5a3004aa-dbbd-4337-88d8-1280df8191ad",
   "metadata": {},
   "outputs": [],
   "source": [
    "class Solution:\n",
    "    def smallestEvenMultiple(self, n: int) -> int:\n",
    "        return n if n %2 == 0 else n * 2"
   ]
  }
 ],
 "metadata": {
  "kernelspec": {
   "display_name": "Python 3 (ipykernel)",
   "language": "python",
   "name": "python3"
  },
  "language_info": {
   "codemirror_mode": {
    "name": "ipython",
    "version": 3
   },
   "file_extension": ".py",
   "mimetype": "text/x-python",
   "name": "python",
   "nbconvert_exporter": "python",
   "pygments_lexer": "ipython3",
   "version": "3.12.6"
  }
 },
 "nbformat": 4,
 "nbformat_minor": 5
}
