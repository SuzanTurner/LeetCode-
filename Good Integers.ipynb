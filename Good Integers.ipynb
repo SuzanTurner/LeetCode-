{
 "cells": [
  {
   "cell_type": "code",
   "execution_count": 30,
   "id": "b1c53c42-e9da-4db5-aadf-0ff1c1743cfb",
   "metadata": {},
   "outputs": [
    {
     "name": "stdout",
     "output_type": "stream",
     "text": [
      "[505, 515, 525, 535, 545, 555, 565, 575, 585, 595]\n"
     ]
    }
   ],
   "source": [
    "class Solution:\n",
    "    def countGoodIntegers(self, n: int, k: int) -> int:\n",
    "        g = []\n",
    "        for i in range(10 ** (n-1), (10 ** (n))):\n",
    "            #print(i)\n",
    "            if len(str(i)) % 2 == 0:\n",
    "                if (str(i)[:len(str(i)) // 2]) == (str(i)[len(str(i)) // 2:]):\n",
    "                    if i % k == 0:\n",
    "                        g.append(i)\n",
    "            else:\n",
    "                if (str(i)[:len(str(i)) // 2]) == (str(i)[(len(str(i)) // 2) + 1:]):\n",
    "                    if i % k == 0:\n",
    "                        g.append(i)\n",
    "        return g\n",
    "\n",
    "sol = Solution()\n",
    "n = 3\n",
    "k = 5\n",
    "result = sol.countGoodIntegers(n,k)\n",
    "print(result)\n"
   ]
  },
  {
   "cell_type": "code",
   "execution_count": 8,
   "id": "d77eed33-c30a-48b5-9e96-fdde98df4034",
   "metadata": {},
   "outputs": [
    {
     "name": "stdout",
     "output_type": "stream",
     "text": [
      "12 45\n"
     ]
    }
   ],
   "source": [
    "n = 12345\n",
    "print(str(n)[:2], str(n)[3:])"
   ]
  },
  {
   "cell_type": "code",
   "execution_count": 23,
   "id": "516939de-ff17-4726-b7c3-df3c73cc20d4",
   "metadata": {},
   "outputs": [
    {
     "name": "stdout",
     "output_type": "stream",
     "text": [
      "same\n",
      "('1', '1')\n"
     ]
    }
   ],
   "source": [
    "n = 11\n",
    "if (str(n)[:len(str(n)) // 2]) == (str(n)[(len(str(n)) // 2):]):\n",
    "    print(\"same\")\n",
    "print((str(n)[:len(str(n)) // 2], (str(n)[(len(str(n)) // 2):])))"
   ]
  },
  {
   "cell_type": "code",
   "execution_count": 31,
   "id": "945261a1-3feb-42d4-ae19-6f3dfaa429a0",
   "metadata": {},
   "outputs": [
    {
     "name": "stdout",
     "output_type": "stream",
     "text": [
      "27\n"
     ]
    }
   ],
   "source": [
    "from itertools import permutations\n",
    "\n",
    "class Solution:\n",
    "    def countGoodIntegers(self, n: int, k: int) -> int:\n",
    "        count = 0\n",
    "        \n",
    "        for i in range(10 ** (n - 1), 10 ** n):\n",
    "            digits = str(i)\n",
    "            checked = set()\n",
    "            \n",
    "            for perm in set(permutations(digits)):\n",
    "                if perm[0] == '0':  # No leading zero\n",
    "                    continue\n",
    "                \n",
    "                perm_num = int(''.join(perm))\n",
    "                if perm_num in checked:\n",
    "                    continue\n",
    "                checked.add(perm_num)\n",
    "\n",
    "                if str(perm_num) == str(perm_num)[::-1] and perm_num % k == 0:\n",
    "                    count += 1\n",
    "                    break  # This number is good, move to next\n",
    "        \n",
    "        return count\n",
    "\n",
    "\n",
    "sol = Solution()\n",
    "n = 3\n",
    "k = 5\n",
    "result = sol.countGoodIntegers(n,k)\n",
    "print(result)\n",
    "\n"
   ]
  },
  {
   "cell_type": "code",
   "execution_count": 37,
   "id": "2b164f67-6c1c-4f55-840f-2bb10e2b9102",
   "metadata": {},
   "outputs": [
    {
     "name": "stdout",
     "output_type": "stream",
     "text": [
      "27\n"
     ]
    }
   ],
   "source": [
    "from itertools import permutations\n",
    "\n",
    "class Solution:\n",
    "    def countGoodIntegers(self, n: int, k: int) -> int:\n",
    "        count = 0\n",
    "        for i in range(10 ** (n - 1), 10 ** n):\n",
    "            #print(i)\n",
    "            digits = str(i)\n",
    "            checked = set()\n",
    "\n",
    "            for perm in set(permutations(digits)):\n",
    "                if perm[0] == '0':\n",
    "                    continue\n",
    "                perm_num = int(''.join(perm))\n",
    "                if perm_num in checked:\n",
    "                    continue\n",
    "                checked.add(perm_num)\n",
    "                if (str(perm_num) == str(perm_num)[::-1]) and perm_num % k == 0:\n",
    "                    count += 1\n",
    "        return count\n",
    "\n",
    "sol = Solution()\n",
    "n = 3\n",
    "k = 5\n",
    "result = sol.countGoodIntegers(n,k)\n",
    "print(result)"
   ]
  },
  {
   "cell_type": "code",
   "execution_count": 39,
   "id": "5b7fdc91-0a98-43a1-8c21-3c5f4dc0c671",
   "metadata": {},
   "outputs": [
    {
     "name": "stdout",
     "output_type": "stream",
     "text": [
      "apbqcr4s4t444\n"
     ]
    }
   ],
   "source": [
    "a = \"abc44444\"\n",
    "b = \"pqrst\"\n",
    "s = \"\"\n",
    "min_len = min(len(a), len(b))\n",
    "for i in range(min_len):\n",
    "    s += a[i] + b[i]\n",
    "\n",
    "s += a[min_len:] + b[min_len:]\n",
    "print(s)\n",
    "\n"
   ]
  },
  {
   "cell_type": "code",
   "execution_count": null,
   "id": "fa9293e4-2cf4-4782-b241-4efa543e2037",
   "metadata": {},
   "outputs": [],
   "source": []
  }
 ],
 "metadata": {
  "kernelspec": {
   "display_name": "Python 3 (ipykernel)",
   "language": "python",
   "name": "python3"
  },
  "language_info": {
   "codemirror_mode": {
    "name": "ipython",
    "version": 3
   },
   "file_extension": ".py",
   "mimetype": "text/x-python",
   "name": "python",
   "nbconvert_exporter": "python",
   "pygments_lexer": "ipython3",
   "version": "3.12.6"
  }
 },
 "nbformat": 4,
 "nbformat_minor": 5
}
