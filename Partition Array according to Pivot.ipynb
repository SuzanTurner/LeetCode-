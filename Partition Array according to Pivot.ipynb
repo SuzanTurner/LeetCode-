{
 "cells": [
  {
   "cell_type": "code",
   "execution_count": 59,
   "id": "7e76e566-5008-42c2-a4b8-36cdfa908aab",
   "metadata": {},
   "outputs": [
    {
     "name": "stdout",
     "output_type": "stream",
     "text": [
      "i is 3 j is 0\n",
      "nums[j] 9 pivot 10\n",
      "i is 3 j is 1\n",
      "nums[j] 12 pivot 10\n",
      "[9, 5, 12, 10, 14, 3, 1, 4, 7, 10]\n",
      "i is 3 j is 2\n",
      "nums[j] 12 pivot 10\n",
      "[9, 5, 12, 10, 14, 3, 1, 4, 7, 10]\n",
      "i is 3 j is 3\n",
      "nums[j] 10 pivot 10\n",
      "[9, 5, 10, 12, 14, 3, 1, 4, 7, 10]\n",
      "i is 4 j is 4\n",
      "nums[j] 14 pivot 10\n",
      "[9, 5, 10, 14, 12, 3, 1, 4, 7, 10]\n",
      "i is 4 j is 5\n",
      "nums[j] 3 pivot 10\n",
      "[9, 5, 10, 3, 12, 14, 1, 4, 7, 10]\n",
      "i is 5 j is 6\n",
      "nums[j] 1 pivot 10\n",
      "[9, 5, 10, 3, 1, 14, 12, 4, 7, 10]\n",
      "i is 6 j is 7\n",
      "nums[j] 4 pivot 10\n",
      "[9, 5, 10, 3, 1, 4, 12, 14, 7, 10]\n",
      "i is 7 j is 8\n",
      "nums[j] 7 pivot 10\n",
      "[9, 5, 10, 3, 1, 4, 7, 14, 12, 10]\n",
      "i is 8 j is 9\n",
      "nums[j] 10 pivot 10\n",
      "[9, 5, 10, 3, 1, 4, 7, 10, 12, 14]\n",
      "i is 7 j is 0\n",
      "nums[j] 9 pivot 10\n",
      "i is 7 j is 1\n",
      "nums[j] 5 pivot 10\n",
      "i is 7 j is 2\n",
      "nums[j] 10 pivot 10\n",
      "[9, 5, 7, 3, 1, 4, 10, 10, 12, 14]\n",
      "i is 8 j is 3\n",
      "nums[j] 3 pivot 10\n",
      "i is 8 j is 4\n",
      "nums[j] 1 pivot 10\n",
      "i is 8 j is 5\n",
      "nums[j] 4 pivot 10\n",
      "i is 8 j is 6\n",
      "nums[j] 10 pivot 10\n",
      "[9, 5, 7, 3, 1, 4, 10, 10, 12, 14]\n",
      "i is 9 j is 7\n",
      "nums[j] 10 pivot 10\n",
      "[9, 5, 7, 3, 1, 4, 10, 12, 10, 14]\n",
      "i is 10 j is 8\n",
      "nums[j] 10 pivot 10\n",
      "[9, 5, 7, 3, 1, 4, 10, 12, 14, 10]\n",
      "i is 11 j is 9\n",
      "nums[j] 10 pivot 10\n"
     ]
    },
    {
     "ename": "IndexError",
     "evalue": "list index out of range",
     "output_type": "error",
     "traceback": [
      "\u001b[1;31m---------------------------------------------------------------------------\u001b[0m",
      "\u001b[1;31mIndexError\u001b[0m                                Traceback (most recent call last)",
      "Cell \u001b[1;32mIn[59], line 35\u001b[0m\n\u001b[0;32m     33\u001b[0m nums \u001b[38;5;241m=\u001b[39m [\u001b[38;5;241m9\u001b[39m,\u001b[38;5;241m12\u001b[39m,\u001b[38;5;241m5\u001b[39m,\u001b[38;5;241m10\u001b[39m,\u001b[38;5;241m14\u001b[39m,\u001b[38;5;241m3\u001b[39m,\u001b[38;5;241m1\u001b[39m,\u001b[38;5;241m4\u001b[39m,\u001b[38;5;241m7\u001b[39m, \u001b[38;5;241m10\u001b[39m]\n\u001b[0;32m     34\u001b[0m pivot \u001b[38;5;241m=\u001b[39m \u001b[38;5;241m10\u001b[39m\n\u001b[1;32m---> 35\u001b[0m result \u001b[38;5;241m=\u001b[39m \u001b[43msol\u001b[49m\u001b[38;5;241;43m.\u001b[39;49m\u001b[43mpivotArray\u001b[49m\u001b[43m(\u001b[49m\u001b[43mnums\u001b[49m\u001b[43m,\u001b[49m\u001b[43mpivot\u001b[49m\u001b[43m)\u001b[49m\n\u001b[0;32m     36\u001b[0m \u001b[38;5;28mprint\u001b[39m(result)\n",
      "Cell \u001b[1;32mIn[59], line 19\u001b[0m, in \u001b[0;36mSolution.pivotArray\u001b[1;34m(self, nums, pivot)\u001b[0m\n\u001b[0;32m     17\u001b[0m         i \u001b[38;5;241m+\u001b[39m\u001b[38;5;241m=\u001b[39m \u001b[38;5;241m1\u001b[39m\n\u001b[0;32m     18\u001b[0m \u001b[38;5;28;01melif\u001b[39;00m nums[j] \u001b[38;5;241m==\u001b[39m pivot:\n\u001b[1;32m---> 19\u001b[0m     nums[i\u001b[38;5;241m-\u001b[39m\u001b[38;5;241m1\u001b[39m], nums[j]\u001b[38;5;241m=\u001b[39m nums[j], \u001b[43mnums\u001b[49m\u001b[43m[\u001b[49m\u001b[43mi\u001b[49m\u001b[38;5;241;43m-\u001b[39;49m\u001b[38;5;241;43m1\u001b[39;49m\u001b[43m]\u001b[49m\n\u001b[0;32m     20\u001b[0m     i \u001b[38;5;241m+\u001b[39m\u001b[38;5;241m=\u001b[39m \u001b[38;5;241m1\u001b[39m\n\u001b[0;32m     21\u001b[0m \u001b[38;5;28;01melif\u001b[39;00m nums[j] \u001b[38;5;241m>\u001b[39m pivot:\n",
      "\u001b[1;31mIndexError\u001b[0m: list index out of range"
     ]
    }
   ],
   "source": [
    "from typing import List\n",
    "\n",
    "class Solution:\n",
    "    def pivotArray(self, nums: List[int], pivot: int) -> List[int]:\n",
    "        n = len(nums)\n",
    "        for i in range (1,n):\n",
    "            if nums[i] == pivot:\n",
    "                for j in range(n):\n",
    "                    #print(nums[j])\n",
    "                    print(\"i is\", i, \"j is\", j)\n",
    "                    print(\"nums[j]\", nums[j], \"pivot\", pivot)\n",
    "                    if nums[j] < pivot:\n",
    "                        if j < i:\n",
    "                            continue\n",
    "                        else:\n",
    "                            nums[i-1], nums[j]= nums[j], nums[i-1]\n",
    "                            i += 1\n",
    "                    elif nums[j] == pivot:\n",
    "                        nums[i-1], nums[j]= nums[j], nums[i-1]\n",
    "                        i += 1\n",
    "                    elif nums[j] > pivot:\n",
    "                        if j > i:\n",
    "                            continue\n",
    "                        else:\n",
    "                            nums[i-1], nums[j]= nums[j], nums[i-1]\n",
    "                    print(nums)\n",
    "        return nums\n",
    "                        \n",
    "        \n",
    "            \n",
    "\n",
    "sol = Solution()\n",
    "nums = [9,12,5,10,14,3,1,4,7, 10]\n",
    "pivot = 10\n",
    "result = sol.pivotArray(nums,pivot)\n",
    "print(result)\n"
   ]
  },
  {
   "cell_type": "code",
   "execution_count": 61,
   "id": "f6f4601d-b84a-4073-9ebb-859ad30c4edc",
   "metadata": {},
   "outputs": [
    {
     "name": "stdout",
     "output_type": "stream",
     "text": [
      "[9, 5, 3, 1, 4, 7, 10, 10, 12, 14]\n"
     ]
    }
   ],
   "source": [
    "from typing import List\n",
    "\n",
    "class Solution:\n",
    "    def pivotArray(self, nums: List[int], pivot: int) -> List[int]:\n",
    "        n = len(nums)\n",
    "        s = []\n",
    "        m = []\n",
    "        l = []\n",
    "        for i in range (n):\n",
    "            if nums[i] < pivot:\n",
    "                s.append(nums[i])\n",
    "            elif nums[i] == pivot:\n",
    "                m.append(nums[i])\n",
    "            else:\n",
    "                l.append(nums[i])\n",
    "                \n",
    "            \n",
    "        return s+m+l\n",
    "\n",
    "sol = Solution()\n",
    "nums = [9,12,5,10,14,3,1,4,7, 10]\n",
    "pivot = 10\n",
    "result = sol.pivotArray(nums,pivot)\n",
    "print(result)\n",
    "\n",
    "        "
   ]
  },
  {
   "cell_type": "code",
   "execution_count": null,
   "id": "cd0e78cd-5f1b-4c16-85f5-b8fd56282062",
   "metadata": {},
   "outputs": [],
   "source": []
  }
 ],
 "metadata": {
  "kernelspec": {
   "display_name": "Python 3 (ipykernel)",
   "language": "python",
   "name": "python3"
  },
  "language_info": {
   "codemirror_mode": {
    "name": "ipython",
    "version": 3
   },
   "file_extension": ".py",
   "mimetype": "text/x-python",
   "name": "python",
   "nbconvert_exporter": "python",
   "pygments_lexer": "ipython3",
   "version": "3.12.6"
  }
 },
 "nbformat": 4,
 "nbformat_minor": 5
}
