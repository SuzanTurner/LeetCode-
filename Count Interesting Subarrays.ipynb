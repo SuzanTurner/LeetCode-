{
 "cells": [
  {
   "cell_type": "code",
   "execution_count": 2,
   "id": "3518a1d8-1fa9-43c2-8ceb-bec9915b66b3",
   "metadata": {},
   "outputs": [],
   "source": [
    "from typing import List"
   ]
  },
  {
   "cell_type": "code",
   "execution_count": 21,
   "id": "1c2eebc7-9f3f-4e36-9f9f-887415b78997",
   "metadata": {},
   "outputs": [
    {
     "name": "stdout",
     "output_type": "stream",
     "text": [
      "2\n"
     ]
    }
   ],
   "source": [
    "class Solution:\n",
    "    def countInterestingSubarrays(self, nums: List[int], modulo: int, k: int) -> int:\n",
    "        count = 0\n",
    "        for i in range(len(nums)):\n",
    "            for j in range(i+1,len(nums)+1):\n",
    "                sub = nums[i:j]\n",
    "                mod = len(sub) % modulo\n",
    "                if all(x % modulo == mod for x in sub):\n",
    "                    count += 1\n",
    "        return count\n",
    "\n",
    "sol = Solution()\n",
    "nums = [3,2,4]\n",
    "modulo = 2\n",
    "k = 1\n",
    "result = sol.countInterestingSubarrays(nums, modulo, k)\n",
    "print(result)"
   ]
  },
  {
   "cell_type": "code",
   "execution_count": 23,
   "id": "ba3a341e-0b4f-4d17-86d3-7dc6f3dc5e75",
   "metadata": {},
   "outputs": [
    {
     "name": "stdout",
     "output_type": "stream",
     "text": [
      "3\n"
     ]
    }
   ],
   "source": [
    "class Solution:\n",
    "    def countInterestingSubarrays(self, nums: List[int], modulo: int, k: int) -> int:\n",
    "        count = 0\n",
    "        for i in range(len(nums)):\n",
    "            cnt = 0\n",
    "            for j in range(i, len(nums)):\n",
    "                if nums[j] % modulo == k:\n",
    "                    cnt += 1\n",
    "                if cnt % modulo == k:\n",
    "                    count += 1\n",
    "        return count\n",
    "        \n",
    "sol = Solution()\n",
    "nums = [3,2,4]\n",
    "modulo = 2\n",
    "k = 1\n",
    "result = sol.countInterestingSubarrays(nums, modulo, k)\n",
    "print(result)"
   ]
  },
  {
   "cell_type": "code",
   "execution_count": 30,
   "id": "ac0028c8-84be-4334-89f6-cde83e7b546a",
   "metadata": {},
   "outputs": [
    {
     "name": "stdout",
     "output_type": "stream",
     "text": [
      "3\n"
     ]
    }
   ],
   "source": [
    "from collections import defaultdict\n",
    "class Solution:\n",
    "    def countInterestingSubarrays(self, nums: List[int], modulo: int, k: int) -> int:\n",
    "        prefix_mod = defaultdict(int)\n",
    "        prefix_mod[0] = 1\n",
    "        count = 0\n",
    "        prefix_sum = 0\n",
    "\n",
    "        for n in nums:\n",
    "            if n % modulo == k:\n",
    "                prefix_sum += 1\n",
    "\n",
    "            current_mod = prefix_sum % modulo\n",
    "            target_mod = (current_mod - k) % modulo\n",
    "            count += prefix_mod[target_mod]\n",
    "            prefix_mod[current_mod] += 1\n",
    "\n",
    "        return count\n",
    "\n",
    "sol = Solution()\n",
    "nums = [3,2,4]\n",
    "modulo = 2\n",
    "k = 1\n",
    "result = sol.countInterestingSubarrays(nums, modulo, k)\n",
    "print(result)"
   ]
  },
  {
   "cell_type": "code",
   "execution_count": 29,
   "id": "6d09adcc-2046-494b-9098-7ce78b1d8b3a",
   "metadata": {},
   "outputs": [
    {
     "name": "stdout",
     "output_type": "stream",
     "text": [
      "3\n"
     ]
    }
   ],
   "source": [
    "from collections import defaultdict\n",
    "\n",
    "class Solution:\n",
    "    def countInterestingSubarrays(self, nums: List[int], modulo: int, k: int) -> int:\n",
    "        prefix_mod_count = defaultdict(int)\n",
    "        prefix_mod_count[0] = 1\n",
    "        count = 0\n",
    "        prefix_sum = 0\n",
    "\n",
    "        for num in nums:\n",
    "            if num % modulo == k:\n",
    "                prefix_sum += 1\n",
    "            current_mod = prefix_sum % modulo\n",
    "            # Find how many previous prefixes match the required diff\n",
    "            target_mod = (current_mod - k) % modulo\n",
    "            count += prefix_mod_count[target_mod]\n",
    "            \n",
    "            # Update prefix count for current mod\n",
    "            prefix_mod_count[current_mod] += 1\n",
    "\n",
    "        return count\n",
    "sol = Solution()\n",
    "nums = [3,2,4]\n",
    "modulo = 2\n",
    "k = 1\n",
    "result = sol.countInterestingSubarrays(nums, modulo, k)\n",
    "print(result)"
   ]
  },
  {
   "cell_type": "code",
   "execution_count": 39,
   "id": "eaeb8032-4189-4427-ac22-58b0708ac3ab",
   "metadata": {},
   "outputs": [
    {
     "name": "stdout",
     "output_type": "stream",
     "text": [
      "7\n"
     ]
    }
   ],
   "source": [
    "class Solution:\n",
    "    def subarraysDivByK(self, nums: List[int], k: int) -> int:\n",
    "        subarrays = 0\n",
    "        for i in range(len(nums)):\n",
    "            for j in range(i+1,len(nums)+1):\n",
    "                #print(nums[i:j], sum(nums[i:j]))\n",
    "                if sum(nums[i:j]) % k == 0:\n",
    "                    subarrays += 1\n",
    "        return subarrays\n",
    "\n",
    "\n",
    "sol = Solution()\n",
    "nums = [4,5,0,-2,-3,1]\n",
    "k = 5\n",
    "result = sol.subarraysDivByK(nums,k)\n",
    "print(result)"
   ]
  },
  {
   "cell_type": "code",
   "execution_count": 42,
   "id": "54181e8a-5cc9-48a1-9de7-242b0c99ef26",
   "metadata": {},
   "outputs": [
    {
     "name": "stdout",
     "output_type": "stream",
     "text": [
      "7\n"
     ]
    }
   ],
   "source": [
    "from collections import defaultdict\n",
    "class Solution:\n",
    "    def subarraysDivByK(self, nums: List[int], k: int) -> int:\n",
    "        mod_count = defaultdict(int)\n",
    "        mod_count[0] = 1\n",
    "        count = 0\n",
    "        prefix_sum = 0\n",
    "\n",
    "        for i in nums:\n",
    "            prefix_sum += i\n",
    "            mod = prefix_sum % k\n",
    "            if mod < 0:\n",
    "                mod += k\n",
    "            count += mod_count[mod]\n",
    "            mod_count[mod] += 1\n",
    "        return count\n",
    "\n",
    "\n",
    "sol = Solution()\n",
    "nums = [4,5,0,-2,-3,1]\n",
    "k = 5\n",
    "result = sol.subarraysDivByK(nums,k)\n",
    "print(result)"
   ]
  },
  {
   "cell_type": "code",
   "execution_count": 48,
   "id": "daf45dc5-ffa2-4098-88e0-da4beb3dda3e",
   "metadata": {},
   "outputs": [
    {
     "name": "stdout",
     "output_type": "stream",
     "text": [
      "apple\n"
     ]
    }
   ],
   "source": [
    "words = [\"apple\", \"banana\", \"apple\", \"orange\", \"banana\", \"apple\"]\n",
    "\n",
    "word_count = defaultdict(int)\n",
    "\n",
    "for w in words:\n",
    "    word_count[w] += 1\n",
    "most_frequent_word = max(word_count, key=word_count.get)\n",
    "\n",
    "print(most_frequent_word)"
   ]
  },
  {
   "cell_type": "code",
   "execution_count": 50,
   "id": "01846299-921d-4e6a-8234-e7e1e8996cd4",
   "metadata": {},
   "outputs": [
    {
     "name": "stdout",
     "output_type": "stream",
     "text": [
      "[['eat', 'tea', 'ate'], ['tan', 'nat'], ['bat']]\n"
     ]
    }
   ],
   "source": [
    "strs = [\"eat\", \"tea\", \"tan\", \"ate\", \"nat\", \"bat\"]\n",
    "anagram_groups = defaultdict(list)\n",
    "\n",
    "for word in strs:\n",
    "    sorted_word = ''.join(sorted(word))  # Sort the word to get its anagram signature\n",
    "    anagram_groups[sorted_word].append(word)\n",
    "\n",
    "print( list(anagram_groups.values()) )"
   ]
  },
  {
   "cell_type": "code",
   "execution_count": 53,
   "id": "a04a9078-84d0-4350-a732-fabb335b7c40",
   "metadata": {},
   "outputs": [
    {
     "name": "stdout",
     "output_type": "stream",
     "text": [
      "3\n"
     ]
    }
   ],
   "source": [
    "gas = [1,2,3,4,5]\n",
    "cost = [3,4,5,1,2]\n",
    "\n",
    "total_gas = 0\n",
    "total_cost = 0\n",
    "current_gas = 0\n",
    "start_index = 0\n",
    "\n",
    "for i in range(len(gas)):\n",
    "    total_gas += gas[i]\n",
    "    total_cost += cost[i]\n",
    "    current_gas += gas[i] - cost[i]\n",
    "    \n",
    "    # If current_gas goes negative, reset the start station\n",
    "    if current_gas < 0:\n",
    "        start_index = i + 1\n",
    "        current_gas = 0\n",
    "\n",
    "# If total gas is less than total cost, we can't complete the circuit\n",
    "if total_gas < total_cost:\n",
    "    print(-1)\n",
    "\n",
    "print(start_index)"
   ]
  },
  {
   "cell_type": "code",
   "execution_count": 55,
   "id": "5ba897bb-cd22-4ec3-9df3-d2f804b933d7",
   "metadata": {},
   "outputs": [
    {
     "name": "stdout",
     "output_type": "stream",
     "text": [
      "3\n"
     ]
    }
   ],
   "source": [
    "gas = [1,2,3,4,5]\n",
    "cost = [3,4,5,1,2]\n",
    "total_gas = 0\n",
    "total_cost = 0\n",
    "current_gas = 0\n",
    "start_index = 0\n",
    "\n",
    "for i in range(len(gas)):\n",
    "    total_gas += gas[i]\n",
    "    total_cost += cost[i]\n",
    "    current_gas += gas[i] - cost[i]\n",
    "    if  current_gas < 0:\n",
    "        current_gas = 0\n",
    "        start_index += 1\n",
    "\n",
    "if total_gas < total_cost:\n",
    "    print(-1)\n",
    "\n",
    "print(start_index)"
   ]
  },
  {
   "cell_type": "code",
   "execution_count": 57,
   "id": "6825a8e0-1ae9-4910-9b03-e816ec9479f8",
   "metadata": {},
   "outputs": [
    {
     "name": "stdout",
     "output_type": "stream",
     "text": [
      "None\n"
     ]
    }
   ],
   "source": [
    "class Solution:\n",
    "    def convert(self, s: str, numRows: int) -> str:\n",
    "        pass\n",
    "\n",
    "sol = Solution()\n",
    "s = \"PAYPALISHIRING\" #\"PAHNAPLSIIGYIR\n",
    "numRows = 3\n",
    "result = sol.convert(s,numRows)\n",
    "print(result)"
   ]
  },
  {
   "cell_type": "code",
   "execution_count": 70,
   "id": "a6327ab1-9232-411d-a80b-8564754f7968",
   "metadata": {},
   "outputs": [
    {
     "name": "stdout",
     "output_type": "stream",
     "text": [
      "[1, 3]\n"
     ]
    }
   ],
   "source": [
    "class Solution:\n",
    "    def twoSum(self, numbers: List[int], target: int) -> List[int]:\n",
    "        i = 0\n",
    "        j = len(numbers) - 1\n",
    "        s = 0\n",
    "        while (i<j):\n",
    "            if target == (numbers[i] + numbers[j]):\n",
    "                return [i+1,j+1]\n",
    "            else:\n",
    "                if target > (numbers[i] + numbers[j]):\n",
    "                    i += 1\n",
    "                else:\n",
    "                    j -= 1\n",
    "\n",
    "\n",
    "sol = Solution()\n",
    "numbers = [2,7,11,15]\n",
    "target = 13\n",
    "result = sol.twoSum(numbers, target)\n",
    "print(result)"
   ]
  },
  {
   "cell_type": "code",
   "execution_count": null,
   "id": "53365659-f529-4271-b44e-ea20de28f434",
   "metadata": {},
   "outputs": [],
   "source": []
  },
  {
   "cell_type": "code",
   "execution_count": null,
   "id": "9904206b-a7ba-43d6-853c-534baa6b105f",
   "metadata": {},
   "outputs": [],
   "source": []
  }
 ],
 "metadata": {
  "kernelspec": {
   "display_name": "Python 3 (ipykernel)",
   "language": "python",
   "name": "python3"
  },
  "language_info": {
   "codemirror_mode": {
    "name": "ipython",
    "version": 3
   },
   "file_extension": ".py",
   "mimetype": "text/x-python",
   "name": "python",
   "nbconvert_exporter": "python",
   "pygments_lexer": "ipython3",
   "version": "3.12.6"
  }
 },
 "nbformat": 4,
 "nbformat_minor": 5
}
