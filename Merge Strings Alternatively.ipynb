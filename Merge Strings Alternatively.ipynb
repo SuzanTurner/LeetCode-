{
 "cells": [
  {
   "cell_type": "code",
   "execution_count": 29,
   "id": "e92cd511-32c2-42d9-9a07-8e54dce7e40c",
   "metadata": {},
   "outputs": [
    {
     "name": "stdout",
     "output_type": "stream",
     "text": [
      "apbqcr5r5t5y5u555555\n"
     ]
    }
   ],
   "source": [
    "class Solution:\n",
    "    def mergeAlternately(self, word1: str, word2: str) -> str:\n",
    "        s = \"\"\n",
    "        min_len = min(len(word1) ,len(word2))\n",
    "        for i in range(min_len):\n",
    "            s = s + word1[i] + word2[i]\n",
    "\n",
    "        s += word1[min_len:] + word2[min_len:]\n",
    "        return s\n",
    "\n",
    "\n",
    "            \n",
    "            \n",
    "\n",
    "word1 = \"abc5555555555\"\n",
    "word2 = \"pqrrtyu\"\n",
    "sol = Solution()\n",
    "result = sol.mergeAlternately(word1, word2)\n",
    "print(result)"
   ]
  },
  {
   "cell_type": "code",
   "execution_count": null,
   "id": "d949a5f0-e07f-45bb-b800-f75a84fe9539",
   "metadata": {},
   "outputs": [],
   "source": []
  }
 ],
 "metadata": {
  "kernelspec": {
   "display_name": "Python 3 (ipykernel)",
   "language": "python",
   "name": "python3"
  },
  "language_info": {
   "codemirror_mode": {
    "name": "ipython",
    "version": 3
   },
   "file_extension": ".py",
   "mimetype": "text/x-python",
   "name": "python",
   "nbconvert_exporter": "python",
   "pygments_lexer": "ipython3",
   "version": "3.12.6"
  }
 },
 "nbformat": 4,
 "nbformat_minor": 5
}
