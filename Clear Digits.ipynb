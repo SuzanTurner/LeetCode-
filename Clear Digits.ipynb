{
 "cells": [
  {
   "cell_type": "code",
   "execution_count": 6,
   "id": "4fd8ffae-fc6e-4777-82ba-c87bdc1eda7f",
   "metadata": {},
   "outputs": [
    {
     "name": "stdout",
     "output_type": "stream",
     "text": [
      "abc\n"
     ]
    }
   ],
   "source": [
    "class Solution:\n",
    "    def clearDigits(self, s: str) -> str:\n",
    "        w = list(s)  # Convert to list for easy modification\n",
    "        i = 0\n",
    "        while i < len(w):\n",
    "            if '0' <= w[i] <= '9':  # Check if character is a digit\n",
    "                j = i - 1\n",
    "                while j >= 0 and not w[j].isalpha():  # Find nearest left alphabet\n",
    "                    j -= 1\n",
    "                if j >= 0:  # If found, remove it\n",
    "                    w.pop(j)\n",
    "                    i -= 1  # Adjust index after removal\n",
    "                w.pop(i)  # Remove the digit itself\n",
    "                i = 0  # Restart scanning\n",
    "            else:\n",
    "                i += 1\n",
    "        return \"\".join(w)  # Convert list back to string\n",
    "\n",
    "\n",
    "sol = Solution()\n",
    "s = \"abcdef123\"\n",
    "result = sol.clearDigits(s)\n",
    "print(result)"
   ]
  },
  {
   "cell_type": "code",
   "execution_count": 7,
   "id": "2aaaf6d3-2ca4-46bf-8fa8-986937e40e75",
   "metadata": {},
   "outputs": [
    {
     "name": "stdout",
     "output_type": "stream",
     "text": [
      "57\n"
     ]
    }
   ],
   "source": [
    "print(ord('9'))"
   ]
  },
  {
   "cell_type": "code",
   "execution_count": 11,
   "id": "7b1b171e-81fc-4d86-abd6-a489eb7ecd26",
   "metadata": {},
   "outputs": [
    {
     "name": "stdout",
     "output_type": "stream",
     "text": [
      "adh\n"
     ]
    }
   ],
   "source": [
    "st = \"Yadh\"\n",
    "print(st[1::])"
   ]
  },
  {
   "cell_type": "code",
   "execution_count": null,
   "id": "61f91fc9-b8ea-4ee7-b563-b9d9f706e164",
   "metadata": {},
   "outputs": [],
   "source": []
  }
 ],
 "metadata": {
  "kernelspec": {
   "display_name": "Python 3 (ipykernel)",
   "language": "python",
   "name": "python3"
  },
  "language_info": {
   "codemirror_mode": {
    "name": "ipython",
    "version": 3
   },
   "file_extension": ".py",
   "mimetype": "text/x-python",
   "name": "python",
   "nbconvert_exporter": "python",
   "pygments_lexer": "ipython3",
   "version": "3.12.6"
  }
 },
 "nbformat": 4,
 "nbformat_minor": 5
}
