{
 "cells": [
  {
   "cell_type": "code",
   "execution_count": 63,
   "id": "03e83215-987a-4872-b55e-0c25535ae1d9",
   "metadata": {},
   "outputs": [
    {
     "name": "stdout",
     "output_type": "stream",
     "text": [
      "91\n",
      "30\n",
      "30\n",
      "10\n",
      "10\n",
      "3\n",
      "3\n",
      "1\n",
      "1\n",
      "0\n",
      "10101\n",
      "True\n"
     ]
    }
   ],
   "source": [
    "class Solution:\n",
    "    def checkPowersOfThree(self, n: int) -> bool:\n",
    "        d = \"\"\n",
    "        while n > 0:\n",
    "            r = n%3\n",
    "            print(n)\n",
    "            d += str(r)\n",
    "            n = int(n//3)\n",
    "            print(n)\n",
    "        print(d)\n",
    "        for i in d:\n",
    "            if i == '2':\n",
    "                return False\n",
    "        return True\n",
    "\n",
    "sol = Solution()\n",
    "n = 91\n",
    "result = sol.checkPowersOfThree(n)\n",
    "print(result)"
   ]
  },
  {
   "cell_type": "code",
   "execution_count": 42,
   "id": "635971bd-bd8c-4aff-aec0-7290220578b3",
   "metadata": {},
   "outputs": [
    {
     "name": "stdout",
     "output_type": "stream",
     "text": [
      "3\n"
     ]
    }
   ],
   "source": [
    "import math\n",
    "\n",
    "n = 56\n",
    "print(int(math.cbrt(n)))"
   ]
  },
  {
   "cell_type": "code",
   "execution_count": null,
   "id": "36c87be3-1e56-432b-ab6c-e6619fdb31e4",
   "metadata": {},
   "outputs": [],
   "source": []
  }
 ],
 "metadata": {
  "kernelspec": {
   "display_name": "Python 3 (ipykernel)",
   "language": "python",
   "name": "python3"
  },
  "language_info": {
   "codemirror_mode": {
    "name": "ipython",
    "version": 3
   },
   "file_extension": ".py",
   "mimetype": "text/x-python",
   "name": "python",
   "nbconvert_exporter": "python",
   "pygments_lexer": "ipython3",
   "version": "3.12.6"
  }
 },
 "nbformat": 4,
 "nbformat_minor": 5
}
