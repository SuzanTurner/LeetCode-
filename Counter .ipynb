{
 "cells": [
  {
   "cell_type": "markdown",
   "id": "b61fe416-b856-429d-9af9-012f16485e73",
   "metadata": {},
   "source": [
    "#### What is Counter Class?"
   ]
  },
  {
   "cell_type": "code",
   "execution_count": 1,
   "id": "ee57b22d-2c11-4966-a183-e60501367a96",
   "metadata": {},
   "outputs": [],
   "source": [
    "from collections import Counter"
   ]
  },
  {
   "cell_type": "markdown",
   "id": "98071c44-01a0-493c-9432-01f94e7fe433",
   "metadata": {},
   "source": [
    "###### A specialized dictionary used to count the frequency of elements in an iterable"
   ]
  },
  {
   "cell_type": "code",
   "execution_count": 2,
   "id": "2b999c45-7b50-469f-a1db-94213a339a81",
   "metadata": {},
   "outputs": [
    {
     "data": {
      "text/plain": [
       "Counter()"
      ]
     },
     "execution_count": 2,
     "metadata": {},
     "output_type": "execute_result"
    }
   ],
   "source": [
    "counts = Counter()\n",
    "counts"
   ]
  },
  {
   "cell_type": "code",
   "execution_count": 3,
   "id": "85fa353d-d65b-4943-8f8d-57378bb4d1bb",
   "metadata": {},
   "outputs": [
    {
     "data": {
      "text/plain": [
       "collections.Counter"
      ]
     },
     "execution_count": 3,
     "metadata": {},
     "output_type": "execute_result"
    }
   ],
   "source": [
    "type(counts)"
   ]
  },
  {
   "cell_type": "code",
   "execution_count": 5,
   "id": "6d75dae6-83c3-4193-af64-fb9dbdbcd4fd",
   "metadata": {},
   "outputs": [
    {
     "data": {
      "text/plain": [
       "True"
      ]
     },
     "execution_count": 5,
     "metadata": {},
     "output_type": "execute_result"
    }
   ],
   "source": [
    "issubclass(Counter, dict)"
   ]
  },
  {
   "cell_type": "markdown",
   "id": "06eb31de-22b7-4429-bf12-8d2bd975bc89",
   "metadata": {},
   "source": [
    "###### This proves that it is a subclass of a dictionary"
   ]
  },
  {
   "cell_type": "markdown",
   "id": "cbf01095-b469-49b5-9b30-32a428b409ef",
   "metadata": {},
   "source": [
    "#### How to count items without counter"
   ]
  },
  {
   "cell_type": "code",
   "execution_count": 9,
   "id": "a09cda09-3846-4700-bac3-d8c37aa3cabb",
   "metadata": {},
   "outputs": [
    {
     "data": {
      "text/plain": [
       "{'H': 1,\n",
       " 'o': 6,\n",
       " 'w': 3,\n",
       " ' ': 6,\n",
       " 'd': 1,\n",
       " 'e': 2,\n",
       " 'n': 3,\n",
       " 'r': 2,\n",
       " 'm': 1,\n",
       " 'a': 1,\n",
       " 'l': 2,\n",
       " 'y': 1,\n",
       " 'c': 2,\n",
       " 'u': 3,\n",
       " 't': 4,\n",
       " 'i': 1,\n",
       " 'h': 1}"
      ]
     },
     "execution_count": 9,
     "metadata": {},
     "output_type": "execute_result"
    }
   ],
   "source": [
    "string = \"How do we normally count without counter\"\n",
    "\n",
    "d = {}\n",
    "\n",
    "for s in string:\n",
    "    if s in d:\n",
    "        d[s] += 1\n",
    "    else:\n",
    "        d[s] = 1\n",
    "\n",
    "d\n",
    "    "
   ]
  },
  {
   "cell_type": "markdown",
   "id": "3b0e1a94-e9c2-41b6-9a89-a6e297269289",
   "metadata": {},
   "source": [
    "#### Counting with counter"
   ]
  },
  {
   "cell_type": "code",
   "execution_count": 10,
   "id": "77dc44ee-2e6e-4f7a-a62a-5f92e6df582c",
   "metadata": {},
   "outputs": [
    {
     "data": {
      "text/plain": [
       "Counter({'o': 6,\n",
       "         ' ': 6,\n",
       "         't': 4,\n",
       "         'w': 3,\n",
       "         'n': 3,\n",
       "         'u': 3,\n",
       "         'e': 2,\n",
       "         'r': 2,\n",
       "         'l': 2,\n",
       "         'c': 2,\n",
       "         'H': 1,\n",
       "         'd': 1,\n",
       "         'm': 1,\n",
       "         'a': 1,\n",
       "         'y': 1,\n",
       "         'i': 1,\n",
       "         'h': 1})"
      ]
     },
     "execution_count": 10,
     "metadata": {},
     "output_type": "execute_result"
    }
   ],
   "source": [
    "counts = Counter(string)\n",
    "counts"
   ]
  },
  {
   "cell_type": "markdown",
   "id": "9b5a8be5-34f1-41f6-884a-3a6b1d944f03",
   "metadata": {},
   "source": [
    "###### It does the entire process in a single step and results in a dictionary format\n"
   ]
  },
  {
   "cell_type": "markdown",
   "id": "7afe2d63-acb7-4327-bc99-670241ceec15",
   "metadata": {},
   "source": [
    "#### What else can we count? "
   ]
  },
  {
   "cell_type": "markdown",
   "id": "987a3656-f9eb-49bc-80c5-633af5d9b09e",
   "metadata": {},
   "source": [
    "###### Counter counts any hashable and iterable object"
   ]
  },
  {
   "cell_type": "code",
   "execution_count": 14,
   "id": "aa1fb9cc-2823-4440-af3b-24caf94f7255",
   "metadata": {},
   "outputs": [
    {
     "data": {
      "text/plain": [
       "Counter({8: 6,\n",
       "         3: 5,\n",
       "         2: 4,\n",
       "         4: 3,\n",
       "         5: 3,\n",
       "         1: 1,\n",
       "         88: 1,\n",
       "         33: 1,\n",
       "         6: 1,\n",
       "         34: 1,\n",
       "         42: 1,\n",
       "         9: 1})"
      ]
     },
     "execution_count": 14,
     "metadata": {},
     "output_type": "execute_result"
    }
   ],
   "source": [
    "counts_list = Counter([1,2,3,4,8,5,3,8,5,3,8,4,88,2,2,8,33,3,2,8,6,4,8,5,34,42,3,9])\n",
    "counts_list"
   ]
  },
  {
   "cell_type": "markdown",
   "id": "08729bb5-0b8c-4df6-aae9-658d38cbb696",
   "metadata": {},
   "source": [
    "###### Returns in dictionary format"
   ]
  },
  {
   "cell_type": "code",
   "execution_count": 15,
   "id": "c46de6e2-f6db-4857-9416-6c5d63f7a34a",
   "metadata": {},
   "outputs": [
    {
     "data": {
      "text/plain": [
       "Counter({8: 6,\n",
       "         3: 5,\n",
       "         2: 4,\n",
       "         4: 3,\n",
       "         5: 3,\n",
       "         1: 1,\n",
       "         88: 1,\n",
       "         33: 1,\n",
       "         6: 1,\n",
       "         34: 1,\n",
       "         42: 1,\n",
       "         9: 1})"
      ]
     },
     "execution_count": 15,
     "metadata": {},
     "output_type": "execute_result"
    }
   ],
   "source": [
    "counts_tuple = Counter((1,2,3,4,8,5,3,8,5,3,8,4,88,2,2,8,33,3,2,8,6,4,8,5,34,42,3,9))\n",
    "counts_tuple"
   ]
  },
  {
   "cell_type": "markdown",
   "id": "e1dc0064-0b13-4b0d-b317-b94643a88290",
   "metadata": {},
   "source": [
    "#### Working with Counter"
   ]
  },
  {
   "cell_type": "code",
   "execution_count": 16,
   "id": "e8672eb4-b123-469c-bf13-f630ea5eade6",
   "metadata": {},
   "outputs": [],
   "source": [
    "animals = [\n",
    "    'dog', 'cat', 'elephant', 'lion', 'tiger', 'giraffe', 'cat', 'dog', 'dog', \n",
    "    'bird', 'fish', 'rabbit', 'dog', 'elephant', 'tiger', 'lion', 'bird', 'whale', \n",
    "    'horse', 'monkey', 'dog', 'snake', 'parrot', 'cat', 'dog', 'rabbit', 'dolphin', \n",
    "    'fish', 'koala', 'cat', 'dog', 'turtle', 'panda', 'zebra', 'cat', 'dog', 'frog', \n",
    "    'koala', 'dog', 'whale', 'lion', 'fish', 'elephant'\n",
    "]\n"
   ]
  },
  {
   "cell_type": "code",
   "execution_count": 18,
   "id": "16dc6de9-e095-4e24-8a1e-abd0838d0cd7",
   "metadata": {},
   "outputs": [
    {
     "data": {
      "text/plain": [
       "Counter({'dog': 9,\n",
       "         'cat': 5,\n",
       "         'elephant': 3,\n",
       "         'lion': 3,\n",
       "         'fish': 3,\n",
       "         'tiger': 2,\n",
       "         'bird': 2,\n",
       "         'rabbit': 2,\n",
       "         'whale': 2,\n",
       "         'koala': 2,\n",
       "         'giraffe': 1,\n",
       "         'horse': 1,\n",
       "         'monkey': 1,\n",
       "         'snake': 1,\n",
       "         'parrot': 1,\n",
       "         'dolphin': 1,\n",
       "         'turtle': 1,\n",
       "         'panda': 1,\n",
       "         'zebra': 1,\n",
       "         'frog': 1})"
      ]
     },
     "execution_count": 18,
     "metadata": {},
     "output_type": "execute_result"
    }
   ],
   "source": [
    "count_animals = Counter(animals)\n",
    "count_animals"
   ]
  },
  {
   "cell_type": "markdown",
   "id": "e71d9c21-8b61-41d8-b6b9-ebd2187a535e",
   "metadata": {},
   "source": [
    "###### Now since count_animals is an object, we can use object functions on it like get"
   ]
  },
  {
   "cell_type": "code",
   "execution_count": 20,
   "id": "ca7d3c1c-9d46-4f06-954e-c13340a1eef1",
   "metadata": {},
   "outputs": [
    {
     "data": {
      "text/plain": [
       "9"
      ]
     },
     "execution_count": 20,
     "metadata": {},
     "output_type": "execute_result"
    }
   ],
   "source": [
    "count_animals['dog']"
   ]
  },
  {
   "cell_type": "code",
   "execution_count": 28,
   "id": "331bbb97-d3cf-4578-9664-8867327bd39b",
   "metadata": {},
   "outputs": [
    {
     "data": {
      "text/plain": [
       "9"
      ]
     },
     "execution_count": 28,
     "metadata": {},
     "output_type": "execute_result"
    }
   ],
   "source": [
    "count_animals.get('dog')"
   ]
  },
  {
   "cell_type": "code",
   "execution_count": 29,
   "id": "1c33c8da-6fe1-47dc-a871-f19a803a989b",
   "metadata": {},
   "outputs": [
    {
     "data": {
      "text/plain": [
       "0"
      ]
     },
     "execution_count": 29,
     "metadata": {},
     "output_type": "execute_result"
    }
   ],
   "source": [
    "count_animals['bunnies'] # built in error handling, if the key does not exist, it returns 0"
   ]
  },
  {
   "cell_type": "code",
   "execution_count": 30,
   "id": "b349098d-d9eb-4429-aaa7-6e7c237c8593",
   "metadata": {},
   "outputs": [],
   "source": [
    "count_animals.get('bunnies')"
   ]
  },
  {
   "cell_type": "markdown",
   "id": "08a05516-7675-444b-a699-b6ec4597deb9",
   "metadata": {},
   "source": [
    "#### Find most common item"
   ]
  },
  {
   "cell_type": "code",
   "execution_count": 32,
   "id": "6c325650-1270-4ef1-b24b-4a542e1c36ad",
   "metadata": {},
   "outputs": [
    {
     "data": {
      "text/plain": [
       "[('dog', 9), ('cat', 5), ('elephant', 3)]"
      ]
     },
     "execution_count": 32,
     "metadata": {},
     "output_type": "execute_result"
    }
   ],
   "source": [
    "count_animals.most_common(3)"
   ]
  },
  {
   "cell_type": "code",
   "execution_count": 33,
   "id": "54bbfb66-ead4-4f5c-a616-286dd3e6ab75",
   "metadata": {},
   "outputs": [
    {
     "data": {
      "text/plain": [
       "('dog', 9)"
      ]
     },
     "execution_count": 33,
     "metadata": {},
     "output_type": "execute_result"
    }
   ],
   "source": [
    "count_animals.most_common()[0]"
   ]
  },
  {
   "cell_type": "code",
   "execution_count": 34,
   "id": "5ca4ccc9-2980-4dbc-ad4d-0961ea1fbb21",
   "metadata": {},
   "outputs": [
    {
     "data": {
      "text/plain": [
       "'dog'"
      ]
     },
     "execution_count": 34,
     "metadata": {},
     "output_type": "execute_result"
    }
   ],
   "source": [
    "count_animals.most_common()[0][0]"
   ]
  },
  {
   "cell_type": "markdown",
   "id": "0b98d75b-3394-4b77-96aa-d0a8d939b9a5",
   "metadata": {},
   "source": [
    "#### Finding least common"
   ]
  },
  {
   "cell_type": "code",
   "execution_count": 35,
   "id": "c5b4ef21-44f1-457c-a345-e9e9b05c008e",
   "metadata": {},
   "outputs": [
    {
     "data": {
      "text/plain": [
       "('frog', 1)"
      ]
     },
     "execution_count": 35,
     "metadata": {},
     "output_type": "execute_result"
    }
   ],
   "source": [
    "count_animals.most_common()[-1]"
   ]
  },
  {
   "cell_type": "markdown",
   "id": "a6063f65-ce63-41a2-ac84-c549161fbc36",
   "metadata": {},
   "source": [
    "###### There is no built in method to get least common, but since most common results in an ordered list, we can simply access the last element and that would be the least common item."
   ]
  },
  {
   "cell_type": "code",
   "execution_count": 36,
   "id": "28fae7bb-ec0d-4eb6-822f-45560a2b384e",
   "metadata": {},
   "outputs": [
    {
     "data": {
      "text/plain": [
       "'frog'"
      ]
     },
     "execution_count": 36,
     "metadata": {},
     "output_type": "execute_result"
    }
   ],
   "source": [
    "count_animals.most_common()[-1][0]"
   ]
  },
  {
   "cell_type": "markdown",
   "id": "d0b15dfb-720f-465e-aced-66e5f8e6a31f",
   "metadata": {},
   "source": [
    "#### More stuff that we can do!! "
   ]
  },
  {
   "cell_type": "code",
   "execution_count": 40,
   "id": "4a30bf54-5c35-44d3-a7df-d652a29e236c",
   "metadata": {},
   "outputs": [
    {
     "data": {
      "text/plain": [
       "Counter({'dog': 11,\n",
       "         'elephant': 3,\n",
       "         'lion': 3,\n",
       "         'fish': 3,\n",
       "         'tiger': 2,\n",
       "         'bird': 2,\n",
       "         'rabbit': 2,\n",
       "         'whale': 2,\n",
       "         'koala': 2,\n",
       "         'bunnies': 2,\n",
       "         'giraffe': 1,\n",
       "         'horse': 1,\n",
       "         'monkey': 1,\n",
       "         'snake': 1,\n",
       "         'parrot': 1,\n",
       "         'dolphin': 1,\n",
       "         'turtle': 1,\n",
       "         'panda': 1,\n",
       "         'zebra': 1,\n",
       "         'frog': 1,\n",
       "         'cat': 1})"
      ]
     },
     "execution_count": 40,
     "metadata": {},
     "output_type": "execute_result"
    }
   ],
   "source": [
    "count_animals.update([\"dog\", 'cat', 'bunnies'])\n",
    "count_animals"
   ]
  },
  {
   "cell_type": "code",
   "execution_count": 41,
   "id": "450f42cd-ed0f-4549-b9f1-9d782fab4a90",
   "metadata": {},
   "outputs": [
    {
     "data": {
      "text/plain": [
       "Counter({'dog': 11,\n",
       "         'elephant': 3,\n",
       "         'lion': 3,\n",
       "         'fish': 3,\n",
       "         'tiger': 2,\n",
       "         'bird': 2,\n",
       "         'rabbit': 2,\n",
       "         'whale': 2,\n",
       "         'koala': 2,\n",
       "         'bunnies': 2,\n",
       "         'giraffe': 1,\n",
       "         'horse': 1,\n",
       "         'monkey': 1,\n",
       "         'snake': 1,\n",
       "         'parrot': 1,\n",
       "         'dolphin': 1,\n",
       "         'turtle': 1,\n",
       "         'panda': 1,\n",
       "         'zebra': 1,\n",
       "         'frog': 1})"
      ]
     },
     "execution_count": 41,
     "metadata": {},
     "output_type": "execute_result"
    }
   ],
   "source": [
    "del count_animals['cat']\n",
    "count_animals"
   ]
  },
  {
   "cell_type": "code",
   "execution_count": 42,
   "id": "5b24386f-f488-47bd-8592-0e434b36d375",
   "metadata": {},
   "outputs": [
    {
     "data": {
      "text/plain": [
       "Counter({'golfdish': 15, 'cat': 4, 'dog': 3})"
      ]
     },
     "execution_count": 42,
     "metadata": {},
     "output_type": "execute_result"
    }
   ],
   "source": [
    "count_animals_2 = Counter(dog = 3, cat = 4, golfdish = 15)\n",
    "count_animals_2"
   ]
  },
  {
   "cell_type": "code",
   "execution_count": 51,
   "id": "3a9f8add-4976-48c0-8a1e-3dcc26a47f03",
   "metadata": {},
   "outputs": [
    {
     "data": {
      "text/plain": [
       "Counter({'golfdish': 15,\n",
       "         'dog': 14,\n",
       "         'cat': 4,\n",
       "         'elephant': 3,\n",
       "         'lion': 3,\n",
       "         'fish': 3,\n",
       "         'tiger': 2,\n",
       "         'bird': 2,\n",
       "         'rabbit': 2,\n",
       "         'whale': 2,\n",
       "         'koala': 2,\n",
       "         'bunnies': 2,\n",
       "         'giraffe': 1,\n",
       "         'horse': 1,\n",
       "         'monkey': 1,\n",
       "         'snake': 1,\n",
       "         'parrot': 1,\n",
       "         'dolphin': 1,\n",
       "         'turtle': 1,\n",
       "         'panda': 1,\n",
       "         'zebra': 1,\n",
       "         'frog': 1})"
      ]
     },
     "execution_count": 51,
     "metadata": {},
     "output_type": "execute_result"
    }
   ],
   "source": [
    "total = count_animals + count_animals_2\n",
    "total"
   ]
  },
  {
   "cell_type": "code",
   "execution_count": 48,
   "id": "c1bd948e-bd1d-4106-9fb9-32a7d228121d",
   "metadata": {},
   "outputs": [
    {
     "data": {
      "text/plain": [
       "Counter({'dog': 3})"
      ]
     },
     "execution_count": 48,
     "metadata": {},
     "output_type": "execute_result"
    }
   ],
   "source": [
    "count_animals & count_animals_2"
   ]
  },
  {
   "cell_type": "code",
   "execution_count": 49,
   "id": "c060c800-740f-420a-a033-3434a9fe383e",
   "metadata": {},
   "outputs": [
    {
     "data": {
      "text/plain": [
       "Counter({'golfdish': 15,\n",
       "         'dog': 11,\n",
       "         'cat': 4,\n",
       "         'elephant': 3,\n",
       "         'lion': 3,\n",
       "         'fish': 3,\n",
       "         'tiger': 2,\n",
       "         'bird': 2,\n",
       "         'rabbit': 2,\n",
       "         'whale': 2,\n",
       "         'koala': 2,\n",
       "         'bunnies': 2,\n",
       "         'giraffe': 1,\n",
       "         'horse': 1,\n",
       "         'monkey': 1,\n",
       "         'snake': 1,\n",
       "         'parrot': 1,\n",
       "         'dolphin': 1,\n",
       "         'turtle': 1,\n",
       "         'panda': 1,\n",
       "         'zebra': 1,\n",
       "         'frog': 1})"
      ]
     },
     "execution_count": 49,
     "metadata": {},
     "output_type": "execute_result"
    }
   ],
   "source": [
    "count_animals | count_animals_2"
   ]
  },
  {
   "cell_type": "code",
   "execution_count": null,
   "id": "98772794-6809-46bf-84f7-c0b1fef8ca71",
   "metadata": {},
   "outputs": [],
   "source": []
  }
 ],
 "metadata": {
  "kernelspec": {
   "display_name": "Python 3 (ipykernel)",
   "language": "python",
   "name": "python3"
  },
  "language_info": {
   "codemirror_mode": {
    "name": "ipython",
    "version": 3
   },
   "file_extension": ".py",
   "mimetype": "text/x-python",
   "name": "python",
   "nbconvert_exporter": "python",
   "pygments_lexer": "ipython3",
   "version": "3.12.6"
  }
 },
 "nbformat": 4,
 "nbformat_minor": 5
}
