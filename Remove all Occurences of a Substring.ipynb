{
 "cells": [
  {
   "cell_type": "code",
   "execution_count": 32,
   "id": "ced640ff-dc2c-4b19-899c-17a1971bc217",
   "metadata": {},
   "outputs": [
    {
     "name": "stdout",
     "output_type": "stream",
     "text": [
      "ef\n"
     ]
    }
   ],
   "source": [
    "class Solution:\n",
    "    def removeOccurrences(self, s: str, part: str) -> str:\n",
    "        l = len(part)\n",
    "        w = s\n",
    "        i = 0\n",
    "        while i < len(w):\n",
    "        #for i in range (len(w)):\n",
    "            #print(\"i is\", i)\n",
    "            #print(w[i:i+l], w)\n",
    "            if w[i:i+l] == part:\n",
    "                #print(\"w[:i]\",w[:i])\n",
    "                #print(\"w[i+l::]\",w[i+l::])\n",
    "                w = w[:i] + w[i+l::]\n",
    "                #print(w)\n",
    "                i = 0\n",
    "                #print(i)\n",
    "                continue\n",
    "            i += 1  \n",
    "        return w\n",
    "        \n",
    "\n",
    "sol = Solution()\n",
    "s = \"abcabcefabc\"\n",
    "part = \"abc\"\n",
    "result = sol.removeOccurrences(s, part)\n",
    "print(result)"
   ]
  },
  {
   "cell_type": "code",
   "execution_count": 12,
   "id": "d254b75c-af30-469a-815d-cef6b7c6975c",
   "metadata": {},
   "outputs": [
    {
     "name": "stdout",
     "output_type": "stream",
     "text": [
      "0 Y\n",
      "1 a\n",
      "2 d\n",
      "3 h\n",
      "4 n\n",
      "5 i\n",
      "6 k\n",
      "7 a\n",
      "Ynika\n"
     ]
    }
   ],
   "source": [
    "st = \"Yadhnika\"\n",
    "part = \"adh\"\n",
    "for i in range(len(st)):\n",
    "    print(i, st[i])\n",
    "print(st[:1] + st[4::])"
   ]
  },
  {
   "cell_type": "code",
   "execution_count": 35,
   "id": "ae787695-56e3-4cde-8392-1cae712b5636",
   "metadata": {},
   "outputs": [
    {
     "name": "stdout",
     "output_type": "stream",
     "text": [
      "suuuu\n"
     ]
    }
   ],
   "source": [
    "\n",
    "class Solution:\n",
    "    def removeOccurrences(self, s: str, part: str) -> str:\n",
    "        \n",
    "        while part in s:\n",
    "            s = s.replace(part, \"\", 1)\n",
    "        return s\n",
    "\n",
    "\n",
    "sol = Solution()\n",
    "s = \"ststsustustustu\"\n",
    "part = \"st\"\n",
    "result = sol.removeOccurrences(s, part)\n",
    "print(result)"
   ]
  },
  {
   "cell_type": "code",
   "execution_count": null,
   "id": "b3ef7a11-3d27-4a1f-a6c0-0a793ed6cedc",
   "metadata": {},
   "outputs": [],
   "source": []
  }
 ],
 "metadata": {
  "kernelspec": {
   "display_name": "Python 3 (ipykernel)",
   "language": "python",
   "name": "python3"
  },
  "language_info": {
   "codemirror_mode": {
    "name": "ipython",
    "version": 3
   },
   "file_extension": ".py",
   "mimetype": "text/x-python",
   "name": "python",
   "nbconvert_exporter": "python",
   "pygments_lexer": "ipython3",
   "version": "3.12.6"
  }
 },
 "nbformat": 4,
 "nbformat_minor": 5
}
