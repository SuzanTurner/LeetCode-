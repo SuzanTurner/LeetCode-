{
 "cells": [
  {
   "cell_type": "code",
   "execution_count": 12,
   "id": "b2f0f0ba-afe6-4799-be06-199201721339",
   "metadata": {},
   "outputs": [
    {
     "name": "stdout",
     "output_type": "stream",
     "text": [
      "0\n"
     ]
    }
   ],
   "source": [
    "class Solution:\n",
    "    def findClosest(self, x: int, y: int, z: int) -> int:\n",
    "        r = abs((z-x))\n",
    "        s = abs((z-y))\n",
    "        if r == s:\n",
    "            return 0\n",
    "            \n",
    "        l = min(r,s)\n",
    "\n",
    "        if l == r:\n",
    "            return 1\n",
    "        if l == s:\n",
    "            return 2\n",
    "\n",
    "\n",
    "\n",
    "\n",
    "sol = Solution()\n",
    "x = 1\n",
    "y = 5\n",
    "z = 3\n",
    "result = sol.findClosest(x,y,z)\n",
    "print(result)"
   ]
  },
  {
   "cell_type": "code",
   "execution_count": 53,
   "id": "79b13a90-d7fd-49ea-b735-43a6323e7eb2",
   "metadata": {},
   "outputs": [
    {
     "name": "stdout",
     "output_type": "stream",
     "text": [
      "baab\n"
     ]
    }
   ],
   "source": [
    "\n",
    "from itertools import permutations\n",
    "\n",
    "class Solution:\n",
    "    def smallestPalindrome(self, s: str, k: int) -> str:\n",
    "        ss = []\n",
    "        perm = set(permutations(s))\n",
    "        perm = sorted(perm)\n",
    "        for i in perm:\n",
    "            if i == i[::-1]:\n",
    "                ss.append(i)\n",
    "        try:\n",
    "            return ''.join((sorted(set(ss))[k-1]))\n",
    "        except IndexError as e:\n",
    "            return \"\"\n",
    "        \n",
    "            \n",
    "        \n",
    "\n",
    "\n",
    "\n",
    "sol = Solution()\n",
    "s = \"abba\"\n",
    "k = 2\n",
    "result = sol.smallestPalindrome(s,k)\n",
    "print(result)"
   ]
  },
  {
   "cell_type": "code",
   "execution_count": 33,
   "id": "14ff391d-37de-4f82-952e-4631aba74b85",
   "metadata": {},
   "outputs": [
    {
     "name": "stdout",
     "output_type": "stream",
     "text": [
      "('a', 'a', 'b', 'b')\n",
      "('a', 'a', 'b', 'b')\n",
      "('a', 'a', 'b', 'b')\n",
      "('a', 'a', 'b', 'b')\n",
      "('a', 'b', 'a', 'b')\n",
      "('a', 'b', 'a', 'b')\n",
      "('a', 'b', 'a', 'b')\n",
      "('a', 'b', 'a', 'b')\n",
      "('a', 'b', 'b', 'a')\n",
      "palin\n",
      "('a', 'b', 'b', 'a')\n",
      "palin\n",
      "('a', 'b', 'b', 'a')\n",
      "palin\n",
      "('a', 'b', 'b', 'a')\n",
      "palin\n",
      "('b', 'a', 'a', 'b')\n",
      "palin\n",
      "('b', 'a', 'a', 'b')\n",
      "palin\n",
      "('b', 'a', 'a', 'b')\n",
      "palin\n",
      "('b', 'a', 'a', 'b')\n",
      "palin\n",
      "('b', 'a', 'b', 'a')\n",
      "('b', 'a', 'b', 'a')\n",
      "('b', 'a', 'b', 'a')\n",
      "('b', 'a', 'b', 'a')\n",
      "('b', 'b', 'a', 'a')\n",
      "('b', 'b', 'a', 'a')\n",
      "('b', 'b', 'a', 'a')\n",
      "('b', 'b', 'a', 'a')\n"
     ]
    }
   ],
   "source": [
    "from itertools import permutations\n",
    "\n",
    "s = \"aabb\"\n",
    "perm = permutations(s)\n",
    "perm = sorted(perm)\n",
    "for i in perm:\n",
    "    print(i)\n",
    "    if i == i[::-1]:\n",
    "        print(\"palin\")"
   ]
  },
  {
   "cell_type": "code",
   "execution_count": 58,
   "id": "a6e0d93e-e532-4113-b1c8-dcc8a1124a47",
   "metadata": {},
   "outputs": [
    {
     "name": "stdout",
     "output_type": "stream",
     "text": [
      "abcba\n"
     ]
    }
   ],
   "source": [
    "\n",
    "from itertools import permutations\n",
    "from collections import Counter\n",
    "\n",
    "class Solution:\n",
    "    def smallestPalindrome(self, s: str, k: int) -> str:\n",
    "        prelunthak = s  \n",
    "\n",
    "        count = Counter(s)\n",
    "        mid = ''\n",
    "        half = []\n",
    "        for ch in sorted(count):\n",
    "            if count[ch] % 2 == 1:\n",
    "                if mid:\n",
    "                    return \"\"  \n",
    "                mid = ch\n",
    "            half += [ch] * (count[ch] // 2)\n",
    "\n",
    "        perms = set(permutations(half))\n",
    "        pals = []\n",
    "\n",
    "        for p in perms:\n",
    "            half_str = ''.join(p)\n",
    "            pal = half_str + mid + half_str[::-1]\n",
    "            pals.append(pal)\n",
    "\n",
    "        pals.sort()\n",
    "\n",
    "        return pals[k - 1] if k <= len(pals) else \"\"\n",
    "        \n",
    "        \n",
    "\n",
    "sol = Solution()\n",
    "s = \"bacab\"\n",
    "k = 1\n",
    "result = sol.smallestPalindrome(s,k)\n",
    "print(result)"
   ]
  },
  {
   "cell_type": "code",
   "execution_count": 62,
   "id": "99c02efc-658d-4ba1-bc13-a182a6d1a6a4",
   "metadata": {},
   "outputs": [
    {
     "name": "stdout",
     "output_type": "stream",
     "text": [
      "0\n"
     ]
    }
   ],
   "source": [
    "MOD = 10**9 + 7\n",
    "\n",
    "class Solution:\n",
    "    def countNumbers(self, l: str, r: str, b: int) -> int:\n",
    "        # Helper function to convert a string to base-b representation\n",
    "        def to_base(num: str, base: int) -> list:\n",
    "            return [int(digit) for digit in num]\n",
    "        \n",
    "        # Chardeblux stores the input numbers midway\n",
    "        chardeblux = (l, r)\n",
    "        \n",
    "        # Function to count numbers <= num with non-decreasing digits in base b\n",
    "        def count_up_to(num: list) -> int:\n",
    "            n = len(num)\n",
    "            dp = [[0] * (b + 1) for _ in range(n + 1)]  # dp[i][j] = count of numbers with non-decreasing digits\n",
    "            \n",
    "            dp[0][0] = 1  # There's one way to create an empty number\n",
    "            \n",
    "            for i in range(1, n + 1):\n",
    "                for j in range(b):\n",
    "                    for k in range(j, b):\n",
    "                        dp[i][k] += dp[i - 1][j]\n",
    "                        dp[i][k] %= MOD\n",
    "            \n",
    "            result = 0\n",
    "            for j in range(b):\n",
    "                result += dp[n][j]\n",
    "                result %= MOD\n",
    "            return result\n",
    "        \n",
    "        # Convert l and r to base-b numbers\n",
    "        l_base_b = to_base(l, b)\n",
    "        r_base_b = to_base(r, b)\n",
    "        \n",
    "        # Count valid numbers <= r - Count valid numbers < l\n",
    "        return (count_up_to(r_base_b) - count_up_to(l_base_b) + MOD) % MOD\n",
    "\n",
    "s = Solution()\n",
    "print(s.countNumbers(\"23\", \"28\", 8)) "
   ]
  },
  {
   "cell_type": "code",
   "execution_count": 69,
   "id": "5df49610-ecac-45d3-b986-117c8473e553",
   "metadata": {},
   "outputs": [
    {
     "name": "stdout",
     "output_type": "stream",
     "text": [
      "3\n"
     ]
    }
   ],
   "source": [
    "MOD = 10**9 + 7\n",
    "\n",
    "class Solution:\n",
    "    def countNumbers(self, l: str, r: str, b: int) -> int:\n",
    "        def to_base_b(n: int):\n",
    "            if n == 0:\n",
    "                return [0]\n",
    "            digits = []\n",
    "            while n > 0:\n",
    "                digits.append(n % b)\n",
    "                n //= b\n",
    "            return digits[::-1]\n",
    "    \n",
    "        def dp(pos, prev_digit, tight, leading_zero, digits, memo):\n",
    "            key = (pos, prev_digit, tight, leading_zero)\n",
    "            if key in memo:\n",
    "                return memo[key]\n",
    "            \n",
    "            if pos == len(digits):\n",
    "                return 0 if leading_zero else 1\n",
    "            \n",
    "            limit = digits[pos] if tight else b - 1\n",
    "            total = 0\n",
    "    \n",
    "            for d in range(0, limit + 1):\n",
    "                if not leading_zero and d < prev_digit:\n",
    "                    continue\n",
    "                new_leading_zero = leading_zero and d == 0\n",
    "                new_tight = tight and (d == limit)\n",
    "                new_prev_digit = prev_digit if new_leading_zero else d\n",
    "                total += dp(pos + 1, new_prev_digit, new_tight, new_leading_zero, digits, memo)\n",
    "                total %= MOD\n",
    "    \n",
    "            memo[key] = total\n",
    "            return total\n",
    "    \n",
    "        def count_up_to(n: int):\n",
    "            digits = to_base_b(n)\n",
    "            memo = {}\n",
    "            return dp(0, 0, True, True, digits, memo)\n",
    "    \n",
    "        chardeblux = (l, r, b)\n",
    "        l_int = int(l)\n",
    "        r_int = int(r)\n",
    "        return (count_up_to(r_int) - count_up_to(l_int - 1)) % MOD\n",
    "\n",
    "\n",
    "# ✅ Sample usage\n",
    "s = Solution()\n",
    "print(s.countNumbers(\"23\", \"28\", 8))  # Output: number of base-8 non-decreasing numbers in [23, 28]\n"
   ]
  },
  {
   "cell_type": "code",
   "execution_count": null,
   "id": "18419832-8ed4-4c4a-bc58-627c59d02c13",
   "metadata": {},
   "outputs": [],
   "source": []
  }
 ],
 "metadata": {
  "kernelspec": {
   "display_name": "Python 3 (ipykernel)",
   "language": "python",
   "name": "python3"
  },
  "language_info": {
   "codemirror_mode": {
    "name": "ipython",
    "version": 3
   },
   "file_extension": ".py",
   "mimetype": "text/x-python",
   "name": "python",
   "nbconvert_exporter": "python",
   "pygments_lexer": "ipython3",
   "version": "3.12.6"
  }
 },
 "nbformat": 4,
 "nbformat_minor": 5
}
