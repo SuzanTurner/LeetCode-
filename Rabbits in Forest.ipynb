{
 "cells": [
  {
   "cell_type": "code",
   "execution_count": 2,
   "id": "23f092ec-44f8-4bd2-9e5b-a33249e6006b",
   "metadata": {},
   "outputs": [],
   "source": [
    "from typing import List"
   ]
  },
  {
   "cell_type": "code",
   "execution_count": 8,
   "id": "fa8be107-ede6-4b23-bd0a-6d824c0cbaec",
   "metadata": {},
   "outputs": [
    {
     "name": "stdout",
     "output_type": "stream",
     "text": [
      "{10: 3}\n",
      "11\n"
     ]
    }
   ],
   "source": [
    "class Solution:\n",
    "    def numRabbits(self, answers: List[int]) -> int:\n",
    "        d = {}\n",
    "        count = 0\n",
    "        for i in range(len(answers)):\n",
    "            if answers[i] == answers[i-1]:\n",
    "                count += 1\n",
    "                d[answers[i]] = count\n",
    "        print(d)\n",
    "        if d[answers[0]] == len(answers):\n",
    "            return answers[i] + 1\n",
    "        \n",
    "\n",
    "\n",
    "\n",
    "sol = Solution()\n",
    "answers = [10,10,10]\n",
    "result = sol.numRabbits(answers)\n",
    "print(result)"
   ]
  },
  {
   "cell_type": "code",
   "execution_count": 9,
   "id": "df2a66d4-8530-49be-89fe-4b5fae304aff",
   "metadata": {},
   "outputs": [],
   "source": [
    "from collections import Counter\n",
    "import math\n",
    "\n",
    "class Solution:\n",
    "    def numRabbits(self, answers: List[int]) -> int:\n",
    "        count = Counter(answers)\n",
    "        total = 0\n",
    "        \n",
    "        for x in count:\n",
    "            group_size = x + 1\n",
    "            num_groups = math.ceil(count[x] / group_size)\n",
    "            total += num_groups * group_size\n",
    "            \n",
    "        return total"
   ]
  },
  {
   "cell_type": "code",
   "execution_count": 10,
   "id": "2cf358d6-ec13-437f-985c-4653d05905eb",
   "metadata": {},
   "outputs": [],
   "source": [
    "from collections import Counter\n",
    "import math\n",
    "\n",
    "class Solution:\n",
    "    def numRabbits(self, answers: List[int]) -> int:\n",
    "        count = Counter(answers)\n",
    "        total = 0\n",
    "        \n",
    "        for i in count:\n",
    "            group_size = i+1\n",
    "            num_groups = math.ceil(count[i] / group_size)\n",
    "            total += num_groups * group_size\n",
    "        return total"
   ]
  },
  {
   "cell_type": "code",
   "execution_count": null,
   "id": "f85c6be3-9b87-4c5c-a98c-3718e92b63e8",
   "metadata": {},
   "outputs": [],
   "source": []
  }
 ],
 "metadata": {
  "kernelspec": {
   "display_name": "Python 3 (ipykernel)",
   "language": "python",
   "name": "python3"
  },
  "language_info": {
   "codemirror_mode": {
    "name": "ipython",
    "version": 3
   },
   "file_extension": ".py",
   "mimetype": "text/x-python",
   "name": "python",
   "nbconvert_exporter": "python",
   "pygments_lexer": "ipython3",
   "version": "3.12.6"
  }
 },
 "nbformat": 4,
 "nbformat_minor": 5
}
