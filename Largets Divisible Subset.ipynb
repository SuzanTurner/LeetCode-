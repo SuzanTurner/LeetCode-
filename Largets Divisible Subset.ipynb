{
 "cells": [
  {
   "cell_type": "code",
   "execution_count": 1,
   "id": "a052fcf2-8da9-4e19-be49-1426561a5831",
   "metadata": {},
   "outputs": [],
   "source": [
    "from typing import List"
   ]
  },
  {
   "cell_type": "code",
   "execution_count": 87,
   "id": "3e4e8511-1ccc-4f5a-b639-353ca93d47ea",
   "metadata": {},
   "outputs": [
    {
     "name": "stdout",
     "output_type": "stream",
     "text": [
      "[4, 8, 240]\n"
     ]
    }
   ],
   "source": [
    "class Solution:\n",
    "    def largestDivisibleSubset(self, nums: List[int]) -> List[int]:\n",
    "        subsets = []\n",
    "        nums = sorted(nums)\n",
    "        for i in range(2 ** len(nums)):\n",
    "            subset = []\n",
    "            for j in range(len(nums)):\n",
    "                if i & (1 << j):\n",
    "                    subset.append(nums[j])\n",
    "            subsets.append(subset)\n",
    "        #print(subsets)\n",
    "        s = []\n",
    "        if len(nums) == 1:\n",
    "            return nums\n",
    "        \n",
    "        for i in range(len(subsets)-1, -1, -1):\n",
    "            subset = subsets[i]\n",
    "            if len(subset) <= 1:\n",
    "                s.append(subset)\n",
    "                continue\n",
    "            valid = True\n",
    "            for a in range(len(subset)):\n",
    "                for b in range(a + 1, len(subset)):\n",
    "                    if subset[b] % subset[a] != 0 and subset[a] % subset[b] != 0:\n",
    "                        valid = False\n",
    "                        break\n",
    "                if not valid:\n",
    "                    break\n",
    "            if valid:\n",
    "                s.append(subset)\n",
    "\n",
    "        #print(s)\n",
    "        if len(s) > 0:\n",
    "            return max(s, key=len)\n",
    "        else:\n",
    "            return [nums[0]]\n",
    "                \n",
    "                \n",
    "       \n",
    "nums = [4,8,10,240]\n",
    "sol = Solution()\n",
    "result = sol.largestDivisibleSubset(nums)\n",
    "print(result)\n",
    "\n",
    "        "
   ]
  },
  {
   "cell_type": "code",
   "execution_count": 88,
   "id": "65190b13-f0b8-44c9-a674-28e0187a1aac",
   "metadata": {},
   "outputs": [],
   "source": [
    "class Solution:\n",
    "    def largestDivisibleSubset(self, nums: List[int]) -> List[int]:\n",
    "        if not nums:\n",
    "            return []\n",
    "\n",
    "        nums.sort()\n",
    "        dp = [[num] for num in nums]\n",
    "\n",
    "        for i in range(len(nums)):\n",
    "            for j in range(i):\n",
    "                if nums[i] % nums[j] == 0 and len(dp[j]) + 1 > len(dp[i]):\n",
    "                    dp[i] = dp[j] + [nums[i]]\n",
    "\n",
    "        return max(dp, key=len)\n"
   ]
  },
  {
   "cell_type": "code",
   "execution_count": null,
   "id": "df4524d1-8746-47be-ae94-88e4579b799d",
   "metadata": {},
   "outputs": [],
   "source": []
  }
 ],
 "metadata": {
  "kernelspec": {
   "display_name": "Python 3 (ipykernel)",
   "language": "python",
   "name": "python3"
  },
  "language_info": {
   "codemirror_mode": {
    "name": "ipython",
    "version": 3
   },
   "file_extension": ".py",
   "mimetype": "text/x-python",
   "name": "python",
   "nbconvert_exporter": "python",
   "pygments_lexer": "ipython3",
   "version": "3.12.6"
  }
 },
 "nbformat": 4,
 "nbformat_minor": 5
}
