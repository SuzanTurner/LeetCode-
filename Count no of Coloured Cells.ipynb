{
 "cells": [
  {
   "cell_type": "code",
   "execution_count": 3,
   "id": "dd22aa34-c89b-4cdb-8757-3b07ffa731a1",
   "metadata": {},
   "outputs": [
    {
     "name": "stdout",
     "output_type": "stream",
     "text": [
      "25\n"
     ]
    }
   ],
   "source": [
    "class Solution:\n",
    "    def coloredCells(self, n: int) -> int:\n",
    "        d = {1:1, 2:5, 3:13, 4: 25}\n",
    "        \n",
    "        return (n ** 2) + (n-1) ** 2 \n",
    "\n",
    "sol = Solution()\n",
    "n = 4\n",
    "result = sol.coloredCells(n)\n",
    "print(result)"
   ]
  },
  {
   "cell_type": "code",
   "execution_count": null,
   "id": "e680f6c3-b199-4d23-b90f-e112b62504b0",
   "metadata": {},
   "outputs": [],
   "source": []
  }
 ],
 "metadata": {
  "kernelspec": {
   "display_name": "Python 3 (ipykernel)",
   "language": "python",
   "name": "python3"
  },
  "language_info": {
   "codemirror_mode": {
    "name": "ipython",
    "version": 3
   },
   "file_extension": ".py",
   "mimetype": "text/x-python",
   "name": "python",
   "nbconvert_exporter": "python",
   "pygments_lexer": "ipython3",
   "version": "3.12.6"
  }
 },
 "nbformat": 4,
 "nbformat_minor": 5
}
