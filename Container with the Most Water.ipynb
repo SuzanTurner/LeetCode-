{
 "cells": [
  {
   "cell_type": "code",
   "execution_count": null,
   "id": "5fe7181a-bb6c-4a4e-b42f-3521a8d2cf84",
   "metadata": {},
   "outputs": [],
   "source": [
    "class Solution:\n",
    "    def maxArea(self, height: List[int]) -> int:\n",
    "        area = 0\n",
    "        j = len(height) - 1\n",
    "        i = 0\n",
    "        while i != j:\n",
    "            a = min(height[i],height[j]) * (j-i)\n",
    "            area = max(a,area)\n",
    "            if height[i] < height[j]:\n",
    "                i += 1\n",
    "            else:\n",
    "                j -= 1\n",
    "        return area\n",
    "\n",
    "sol = Solution()\n",
    "height = [8,7,2,1]\n",
    "result = sol.maxArea(height)\n",
    "print(result)"
   ]
  }
 ],
 "metadata": {
  "kernelspec": {
   "display_name": "Python 3 (ipykernel)",
   "language": "python",
   "name": "python3"
  },
  "language_info": {
   "codemirror_mode": {
    "name": "ipython",
    "version": 3
   },
   "file_extension": ".py",
   "mimetype": "text/x-python",
   "name": "python",
   "nbconvert_exporter": "python",
   "pygments_lexer": "ipython3",
   "version": "3.12.6"
  }
 },
 "nbformat": 4,
 "nbformat_minor": 5
}
