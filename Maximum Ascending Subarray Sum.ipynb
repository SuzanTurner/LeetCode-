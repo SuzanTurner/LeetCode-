{
 "cells": [
  {
   "cell_type": "code",
   "execution_count": 2,
   "id": "576d3bd3-a05d-4b97-937f-716b96da599f",
   "metadata": {},
   "outputs": [],
   "source": [
    "from typing import List\n"
   ]
  },
  {
   "cell_type": "code",
   "execution_count": 51,
   "id": "26c1362b-a63b-400f-8dd5-37387361c1c0",
   "metadata": {},
   "outputs": [
    {
     "name": "stdout",
     "output_type": "stream",
     "text": [
      "65\n"
     ]
    }
   ],
   "source": [
    "from typing import List\n",
    "\n",
    "class Solution:\n",
    "    def maxAscendingSum(self, nums: List[int]) -> int:\n",
    "        max_sum = 0\n",
    "        s = nums[0]  \n",
    "\n",
    "        for i in range(1, len(nums)):\n",
    "            if nums[i] > nums[i-1]:  \n",
    "                s += nums[i]  \n",
    "            else: \n",
    "                max_sum = max(max_sum, s)  \n",
    "                s = nums[i] \n",
    "        return max(max_sum, s)  \n",
    "\n",
    "# Test case\n",
    "nums = [10,20,30,5,10,50]\n",
    "sol = Solution()\n",
    "result = sol.maxAscendingSum(nums)\n",
    "print(result)\n",
    "\n"
   ]
  },
  {
   "cell_type": "code",
   "execution_count": null,
   "id": "dedd2177-a5d0-4bef-9930-ccba820129f7",
   "metadata": {},
   "outputs": [],
   "source": []
  }
 ],
 "metadata": {
  "kernelspec": {
   "display_name": "Python 3 (ipykernel)",
   "language": "python",
   "name": "python3"
  },
  "language_info": {
   "codemirror_mode": {
    "name": "ipython",
    "version": 3
   },
   "file_extension": ".py",
   "mimetype": "text/x-python",
   "name": "python",
   "nbconvert_exporter": "python",
   "pygments_lexer": "ipython3",
   "version": "3.12.6"
  }
 },
 "nbformat": 4,
 "nbformat_minor": 5
}
