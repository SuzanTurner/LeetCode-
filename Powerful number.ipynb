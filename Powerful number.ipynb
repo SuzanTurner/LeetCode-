{
 "cells": [
  {
   "cell_type": "code",
   "execution_count": 1,
   "id": "7d1b3fb2-e8f6-4ac1-a988-5fa382969b38",
   "metadata": {},
   "outputs": [],
   "source": [
    "from typing import List"
   ]
  },
  {
   "cell_type": "code",
   "execution_count": null,
   "id": "4a81e6bb-1abc-4917-9e58-9f1637229a00",
   "metadata": {},
   "outputs": [],
   "source": [
    "class Solution:\n",
    "    def numberOfPowerfulInt(self, start: int, finish: int, limit: int, s: str) -> int:\n",
    "        p = []\n",
    "        l = len(s)\n",
    "        #print(l)\n",
    "        #print(s)\n",
    "        d = 0\n",
    "        n = \"\"\n",
    "        for i in range(start, finish+1):\n",
    "            digits = 0\n",
    "            n = \"\"\n",
    "            num = i\n",
    "            while (num>0) and digits < l:\n",
    "                d = num%10\n",
    "                if d <= limit:\n",
    "                    n = str(d) + n\n",
    "                    num = num // 10\n",
    "                    digits += 1\n",
    "                else:\n",
    "                    break\n",
    "            if n == s:\n",
    "                first_digit = int(str(i)[0])\n",
    "                if first_digit <= limit:\n",
    "                    p.append(i)\n",
    "        return len(p)\n",
    "               \n",
    "\n",
    "sol = Solution()\n",
    "start = 10\n",
    "finish = 1844\n",
    "limit = 5\n",
    "s = \"12\"\n",
    "result = sol.numberOfPowerfulInt(start, finish, limit, s)\n",
    "print(result)\n",
    "\n"
   ]
  },
  {
   "cell_type": "code",
   "execution_count": 3,
   "id": "e7f943e6-387a-466f-bfca-ca95041742a9",
   "metadata": {},
   "outputs": [
    {
     "name": "stdout",
     "output_type": "stream",
     "text": [
      "0\n",
      "1\n",
      "2\n",
      "3\n"
     ]
    }
   ],
   "source": [
    "for i in range(0,4):\n",
    "    print(i)"
   ]
  },
  {
   "cell_type": "code",
   "execution_count": 16,
   "id": "84db9dd3-43bf-4f1e-a1aa-bd8b3a3a48fd",
   "metadata": {},
   "outputs": [
    {
     "name": "stdout",
     "output_type": "stream",
     "text": [
      "345\n"
     ]
    }
   ],
   "source": [
    "n = 12345\n",
    "d = 0\n",
    "l = \"\"\n",
    "digits = 0\n",
    "while n > 0 and digits <3:\n",
    "    d = n % 10;\n",
    "    l = str(d) + l\n",
    "    n = n // 10\n",
    "    digits += 1\n",
    "print(l)"
   ]
  },
  {
   "cell_type": "code",
   "execution_count": 37,
   "id": "490bb7b2-b0c6-4422-afc0-fd398af191e8",
   "metadata": {},
   "outputs": [
    {
     "name": "stdout",
     "output_type": "stream",
     "text": [
      "15\n"
     ]
    }
   ],
   "source": [
    "class Solution:\n",
    "    def numberOfPowerfulInt(self, start: int, finish: int, limit: int, s: str) -> int:\n",
    "        count = 0\n",
    "        l = len(s)\n",
    "        for i in range(start, finish + 1):\n",
    "            num_str = str(i)\n",
    "            if len(num_str) >= l and num_str.endswith(s):\n",
    "                if int(num_str[0]) <= limit:\n",
    "                    count += 1\n",
    "        return count\n",
    "\n",
    "sol = Solution()\n",
    "start = 10\n",
    "finish = 1844\n",
    "limit = 5\n",
    "s = \"12\"\n",
    "result = sol.numberOfPowerfulInt(start, finish, limit, s)\n",
    "print(result)\n"
   ]
  },
  {
   "cell_type": "code",
   "execution_count": 2,
   "id": "2e906a3a-aefc-469c-bbb7-7916e588a021",
   "metadata": {},
   "outputs": [
    {
     "name": "stdout",
     "output_type": "stream",
     "text": [
      "12\n"
     ]
    }
   ],
   "source": [
    "class Solution:\n",
    "    def numberOfPowerfulInt(self, start: int, finish: int, limit: int, s: str) -> int:\n",
    "        count = 0\n",
    "        for i in range(start, finish + 1):\n",
    "            str_i = str(i)\n",
    "            if str_i.endswith(s):\n",
    "                if all(int(d) <= limit for d in str_i):\n",
    "                    count += 1\n",
    "        return count\n",
    "\n",
    "sol = Solution()\n",
    "start = 10\n",
    "finish = 1844\n",
    "limit = 5\n",
    "s = \"12\"\n",
    "result = sol.numberOfPowerfulInt(start, finish, limit, s)\n",
    "print(result)\n"
   ]
  },
  {
   "cell_type": "code",
   "execution_count": null,
   "id": "53140a41-f0fa-4231-97d3-47077153d493",
   "metadata": {},
   "outputs": [],
   "source": []
  }
 ],
 "metadata": {
  "kernelspec": {
   "display_name": "Python 3 (ipykernel)",
   "language": "python",
   "name": "python3"
  },
  "language_info": {
   "codemirror_mode": {
    "name": "ipython",
    "version": 3
   },
   "file_extension": ".py",
   "mimetype": "text/x-python",
   "name": "python",
   "nbconvert_exporter": "python",
   "pygments_lexer": "ipython3",
   "version": "3.12.6"
  }
 },
 "nbformat": 4,
 "nbformat_minor": 5
}
