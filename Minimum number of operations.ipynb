{
 "cells": [
  {
   "cell_type": "code",
   "execution_count": 1,
   "id": "357a35bf-1f80-4679-b2a2-bce36d5497bc",
   "metadata": {},
   "outputs": [],
   "source": [
    "from typing import List"
   ]
  },
  {
   "cell_type": "code",
   "execution_count": 30,
   "id": "369f57e2-add8-44fb-b1d0-5bcae100bcc4",
   "metadata": {},
   "outputs": [
    {
     "name": "stdout",
     "output_type": "stream",
     "text": [
      "2\n"
     ]
    }
   ],
   "source": [
    "class Solution:\n",
    "    def minimumOperations(self, nums: List[int]) -> int:\n",
    "        ops = 0\n",
    "        while len(nums) > 0:\n",
    "            if len(set(nums)) == len(nums):\n",
    "                break\n",
    "            nums = nums[3:]  # yeet first 3 elements\n",
    "            ops += 1\n",
    "        return ops\n",
    "        \n",
    "sol = Solution()\n",
    "nums = [1,2,3,4,2,3,3,5,7]\n",
    "result = sol.minimumOperations(nums)\n",
    "print(result)\n",
    "\n",
    "    "
   ]
  },
  {
   "cell_type": "code",
   "execution_count": 18,
   "id": "2ed4166c-72c1-4042-ad1f-eac8bde90427",
   "metadata": {},
   "outputs": [
    {
     "name": "stdout",
     "output_type": "stream",
     "text": [
      "[4, 2, 3, 3, 5, 7]\n",
      "[4, 2, 3, 3, 5, 7]\n",
      "[3, 5, 7]\n",
      "[]\n"
     ]
    }
   ],
   "source": [
    "nums = [1,2,3,4,2,3,3,5,7]\n",
    "print(nums[3::])\n",
    "nums = nums[3::]\n",
    "print(nums)\n",
    "nums = nums[3::]\n",
    "print(nums)\n",
    "nums = nums[4::]\n",
    "print(nums)\n"
   ]
  },
  {
   "cell_type": "code",
   "execution_count": null,
   "id": "6e71f2cc-8b36-41d5-9d76-5c6b43192f45",
   "metadata": {},
   "outputs": [],
   "source": []
  }
 ],
 "metadata": {
  "kernelspec": {
   "display_name": "Python 3 (ipykernel)",
   "language": "python",
   "name": "python3"
  },
  "language_info": {
   "codemirror_mode": {
    "name": "ipython",
    "version": 3
   },
   "file_extension": ".py",
   "mimetype": "text/x-python",
   "name": "python",
   "nbconvert_exporter": "python",
   "pygments_lexer": "ipython3",
   "version": "3.12.6"
  }
 },
 "nbformat": 4,
 "nbformat_minor": 5
}
