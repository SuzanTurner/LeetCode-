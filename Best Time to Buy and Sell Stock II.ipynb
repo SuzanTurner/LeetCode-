{
 "cells": [
  {
   "cell_type": "code",
   "execution_count": 1,
   "id": "ee343d52-38e3-4ba7-8bc5-5b5f6cdb8e4c",
   "metadata": {},
   "outputs": [],
   "source": [
    "\n",
    "from typing import List\n",
    "\n",
    "class Solution:\n",
    "    def maxProfit(self, prices: List[int]) -> int:\n",
    "        max_profit = 0\n",
    "        for i in range(1,len(prices)):\n",
    "            if prices[i] - prices[i-1] > 0:\n",
    "                max_profit += prices[i] - prices[i-1]\n",
    "        return max_profit\n"
   ]
  },
  {
   "cell_type": "code",
   "execution_count": null,
   "id": "0e18abb5-f894-4f21-ab1e-cf6d810542a9",
   "metadata": {},
   "outputs": [],
   "source": []
  }
 ],
 "metadata": {
  "kernelspec": {
   "display_name": "Python 3 (ipykernel)",
   "language": "python",
   "name": "python3"
  },
  "language_info": {
   "codemirror_mode": {
    "name": "ipython",
    "version": 3
   },
   "file_extension": ".py",
   "mimetype": "text/x-python",
   "name": "python",
   "nbconvert_exporter": "python",
   "pygments_lexer": "ipython3",
   "version": "3.12.6"
  }
 },
 "nbformat": 4,
 "nbformat_minor": 5
}
