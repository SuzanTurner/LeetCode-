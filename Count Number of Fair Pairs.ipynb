{
 "cells": [
  {
   "cell_type": "code",
   "execution_count": 1,
   "id": "11d07828-d879-4bd6-922f-9e20f48d3644",
   "metadata": {},
   "outputs": [],
   "source": [
    "from typing import List"
   ]
  },
  {
   "cell_type": "code",
   "execution_count": 5,
   "id": "4d3180f2-9a40-4cce-8058-2a15d706b0b7",
   "metadata": {},
   "outputs": [
    {
     "name": "stdout",
     "output_type": "stream",
     "text": [
      "6\n"
     ]
    }
   ],
   "source": [
    "class Solution:\n",
    "    def countFairPairs(self, nums: List[int], lower: int, upper: int) -> int:\n",
    "        pairs = 0\n",
    "        for i in range(len(nums)):\n",
    "            for j in range(i+1,len(nums)):\n",
    "                if lower <= nums[i] + nums[j] <= upper:\n",
    "                    pairs += 1\n",
    "        return pairs\n",
    "\n",
    "sol = Solution()\n",
    "nums = [0,1,7,4,4,5]\n",
    "lower = 3\n",
    "upper = 6\n",
    "result = sol.countFairPairs(nums,lower,upper)\n",
    "print(result)"
   ]
  },
  {
   "cell_type": "code",
   "execution_count": 8,
   "id": "8a6e12c0-435e-4f29-915b-211865de0f2f",
   "metadata": {},
   "outputs": [
    {
     "name": "stdout",
     "output_type": "stream",
     "text": [
      "6\n"
     ]
    }
   ],
   "source": [
    "import bisect\n",
    "from typing import List\n",
    "\n",
    "class Solution:\n",
    "    def countFairPairs(self, nums: List[int], lower: int, upper: int) -> int:\n",
    "        nums = sorted(nums)\n",
    "        pairs = 0\n",
    "        for i in range(len(nums)):\n",
    "            min_val = lower - nums[i]\n",
    "            max_val = upper - nums[i]\n",
    "\n",
    "            left = bisect.bisect_left(nums, min_val, i+1)\n",
    "            right = bisect.bisect_right(nums, max_val, i+1)\n",
    "\n",
    "            pairs += (right - left)\n",
    "        return pairs\n",
    "\n",
    "sol = Solution()\n",
    "nums = [0,1,7,4,4,5]\n",
    "lower = 3\n",
    "upper = 6\n",
    "result = sol.countFairPairs(nums,lower,upper)\n",
    "print(result)"
   ]
  },
  {
   "cell_type": "code",
   "execution_count": null,
   "id": "b241c743-0939-4264-8f75-102cc0df61bb",
   "metadata": {},
   "outputs": [],
   "source": []
  }
 ],
 "metadata": {
  "kernelspec": {
   "display_name": "Python 3 (ipykernel)",
   "language": "python",
   "name": "python3"
  },
  "language_info": {
   "codemirror_mode": {
    "name": "ipython",
    "version": 3
   },
   "file_extension": ".py",
   "mimetype": "text/x-python",
   "name": "python",
   "nbconvert_exporter": "python",
   "pygments_lexer": "ipython3",
   "version": "3.12.6"
  }
 },
 "nbformat": 4,
 "nbformat_minor": 5
}
