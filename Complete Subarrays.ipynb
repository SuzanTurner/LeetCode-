{
 "cells": [
  {
   "cell_type": "code",
   "execution_count": 1,
   "id": "3a000114-fa0f-4f78-b80c-25b44c48ef0b",
   "metadata": {},
   "outputs": [],
   "source": [
    "from typing import List"
   ]
  },
  {
   "cell_type": "code",
   "execution_count": 11,
   "id": "1576df7d-6973-49eb-af68-f5fd8a00156e",
   "metadata": {},
   "outputs": [
    {
     "name": "stdout",
     "output_type": "stream",
     "text": [
      "4\n"
     ]
    }
   ],
   "source": [
    "class Solution:\n",
    "    def countCompleteSubarrays(self, nums: List[int]) -> int:\n",
    "        n = set(nums)\n",
    "        c = 0\n",
    "        subarrays = []\n",
    "        for i in range(len(nums)):\n",
    "            for j in range(len(nums)):\n",
    "                subarrays.append(nums[i:j+1])\n",
    "        #print(subarrays)\n",
    "        #print(list(n))\n",
    "        for i in subarrays:\n",
    "            #print(i)\n",
    "            if set(i) == n:\n",
    "                c += 1\n",
    "        return c\n",
    "            \n",
    "sol = Solution()\n",
    "nums = [1,3,1,2,2]\n",
    "result = sol.countCompleteSubarrays(nums)\n",
    "print(result)"
   ]
  },
  {
   "cell_type": "code",
   "execution_count": 12,
   "id": "07a73588-e7af-41b1-ae26-1046c7f96db6",
   "metadata": {},
   "outputs": [
    {
     "name": "stdout",
     "output_type": "stream",
     "text": [
      "4\n"
     ]
    }
   ],
   "source": [
    "class Solution:\n",
    "    def countCompleteSubarrays(self, nums: List[int]) -> int:\n",
    "        n = set(nums)\n",
    "        c = 0\n",
    "        subarrays = []\n",
    "        for i in range(len(nums)):\n",
    "            for j in range(len(nums)):\n",
    "                subarrays = set(nums[i:j+1])\n",
    "                if subarrays == n:\n",
    "                    c += 1\n",
    "        return c\n",
    "            \n",
    "sol = Solution()\n",
    "nums = [1,3,1,2,2]\n",
    "result = sol.countCompleteSubarrays(nums)\n",
    "print(result)"
   ]
  },
  {
   "cell_type": "code",
   "execution_count": 17,
   "id": "76cbb064-a93c-43fc-ac3c-96e36392270d",
   "metadata": {},
   "outputs": [
    {
     "name": "stdout",
     "output_type": "stream",
     "text": [
      "4\n"
     ]
    }
   ],
   "source": [
    "class Solution:\n",
    "    def countCompleteSubarrays(self, nums: List[int]) -> int:\n",
    "        i = 0\n",
    "        j = len(nums)\n",
    "        subarrays = []\n",
    "        n = set(nums)\n",
    "        c = 0\n",
    "        while i < len(nums):\n",
    "            if j > i:\n",
    "                subarrays = set(nums[i:j])\n",
    "                if subarrays == n:\n",
    "                    c += 1\n",
    "                j -= 1\n",
    "            else:\n",
    "                i += 1\n",
    "                j = len(nums)\n",
    "                \n",
    "        return c\n",
    "                \n",
    "sol = Solution()\n",
    "nums = [1,3,1,2,2]\n",
    "result = sol.countCompleteSubarrays(nums)\n",
    "print(result)"
   ]
  },
  {
   "cell_type": "code",
   "execution_count": 18,
   "id": "b311ce9e-c5d0-4e93-ae76-520501384945",
   "metadata": {},
   "outputs": [
    {
     "name": "stdout",
     "output_type": "stream",
     "text": [
      "4\n"
     ]
    }
   ],
   "source": [
    "class Solution:\n",
    "    def countCompleteSubarrays(self, nums: List[int]) -> int:\n",
    "        c = 0\n",
    "        full = set(nums)\n",
    "        for i in range(len(nums)):\n",
    "            current = set()\n",
    "            for j in range(i, len(nums)):\n",
    "                current.add(nums[j])\n",
    "                if current == full:\n",
    "                    c += 1\n",
    "        return c\n",
    "                \n",
    "sol = Solution()\n",
    "nums = [1,3,1,2,2]\n",
    "result = sol.countCompleteSubarrays(nums)\n",
    "print(result)"
   ]
  },
  {
   "cell_type": "code",
   "execution_count": null,
   "id": "3940f55e-5015-4299-99e8-747d1ca657f1",
   "metadata": {},
   "outputs": [],
   "source": []
  }
 ],
 "metadata": {
  "kernelspec": {
   "display_name": "Python 3 (ipykernel)",
   "language": "python",
   "name": "python3"
  },
  "language_info": {
   "codemirror_mode": {
    "name": "ipython",
    "version": 3
   },
   "file_extension": ".py",
   "mimetype": "text/x-python",
   "name": "python",
   "nbconvert_exporter": "python",
   "pygments_lexer": "ipython3",
   "version": "3.12.6"
  }
 },
 "nbformat": 4,
 "nbformat_minor": 5
}
