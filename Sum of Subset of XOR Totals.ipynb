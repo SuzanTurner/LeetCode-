{
 "cells": [
  {
   "cell_type": "code",
   "execution_count": 1,
   "id": "57b6e3fe-3326-4f17-bc77-41e8d88656e7",
   "metadata": {},
   "outputs": [],
   "source": [
    "from typing import List"
   ]
  },
  {
   "cell_type": "code",
   "execution_count": 64,
   "id": "12839183-eb0c-4d91-818e-6e1558948a28",
   "metadata": {},
   "outputs": [
    {
     "name": "stdout",
     "output_type": "stream",
     "text": [
      "[]\n",
      "[5]\n",
      "[1]\n",
      "[5, 1]\n",
      "5 ^ 1 = 4\n",
      "6\n",
      "[6]\n",
      "[5, 6]\n",
      "5 ^ 6 = 3\n",
      "13\n",
      "[1, 6]\n",
      "1 ^ 6 = 7\n",
      "19\n",
      "[5, 1, 6]\n",
      "5 ^ 1 = 4\n",
      "25\n",
      "1 ^ 6 = 7\n",
      "25\n",
      "32\n",
      "None\n"
     ]
    }
   ],
   "source": [
    "class Solution:\n",
    "    def subsetXORSum(self, nums: List[int]) -> int:\n",
    "        s = 0\n",
    "        n = len(nums)\n",
    "        subsets = []\n",
    "        for i in range(2**n):\n",
    "            subset = []\n",
    "            for j in range(n):\n",
    "                if i & (1 << j):\n",
    "                    subset.append(nums[j])\n",
    "            subsets.append(subset)\n",
    "     \n",
    "        for i in subsets:\n",
    "            print(i)\n",
    "            if len(i) == 1:\n",
    "                s += i[0]\n",
    "            if len(i) > 1:\n",
    "                xor_sum = 0\n",
    "                for j in range(1,len(i)):\n",
    "                    print(i[j-1],  \"^\", i[j], \"=\", (i[j-1] ^ i[j]))\n",
    "                    xor_sum ^= i[j] \n",
    "                    print(s)\n",
    "                s += xor_sum\n",
    "        print(s)\n",
    "\n",
    "sol = Solution()\n",
    "nums = [5,1,6]\n",
    "result = sol.subsetXORSum(nums)\n",
    "print(result)"
   ]
  },
  {
   "cell_type": "code",
   "execution_count": 6,
   "id": "1b3f2063-b0d3-4e8a-8179-d3d41782beae",
   "metadata": {},
   "outputs": [
    {
     "name": "stdout",
     "output_type": "stream",
     "text": [
      "1\n"
     ]
    }
   ],
   "source": [
    "print(2 ^ 5 ^ 6)"
   ]
  },
  {
   "cell_type": "code",
   "execution_count": 27,
   "id": "c0fa4ab7-c009-4b70-ad70-4847d74f6387",
   "metadata": {},
   "outputs": [
    {
     "name": "stdout",
     "output_type": "stream",
     "text": [
      "Hello World\n"
     ]
    }
   ],
   "source": [
    "print(\"Hello World\")"
   ]
  },
  {
   "cell_type": "code",
   "execution_count": 65,
   "id": "dc994a88-f2ce-4511-9e57-71a64df4937d",
   "metadata": {},
   "outputs": [
    {
     "name": "stdout",
     "output_type": "stream",
     "text": [
      "28\n"
     ]
    }
   ],
   "source": [
    "class Solution:\n",
    "    def subsetXORSum(self, nums: List[int]) -> int:\n",
    "        s = 0\n",
    "        n = len(nums)\n",
    "\n",
    "        for i in range(2**n):\n",
    "            xor_sum = 0\n",
    "            for j in range(n):\n",
    "                if i & (1 << j):\n",
    "                    xor_sum ^= nums[j]\n",
    "            s += xor_sum\n",
    "        return s\n",
    "\n",
    "sol = Solution()\n",
    "nums = [5,1,6]\n",
    "result = sol.subsetXORSum(nums)\n",
    "print(result)"
   ]
  },
  {
   "cell_type": "code",
   "execution_count": null,
   "id": "b33986f6-2f6b-44ab-b24c-7975080c3a56",
   "metadata": {},
   "outputs": [],
   "source": []
  }
 ],
 "metadata": {
  "kernelspec": {
   "display_name": "Python 3 (ipykernel)",
   "language": "python",
   "name": "python3"
  },
  "language_info": {
   "codemirror_mode": {
    "name": "ipython",
    "version": 3
   },
   "file_extension": ".py",
   "mimetype": "text/x-python",
   "name": "python",
   "nbconvert_exporter": "python",
   "pygments_lexer": "ipython3",
   "version": "3.12.6"
  }
 },
 "nbformat": 4,
 "nbformat_minor": 5
}
