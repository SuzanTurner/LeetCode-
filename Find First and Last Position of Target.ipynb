{
 "cells": [
  {
   "cell_type": "code",
   "execution_count": 2,
   "id": "a2de0bcb-92b2-47dd-aeec-afe54de05cc7",
   "metadata": {},
   "outputs": [],
   "source": [
    "from typing import List"
   ]
  },
  {
   "cell_type": "code",
   "execution_count": 15,
   "id": "83d8450d-a5ad-43fd-88de-5fc60235b14f",
   "metadata": {},
   "outputs": [
    {
     "name": "stdout",
     "output_type": "stream",
     "text": [
      "[3, 4]\n"
     ]
    }
   ],
   "source": [
    "import bisect\n",
    "from typing import List\n",
    "\n",
    "class Solution:\n",
    "    def searchRange(self, nums: List[int], target: int) -> List[int]:\n",
    "        left = bisect.bisect_left(nums, target)\n",
    "        right = bisect.bisect_right(nums, target) - 1\n",
    "\n",
    "        if left == len(nums) or nums[left] != target:\n",
    "            left = right = -1\n",
    "        \n",
    "        return [left, right]\n",
    "\n",
    "sol = Solution()\n",
    "nums = [5,7,7,8,8,10]\n",
    "target = 8\n",
    "result = sol.searchRange(nums, target)\n",
    "print(result)\n"
   ]
  },
  {
   "cell_type": "code",
   "execution_count": 11,
   "id": "1fb58df7-144d-40b4-a209-2750acbe1f33",
   "metadata": {},
   "outputs": [
    {
     "name": "stdout",
     "output_type": "stream",
     "text": [
      "7\n"
     ]
    }
   ],
   "source": [
    "import bisect\n",
    "\n",
    "nums = [1,2,3,4,4,4,4,5]\n",
    "index = bisect.bisect_left(nums, 5)\n",
    "print(index)"
   ]
  },
  {
   "cell_type": "code",
   "execution_count": null,
   "id": "7ede3b46-8162-4820-ae11-968155b34090",
   "metadata": {},
   "outputs": [],
   "source": []
  }
 ],
 "metadata": {
  "kernelspec": {
   "display_name": "Python 3 (ipykernel)",
   "language": "python",
   "name": "python3"
  },
  "language_info": {
   "codemirror_mode": {
    "name": "ipython",
    "version": 3
   },
   "file_extension": ".py",
   "mimetype": "text/x-python",
   "name": "python",
   "nbconvert_exporter": "python",
   "pygments_lexer": "ipython3",
   "version": "3.12.6"
  }
 },
 "nbformat": 4,
 "nbformat_minor": 5
}
