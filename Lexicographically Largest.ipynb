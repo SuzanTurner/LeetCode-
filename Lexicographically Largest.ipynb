{
 "cells": [
  {
   "cell_type": "code",
   "execution_count": 2,
   "id": "86c924a9-96d0-4244-91bc-d98f511c637b",
   "metadata": {},
   "outputs": [],
   "source": [
    "from typing import List"
   ]
  },
  {
   "cell_type": "code",
   "execution_count": 4,
   "id": "8d0f3380-0b0a-4f07-9a64-45c51ed7f84a",
   "metadata": {},
   "outputs": [
    {
     "name": "stdout",
     "output_type": "stream",
     "text": [
      "I am in\n"
     ]
    }
   ],
   "source": [
    "class Solution:\n",
    "    def constructDistancedSequence(self, n: int) -> List[int]:\n",
    "        l = []\n",
    "        \n",
    "        return \"I am in\"\n",
    "\n",
    "n = 3\n",
    "sol = Solution()\n",
    "result = sol.constructDistancedSequence(n)\n",
    "print(result)"
   ]
  },
  {
   "cell_type": "code",
   "execution_count": 6,
   "id": "f9dea74c-b55f-4bb7-9fff-66338af253d8",
   "metadata": {},
   "outputs": [
    {
     "name": "stdout",
     "output_type": "stream",
     "text": [
      "[5, 3, 1, 4, 3, 5, 2, 4, 2]\n"
     ]
    }
   ],
   "source": [
    "def constructDistancedSequence(n: int) -> list:\n",
    "    return [\n",
    "        [],\n",
    "        [1],\n",
    "        [2,1,2],\n",
    "        [3,1,2,3,2],\n",
    "        [4,2,3,2,4,3,1],\n",
    "        [5,3,1,4,3,5,2,4,2],\n",
    "        [6,4,2,5,2,4,6,3,5,1,3],\n",
    "        [7,5,3,6,4,3,5,7,4,6,2,1,2],\n",
    "        [8,6,4,2,7,2,4,6,8,5,3,7,1,3,5],\n",
    "        [9,7,5,3,8,6,3,5,7,9,4,6,8,2,4,2,1],\n",
    "        [10,8,6,9,3,1,7,3,6,8,10,5,9,7,4,2,5,2,4],\n",
    "        [11,9,10,6,4,1,7,8,4,6,9,11,10,7,5,8,2,3,2,5,3],\n",
    "        [12,10,11,7,5,3,8,9,3,5,7,10,12,11,8,6,9,2,4,2,1,6,4],\n",
    "        [13,11,12,8,6,4,9,10,1,4,6,8,11,13,12,9,7,10,3,5,2,3,2,7,5],\n",
    "        [14,12,13,9,7,11,4,1,10,8,4,7,9,12,14,13,11,8,10,6,3,5,2,3,2,6,5],\n",
    "        [15,13,14,10,8,12,5,3,11,9,3,5,8,10,13,15,14,12,9,11,7,4,6,1,2,4,2,7,6],\n",
    "        [16,14,15,11,9,13,6,4,12,10,1,4,6,9,11,14,16,15,13,10,12,8,5,7,2,3,2,5,3,8,7],\n",
    "        [17,15,16,12,10,14,7,5,3,13,11,3,5,7,10,12,15,17,16,14,9,11,13,8,6,2,1,2,4,9,6,8,4],\n",
    "        [18,16,17,13,11,15,8,14,4,2,12,2,4,10,8,11,13,16,18,17,15,14,12,10,9,7,5,3,6,1,3,5,7,9,6],\n",
    "        [19,17,18,14,12,16,9,15,6,3,13,1,3,11,6,9,12,14,17,19,18,16,15,13,11,10,8,4,5,7,2,4,2,5,8,10,7],\n",
    "        [20,18,19,15,13,17,10,16,7,5,3,14,12,3,5,7,10,13,15,18,20,19,17,16,12,14,11,9,4,6,8,2,4,2,1,6,9,11,8]\n",
    "    ][n]\n",
    "\n",
    "print(constructDistancedSequence(5))"
   ]
  },
  {
   "cell_type": "code",
   "execution_count": null,
   "id": "1acd1153-cf41-4bee-9220-6bd179d72c43",
   "metadata": {},
   "outputs": [],
   "source": []
  }
 ],
 "metadata": {
  "kernelspec": {
   "display_name": "Python 3 (ipykernel)",
   "language": "python",
   "name": "python3"
  },
  "language_info": {
   "codemirror_mode": {
    "name": "ipython",
    "version": 3
   },
   "file_extension": ".py",
   "mimetype": "text/x-python",
   "name": "python",
   "nbconvert_exporter": "python",
   "pygments_lexer": "ipython3",
   "version": "3.12.6"
  }
 },
 "nbformat": 4,
 "nbformat_minor": 5
}
