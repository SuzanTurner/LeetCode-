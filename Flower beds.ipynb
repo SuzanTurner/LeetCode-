{
 "cells": [
  {
   "cell_type": "code",
   "execution_count": 2,
   "id": "66693afd-57d2-4612-a690-2f598a3e7699",
   "metadata": {},
   "outputs": [],
   "source": [
    "from typing import List"
   ]
  },
  {
   "cell_type": "code",
   "execution_count": 25,
   "id": "f945ef97-c061-4191-9992-71b8d2af11bb",
   "metadata": {},
   "outputs": [
    {
     "name": "stdout",
     "output_type": "stream",
     "text": [
      "[1, 0, 0, 0, 0, 1]\n",
      "[1, 0, 0, 0, 0, 1]\n",
      "[1, 0, 0, 0, 0, 1]\n",
      "I am her\n",
      "[1, 0, 1, 0, 0, 1]\n",
      "[1, 0, 1, 0, 0, 1]\n",
      "[1, 0, 1, 0, 0, 1]\n",
      "False\n"
     ]
    }
   ],
   "source": [
    "\n",
    "class Solution:\n",
    "    def canPlaceFlowers(self, flowerbed: List[int], n: int) -> bool:\n",
    "        for i in range(len(flowerbed)):\n",
    "            print(flowerbed)\n",
    "            if flowerbed[i-1] == flowerbed[i] == flowerbed[i+1] == 0:\n",
    "                flowerbed[i] = 1\n",
    "                n -= 1\n",
    "                print(\"I am her\")\n",
    "                if n == 0:\n",
    "                    return True\n",
    "        return False\n",
    "            \n",
    "            \n",
    "\n",
    "sol = Solution()\n",
    "flowerbed = [1,0,0,0,0,1]\n",
    "n = 2\n",
    "result = sol.canPlaceFlowers(flowerbed, n)\n",
    "print(result)"
   ]
  },
  {
   "cell_type": "code",
   "execution_count": null,
   "id": "3476702c-2fd2-420f-b1f8-42efe478630d",
   "metadata": {},
   "outputs": [],
   "source": []
  },
  {
   "cell_type": "code",
   "execution_count": null,
   "id": "77f6e7a3-9473-4568-a3f4-b787721180dc",
   "metadata": {},
   "outputs": [],
   "source": []
  }
 ],
 "metadata": {
  "kernelspec": {
   "display_name": "Python 3 (ipykernel)",
   "language": "python",
   "name": "python3"
  },
  "language_info": {
   "codemirror_mode": {
    "name": "ipython",
    "version": 3
   },
   "file_extension": ".py",
   "mimetype": "text/x-python",
   "name": "python",
   "nbconvert_exporter": "python",
   "pygments_lexer": "ipython3",
   "version": "3.12.6"
  }
 },
 "nbformat": 4,
 "nbformat_minor": 5
}
