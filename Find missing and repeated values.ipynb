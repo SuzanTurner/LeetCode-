{
 "cells": [
  {
   "cell_type": "code",
   "execution_count": 7,
   "id": "81effeef-b06f-464b-86c8-b36171ad395f",
   "metadata": {},
   "outputs": [],
   "source": [
    "from collections import Counter\n",
    "from typing import List"
   ]
  },
  {
   "cell_type": "code",
   "execution_count": 53,
   "id": "8ebf75ee-4724-42c6-93fe-3afaa4a22fd1",
   "metadata": {},
   "outputs": [
    {
     "name": "stdout",
     "output_type": "stream",
     "text": [
      "{2: 1, 3: 1, 1: 2}\n",
      "[1, 1]\n"
     ]
    }
   ],
   "source": [
    "class Solution:\n",
    "    def findMissingAndRepeatedValues(self, grid: List[List[int]]) -> List[int]:\n",
    "        count = {}\n",
    "        repeated = 0\n",
    "        missing = 0\n",
    "        for i in grid:\n",
    "            for j in i:\n",
    "                count[j] = count.get(j, 0) + 1 #counts occurence of j \n",
    "        print(count)\n",
    "\n",
    "        for i in range(1, len(grid) ** 2 + 1):\n",
    "            if i in count and count[i] == 2:\n",
    "                repeated +=1\n",
    "            elif i not in count:\n",
    "                missing +=1\n",
    "        return [repeated, missing]\n",
    "\n",
    "sol = Solution()\n",
    "grid = [[2,3],[1,1]]\n",
    "result = sol.findMissingAndRepeatedValues(grid)\n",
    "print(result)"
   ]
  },
  {
   "cell_type": "code",
   "execution_count": 29,
   "id": "4b710397-7e77-46ea-a26a-feaca2452bea",
   "metadata": {},
   "outputs": [
    {
     "name": "stdout",
     "output_type": "stream",
     "text": [
      "{1: 1, 2: 1, 3: 1, 4: 1, 6: 2, 7: 1, 8: 1, 9: 1}\n",
      "[6, 5]\n"
     ]
    }
   ],
   "source": [
    "def find_repeating_and_missing(grid):\n",
    "    n = len(grid)\n",
    "    N = n * n \n",
    "\n",
    "    count = {}  \n",
    "    repeating, missing = -1, -1\n",
    "\n",
    "    for row in grid:\n",
    "        for num in row:\n",
    "            count[num] = count.get(num, 0) + 1\n",
    "    print(count)\n",
    "            \n",
    "    for i in range(1, N + 1):\n",
    "        if i in count and count[i] == 2:\n",
    "            repeating = i \n",
    "        elif i not in count:\n",
    "            missing = i  \n",
    "\n",
    "    return [repeating, missing]\n",
    "\n",
    "\n",
    "grid = [[1, 2, 3], [4, 6, 6], [7, 8, 9]]\n",
    "print(find_repeating_and_missing(grid))  \n"
   ]
  },
  {
   "cell_type": "code",
   "execution_count": 49,
   "id": "e1ed33e3-3fa9-41af-b490-b94b04e4498a",
   "metadata": {},
   "outputs": [
    {
     "name": "stdout",
     "output_type": "stream",
     "text": [
      "2\n"
     ]
    }
   ],
   "source": [
    "\n",
    "d = {\"cat\":2, \"dog\":3, \"animal\":8}\n",
    "print(d[\"cat\"])"
   ]
  },
  {
   "cell_type": "code",
   "execution_count": null,
   "id": "3559a224-a33d-4bbd-91e2-cb3998c4439c",
   "metadata": {},
   "outputs": [],
   "source": []
  }
 ],
 "metadata": {
  "kernelspec": {
   "display_name": "Python 3 (ipykernel)",
   "language": "python",
   "name": "python3"
  },
  "language_info": {
   "codemirror_mode": {
    "name": "ipython",
    "version": 3
   },
   "file_extension": ".py",
   "mimetype": "text/x-python",
   "name": "python",
   "nbconvert_exporter": "python",
   "pygments_lexer": "ipython3",
   "version": "3.12.6"
  }
 },
 "nbformat": 4,
 "nbformat_minor": 5
}
