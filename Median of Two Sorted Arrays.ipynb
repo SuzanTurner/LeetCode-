{
 "cells": [
  {
   "cell_type": "code",
   "execution_count": 1,
   "id": "91104cc4-decb-4b99-a6d2-e7e12ed16e2c",
   "metadata": {},
   "outputs": [],
   "source": [
    "from typing import List\n",
    "class Solution:\n",
    "    def findMedianSortedArrays(self, nums1: List[int], nums2: List[int]) -> float:\n",
    "        m = 0\n",
    "        nums = sorted(nums1 + nums2)\n",
    "        print(nums)\n",
    "        if len(nums) % 2 == 1:\n",
    "            return float(nums[len(nums) // 2])\n",
    "        else:\n",
    "            m1 = (nums[len(nums) // 2])\n",
    "            m2 = (nums[(len(nums) // 2) - 1])\n",
    "            print(m1,m2)\n",
    "            return (m1 + m2) / 2"
   ]
  },
  {
   "cell_type": "code",
   "execution_count": null,
   "id": "b164ee71-ee62-41cb-9026-2404353297a6",
   "metadata": {},
   "outputs": [],
   "source": []
  }
 ],
 "metadata": {
  "kernelspec": {
   "display_name": "Python 3 (ipykernel)",
   "language": "python",
   "name": "python3"
  },
  "language_info": {
   "codemirror_mode": {
    "name": "ipython",
    "version": 3
   },
   "file_extension": ".py",
   "mimetype": "text/x-python",
   "name": "python",
   "nbconvert_exporter": "python",
   "pygments_lexer": "ipython3",
   "version": "3.12.6"
  }
 },
 "nbformat": 4,
 "nbformat_minor": 5
}
