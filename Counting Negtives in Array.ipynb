{
 "cells": [
  {
   "cell_type": "code",
   "execution_count": 2,
   "id": "19399720-b058-4dad-bc68-4a1de6f37da5",
   "metadata": {},
   "outputs": [],
   "source": [
    "from typing import List"
   ]
  },
  {
   "cell_type": "code",
   "execution_count": 5,
   "id": "474edd9f-1a96-4d99-8c07-fe18e3d1cbe5",
   "metadata": {},
   "outputs": [
    {
     "name": "stdout",
     "output_type": "stream",
     "text": [
      "4\n",
      "3\n",
      "2\n",
      "-1\n",
      "3\n",
      "2\n",
      "1\n",
      "-1\n",
      "1\n",
      "1\n",
      "-1\n",
      "-2\n",
      "-1\n",
      "-1\n",
      "-2\n",
      "-3\n",
      "None\n"
     ]
    }
   ],
   "source": [
    "class Solution:\n",
    "    def countNegatives(self, grid: List[List[int]]) -> int:\n",
    "        n = []\n",
    "        for i in grid:\n",
    "            for j in i:\n",
    "                if j < 0 :\n",
    "                    n.append(j)\n",
    "        return le\n",
    "\n",
    "sol = Solution()\n",
    "grid = [[4,3,2,-1],[3,2,1,-1],[1,1,-1,-2],[-1,-1,-2,-3]]\n",
    "result = sol.countNegatives(grid)\n",
    "print(result)"
   ]
  },
  {
   "cell_type": "code",
   "execution_count": null,
   "id": "65463262-4c7f-47d8-8d3c-21fb4372dc66",
   "metadata": {},
   "outputs": [],
   "source": []
  }
 ],
 "metadata": {
  "kernelspec": {
   "display_name": "Python 3 (ipykernel)",
   "language": "python",
   "name": "python3"
  },
  "language_info": {
   "codemirror_mode": {
    "name": "ipython",
    "version": 3
   },
   "file_extension": ".py",
   "mimetype": "text/x-python",
   "name": "python",
   "nbconvert_exporter": "python",
   "pygments_lexer": "ipython3",
   "version": "3.12.6"
  }
 },
 "nbformat": 4,
 "nbformat_minor": 5
}
