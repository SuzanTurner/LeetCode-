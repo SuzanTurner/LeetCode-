{
 "cells": [
  {
   "cell_type": "code",
   "execution_count": 14,
   "id": "7200110b-5f75-4f88-b926-b6be15606caf",
   "metadata": {},
   "outputs": [
    {
     "name": "stdout",
     "output_type": "stream",
     "text": [
      "3\n",
      "0\n"
     ]
    }
   ],
   "source": [
    "# Uses Sliding window Technique\n",
    "\n",
    "class Solution:\n",
    "    def minimumRecolors(self, blocks: str, k: int) -> int:\n",
    "        min_ops = white = blocks[:k].count('W')\n",
    "        print(min_ops)\n",
    "        for i in range(k, len(blocks)):\n",
    "            if blocks[i - k] == 'W':\n",
    "                white -= 1\n",
    "            if blocks[i] == 'W':\n",
    "                white += 1\n",
    "            \n",
    "            min_ops = min(min_ops, white)\n",
    "        \n",
    "        return min_ops\n",
    "\n",
    "sol = Solution()\n",
    "blocks = \"WBWBWWBWWWBBBBBB\"\n",
    "k = 5\n",
    "result = sol.minimumRecolors(blocks, k)\n",
    "print(result)"
   ]
  },
  {
   "cell_type": "code",
   "execution_count": 6,
   "id": "5e1fd1ef-50b2-42bc-937b-cd4c27cbd654",
   "metadata": {},
   "outputs": [],
   "source": []
  },
  {
   "cell_type": "code",
   "execution_count": null,
   "id": "a04ebd1d-5984-47bc-9c14-49d25a7f596b",
   "metadata": {},
   "outputs": [],
   "source": []
  }
 ],
 "metadata": {
  "kernelspec": {
   "display_name": "Python 3 (ipykernel)",
   "language": "python",
   "name": "python3"
  },
  "language_info": {
   "codemirror_mode": {
    "name": "ipython",
    "version": 3
   },
   "file_extension": ".py",
   "mimetype": "text/x-python",
   "name": "python",
   "nbconvert_exporter": "python",
   "pygments_lexer": "ipython3",
   "version": "3.12.6"
  }
 },
 "nbformat": 4,
 "nbformat_minor": 5
}
